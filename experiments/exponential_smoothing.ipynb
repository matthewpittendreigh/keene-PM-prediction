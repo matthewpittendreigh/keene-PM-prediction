{
 "cells": [
  {
   "cell_type": "code",
   "execution_count": null,
   "metadata": {},
   "outputs": [],
   "source": [
    "def single_exponential_smoothing(smoothing_constant, y_list, s2, mode='Hunter'):\n",
    "    smoothed_list = [s2]\n",
    "\n",
    "    if mode == 'Hunter':\n",
    "        for i in range(1, len(y_list)-1):\n",
    "            smoothed_value = smoothing_constant * y_list[i] + (1-smoothing_constant) * smoothed_list[-1]\n",
    "            smoothed_list.append(smoothed_value)\n",
    "    elif mode == 'Roberts':\n",
    "        for i in range(1, len(y_list)-1):\n",
    "            smoothed_value = smoothing_constant * y_list[i+1] + (1-smoothing_constant) * smoothed_list[-1]\n",
    "            smoothed_list.append(smoothed_value)\n",
    "    else:\n",
    "        raise ValueError('Mode not recognized')\n",
    "        \n",
    "    return smoothed_list"
   ]
  },
  {
   "cell_type": "code",
   "execution_count": null,
   "metadata": {},
   "outputs": [],
   "source": [
    "y = [2, 3, 5, 7, 8, 7, 7, 10, 9, 5, 3, 2, 2, 1]\n",
    "\n",
    "less_smoothed = single_exponential_smoothing(0.1, y, y[0])\n",
    "print(less_smoothed)\n",
    "\n",
    "smoothed = single_exponential_smoothing(0.5, y, y[0])\n",
    "print(smoothed)\n",
    "\n",
    "more_smoothed = single_exponential_smoothing(0.9, y, y[0])\n",
    "print(more_smoothed)\n",
    "\n",
    "import matplotlib.pyplot as plt\n",
    "\n",
    "fig, ax = plt.subplots()\n",
    "\n",
    "ax.plot(range(1, len(y)+1), y, label='Original Observation')\n",
    "ax.plot(range(2, len(y)+1), less_smoothed, label='0.1 Smoothing Constant')\n",
    "ax.plot(range(2, len(y)+1), smoothed, label='0.5 Smoothing Constant')\n",
    "ax.plot(range(2, len(y)+1), more_smoothed, label='0.9 Smoothing Constant')\n",
    "\n",
    "ax.set_title('Single Exponential Smoothing (Hunter)')\n",
    "ax.legend()\n",
    "\n",
    "plt.show()"
   ]
  },
  {
   "cell_type": "code",
   "execution_count": null,
   "metadata": {},
   "outputs": [],
   "source": [
    "y = [2, 3, 5, 7, 8, 7, 7, 10, 9, 5, 3, 2, 2, 1]\n",
    "\n",
    "less_smoothed = single_exponential_smoothing(0.1, y, y[0], mode='Roberts')\n",
    "print(less_smoothed)\n",
    "\n",
    "smoothed = single_exponential_smoothing(0.5, y, y[0], mode='Roberts')\n",
    "print(smoothed)\n",
    "\n",
    "more_smoothed = single_exponential_smoothing(0.9, y, y[0], mode='Roberts')\n",
    "print(more_smoothed)\n",
    "\n",
    "import matplotlib.pyplot as plt\n",
    "\n",
    "fig, ax = plt.subplots()\n",
    "\n",
    "ax.plot(range(1, len(y)+1), y, label='Original Observation')\n",
    "ax.plot(range(2, len(y)+1), less_smoothed, label='0.1 Smoothing Constant')\n",
    "ax.plot(range(2, len(y)+1), smoothed, label='0.5 Smoothing Constant')\n",
    "ax.plot(range(2, len(y)+1), more_smoothed, label='0.9 Smoothing Constant')\n",
    "\n",
    "ax.set_title('Single Exponential Smoothing (Roberts)')\n",
    "ax.legend()\n",
    "\n",
    "plt.show()"
   ]
  }
 ],
 "metadata": {
  "kernelspec": {
   "display_name": "venv",
   "language": "python",
   "name": "python3"
  },
  "language_info": {
   "codemirror_mode": {
    "name": "ipython",
    "version": 3
   },
   "file_extension": ".py",
   "mimetype": "text/x-python",
   "name": "python",
   "nbconvert_exporter": "python",
   "pygments_lexer": "ipython3",
   "version": "3.11.5"
  }
 },
 "nbformat": 4,
 "nbformat_minor": 2
}
