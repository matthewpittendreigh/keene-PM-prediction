{
 "cells": [
  {
   "cell_type": "code",
   "execution_count": 1,
   "metadata": {},
   "outputs": [],
   "source": [
    "# global imports\n",
    "import numpy as np\n",
    "import pandas as pd\n",
    "import tensorflow as tf"
   ]
  },
  {
   "cell_type": "code",
   "execution_count": 2,
   "metadata": {},
   "outputs": [],
   "source": [
    "# instantiate pathway variables\n",
    "projectDir = 'D:\\mattp\\Documents\\School\\SeniorYear\\DataAnalysis'\n",
    "\n",
    "dataDir = projectDir + '\\WaterStreetPA_WthrMETAR_SNOW-2018.csv'\n",
    "\n",
    "# read in data\n",
    "Data = pd.read_csv(dataDir,header=0)"
   ]
  },
  {
   "cell_type": "code",
   "execution_count": 3,
   "metadata": {
    "scrolled": true
   },
   "outputs": [
    {
     "name": "stdout",
     "output_type": "stream",
     "text": [
      "Index(['Unnamed: 0', 'datetime', 'created_at', 'PM25', 'Date', 'temp',\n",
      "       'dewpoint', 'RH', 'windDIR', 'windMPH', 'precip', 'mslp', 'visibility',\n",
      "       'gust', 'wxcodes', '(top) Snow Depth (in)', '(middle) Snow Depth (in)',\n",
      "       '(bottom) Snow Depth (in)', '(top) Snow Temp. (deg. F)',\n",
      "       '(middle) Snow Temp. (deg. F)', '(bottom) Snow Temp. (deg. F)',\n",
      "       '(top) Snow Density (%)', '(middle) Snow Density (%)',\n",
      "       '(bottom) Snow Density (%)', 'Date w/o Time', 'Hour',\n",
      "       'Forecasted from 0 UTC', 'FEW', 'SCT', 'BKN', 'OVC', 'VV', 'Clouds',\n",
      "       'Clds1000', 'Clds2000', 'Clds3000', 'Clds4000', 'Clds5000', 'Clds6000',\n",
      "       'Clds7000', 'Clds8000', 'Clds9000', 'Clds10000'],\n",
      "      dtype='object')\n"
     ]
    },
    {
     "data": {
      "text/plain": [
       "'2018-02-22 17:55:54'"
      ]
     },
     "execution_count": 3,
     "metadata": {},
     "output_type": "execute_result"
    }
   ],
   "source": [
    "Data.shape\n",
    "print(Data.columns)\n",
    "Data['Clds10000'][30000:30050]\n",
    "Data.datetime.values[1]\n",
    "#features = pd.concat([dtEmumeratedDf, encodedWindDirDf, Data.temperatureF, Data.dewpointF, Data.humidityPCNT, Data.wind_speedMPH, Data.wind_gustsMPH, Data.pressureIN, Data.precipIN,Data.PM25],axis=1)"
   ]
  },
  {
   "cell_type": "code",
   "execution_count": 4,
   "metadata": {},
   "outputs": [],
   "source": [
    "# data preprocessing\n",
    "\n",
    "# process datetime\n",
    "import datetime as dt\n",
    "dtParsed = [0 for i in range(Data.shape[0])]\n",
    "for i in range(Data.shape[0]):\n",
    "    dtParsed[i] = dt.datetime.strptime(Data.datetime.values[i], '%Y-%m-%d %H:%M:%S')\n",
    "\n",
    "# enumerate time of day\n",
    "dtEnumerated = [0 for i in range(Data.shape[0])]\n",
    "for i in range(Data.shape[0]):\n",
    "    dtEnumerated[i] = dtParsed[i].hour*3600 + dtParsed[i].minute*60 + dtParsed[i].second\n",
    "dtEmumeratedDf = pd.DataFrame(dtEnumerated)\n",
    "\n",
    "# drop out bad rows\n",
    "Data.reset_index(drop=True, inplace=True)\n",
    "    \n",
    "# combine features and output for scaling\n",
    "features = pd.concat([dtEmumeratedDf, Data.temp, Data.dewpoint, Data.RH, \n",
    "                    Data.windDIR, Data.windMPH, Data.precip, Data.mslp,\n",
    "                    Data.visibility, Data.gust, Data['(top) Snow Depth (in)'],\n",
    "                    Data['(middle) Snow Depth (in)'], Data['(bottom) Snow Depth (in)'],\n",
    "                    Data['(top) Snow Temp. (deg. F)'], Data['(middle) Snow Temp. (deg. F)'],\n",
    "                    Data['(bottom) Snow Temp. (deg. F)'], Data['(top) Snow Density (%)'],\n",
    "                    Data['(middle) Snow Density (%)'], Data['(bottom) Snow Density (%)'],\n",
    "                    Data.FEW, Data.SCT, Data.BKN, Data.OVC, Data.VV, Data.Clouds, \n",
    "                    Data.Clds1000, Data.Clds2000, Data.Clds3000, Data.Clds4000, Data.Clds5000,\n",
    "                    Data.Clds6000, Data.Clds7000, Data.Clds8000, Data.Clds9000, Data.Clds10000],axis=1)"
   ]
  },
  {
   "cell_type": "code",
   "execution_count": 5,
   "metadata": {},
   "outputs": [],
   "source": [
    "features.fillna(0, inplace = True)\n",
    "(Data.PM25).fillna(0, inplace = True)\n",
    "\n",
    "# scale features to adjust for BAM benchmarks\n",
    "coefficients = [1, 0.136378, 1, 1, 1, 1, -0.041879, 1, -0.495839]\n",
    "'''for i in range(0,len(coefficients)-1):\n",
    "     features.iloc[:][i] = (features.iloc[:][i]).multiply(coefficients[i], fill_value=0)'''\n",
    "#features.loc[:][1] = (features.iloc[:][1]).multiply(coefficients[1], fill_value=0)\n",
    "\n",
    "# scaling for normalization\n",
    "from sklearn.preprocessing import MinMaxScaler\n",
    "sc = MinMaxScaler()\n",
    "scaled = sc.fit_transform(features)\n",
    "\n",
    "# seperate scaled data(X) and output(y)\n",
    "X = features\n",
    "y = (Data.PM25).multiply(0.401344, fill_value=0)\n",
    "\n",
    "(features.temp).fillna(0, inplace = True)"
   ]
  },
  {
   "cell_type": "code",
   "execution_count": 6,
   "metadata": {},
   "outputs": [],
   "source": [
    "# split the data into training and testing sets\n",
    "from sklearn.model_selection import train_test_split\n",
    "X_train, X_test, y_train, y_test = train_test_split(X, y, test_size=0.2)"
   ]
  },
  {
   "cell_type": "code",
   "execution_count": 7,
   "metadata": {},
   "outputs": [
    {
     "name": "stderr",
     "output_type": "stream",
     "text": [
      "Using TensorFlow backend.\n"
     ]
    }
   ],
   "source": [
    "# instantiate regressor model\n",
    "from keras import Sequential\n",
    "from keras.layers import Dense\n",
    "def build_regressor():\n",
    "    regressor = Sequential()\n",
    "    regressor.add(Dense(100, input_dim=35, kernel_initializer='normal', activation='relu'))\n",
    "    regressor.add(Dense(100, kernel_initializer='normal', activation='relu'))\n",
    "    regressor.add(Dense(75, kernel_initializer='normal', activation='relu'))\n",
    "    regressor.add(Dense(50, kernel_initializer='normal', activation='relu'))\n",
    "    regressor.add(Dense(1, kernel_initializer='normal'))\n",
    "    regressor.compile(optimizer='adam', loss='mean_squared_error',  metrics=['mae','accuracy'])\n",
    "    return regressor\n",
    "\n",
    "# select batch size, epochs, validation set size\n",
    "from keras.wrappers.scikit_learn import KerasRegressor\n",
    "regressor = KerasRegressor(build_fn=build_regressor, batch_size=64,epochs=50,validation_split=0.2)"
   ]
  },
  {
   "cell_type": "code",
   "execution_count": 8,
   "metadata": {
    "scrolled": true
   },
   "outputs": [
    {
     "name": "stdout",
     "output_type": "stream",
     "text": [
      "WARNING:tensorflow:From C:\\Users\\mattp\\Anaconda3\\lib\\site-packages\\keras\\backend\\tensorflow_backend.py:74: The name tf.get_default_graph is deprecated. Please use tf.compat.v1.get_default_graph instead.\n",
      "\n",
      "WARNING:tensorflow:From C:\\Users\\mattp\\Anaconda3\\lib\\site-packages\\keras\\backend\\tensorflow_backend.py:517: The name tf.placeholder is deprecated. Please use tf.compat.v1.placeholder instead.\n",
      "\n",
      "WARNING:tensorflow:From C:\\Users\\mattp\\Anaconda3\\lib\\site-packages\\keras\\backend\\tensorflow_backend.py:4115: The name tf.random_normal is deprecated. Please use tf.random.normal instead.\n",
      "\n",
      "WARNING:tensorflow:From C:\\Users\\mattp\\Anaconda3\\lib\\site-packages\\keras\\optimizers.py:790: The name tf.train.Optimizer is deprecated. Please use tf.compat.v1.train.Optimizer instead.\n",
      "\n",
      "WARNING:tensorflow:From C:\\Users\\mattp\\Anaconda3\\lib\\site-packages\\keras\\backend\\tensorflow_backend.py:986: The name tf.assign_add is deprecated. Please use tf.compat.v1.assign_add instead.\n",
      "\n",
      "WARNING:tensorflow:From C:\\Users\\mattp\\Anaconda3\\lib\\site-packages\\keras\\backend\\tensorflow_backend.py:973: The name tf.assign is deprecated. Please use tf.compat.v1.assign instead.\n",
      "\n",
      "Train on 211849 samples, validate on 52963 samples\n",
      "Epoch 1/50\n",
      "211849/211849 [==============================] - 14s 66us/step - loss: 14.9553 - mean_absolute_error: 2.6558 - acc: 9.4407e-06 - val_loss: 18.9302 - val_mean_absolute_error: 2.5437 - val_acc: 0.0000e+00\n",
      "Epoch 2/50\n",
      "211849/211849 [==============================] - 13s 60us/step - loss: 13.2113 - mean_absolute_error: 2.5198 - acc: 4.7203e-06 - val_loss: 19.4639 - val_mean_absolute_error: 2.3586 - val_acc: 0.0000e+00\n",
      "Epoch 3/50\n",
      "211849/211849 [==============================] - 14s 65us/step - loss: 12.0402 - mean_absolute_error: 2.3575 - acc: 1.8881e-05 - val_loss: 16.1885 - val_mean_absolute_error: 2.1954 - val_acc: 0.0000e+00\n",
      "Epoch 4/50\n",
      "211849/211849 [==============================] - 14s 64us/step - loss: 10.9696 - mean_absolute_error: 2.2028 - acc: 1.8881e-05 - val_loss: 15.3064 - val_mean_absolute_error: 2.0768 - val_acc: 1.8881e-05\n",
      "Epoch 5/50\n",
      "211849/211849 [==============================] - 12s 58us/step - loss: 11.1017 - mean_absolute_error: 2.2220 - acc: 2.8322e-05 - val_loss: 15.3705 - val_mean_absolute_error: 2.0937 - val_acc: 0.0000e+00\n",
      "Epoch 6/50\n",
      "211849/211849 [==============================] - 10s 49us/step - loss: 10.0425 - mean_absolute_error: 2.0769 - acc: 3.7763e-05 - val_loss: 15.4616 - val_mean_absolute_error: 2.0443 - val_acc: 3.7762e-05\n",
      "Epoch 7/50\n",
      "211849/211849 [==============================] - 13s 64us/step - loss: 9.8411 - mean_absolute_error: 2.0501 - acc: 4.2483e-05 - val_loss: 15.0841 - val_mean_absolute_error: 2.0106 - val_acc: 7.5524e-05\n",
      "Epoch 8/50\n",
      "211849/211849 [==============================] - 14s 65us/step - loss: 9.6750 - mean_absolute_error: 2.0244 - acc: 3.3042e-05 - val_loss: 14.7406 - val_mean_absolute_error: 1.9620 - val_acc: 5.6643e-05\n",
      "Epoch 9/50\n",
      "211849/211849 [==============================] - 12s 58us/step - loss: 9.7758 - mean_absolute_error: 2.0450 - acc: 2.3602e-05 - val_loss: 14.7470 - val_mean_absolute_error: 1.9902 - val_acc: 0.0000e+00\n",
      "Epoch 10/50\n",
      "211849/211849 [==============================] - 15s 71us/step - loss: 9.3599 - mean_absolute_error: 1.9817 - acc: 1.8881e-05 - val_loss: 18.9699 - val_mean_absolute_error: 2.3976 - val_acc: 0.0000e+00\n",
      "Epoch 11/50\n",
      "211849/211849 [==============================] - 13s 63us/step - loss: 9.6995 - mean_absolute_error: 2.0320 - acc: 6.1364e-05 - val_loss: 15.1152 - val_mean_absolute_error: 2.0340 - val_acc: 3.7762e-05\n",
      "Epoch 12/50\n",
      "211849/211849 [==============================] - 18s 85us/step - loss: 9.3499 - mean_absolute_error: 1.9802 - acc: 4.2483e-05 - val_loss: 15.9783 - val_mean_absolute_error: 2.0514 - val_acc: 9.4406e-05\n",
      "Epoch 13/50\n",
      "211849/211849 [==============================] - 22s 104us/step - loss: 9.2281 - mean_absolute_error: 1.9635 - acc: 4.7203e-05 - val_loss: 15.2984 - val_mean_absolute_error: 1.9022 - val_acc: 9.4406e-05\n",
      "Epoch 14/50\n",
      "211849/211849 [==============================] - 12s 58us/step - loss: 9.0669 - mean_absolute_error: 1.9428 - acc: 5.1924e-05 - val_loss: 14.1814 - val_mean_absolute_error: 1.8822 - val_acc: 7.5524e-05\n",
      "Epoch 15/50\n",
      "211849/211849 [==============================] - 11s 53us/step - loss: 8.8738 - mean_absolute_error: 1.9165 - acc: 4.7203e-06 - val_loss: 14.1310 - val_mean_absolute_error: 1.8190 - val_acc: 0.0000e+00\n",
      "Epoch 16/50\n",
      "211849/211849 [==============================] - 12s 54us/step - loss: 8.8688 - mean_absolute_error: 1.9142 - acc: 0.0000e+00 - val_loss: 14.0607 - val_mean_absolute_error: 1.8582 - val_acc: 0.0000e+00\n",
      "Epoch 17/50\n",
      "211849/211849 [==============================] - 11s 51us/step - loss: 8.9361 - mean_absolute_error: 1.9277 - acc: 0.0000e+00 - val_loss: 14.3976 - val_mean_absolute_error: 1.9351 - val_acc: 0.0000e+00\n",
      "Epoch 18/50\n",
      "211849/211849 [==============================] - 11s 50us/step - loss: 8.6069 - mean_absolute_error: 1.8785 - acc: 0.0000e+00 - val_loss: 14.0036 - val_mean_absolute_error: 1.8108 - val_acc: 0.0000e+00\n",
      "Epoch 19/50\n",
      "211849/211849 [==============================] - 10s 48us/step - loss: 8.7534 - mean_absolute_error: 1.9014 - acc: 4.7203e-06 - val_loss: 14.6365 - val_mean_absolute_error: 1.9563 - val_acc: 0.0000e+00\n",
      "Epoch 20/50\n",
      "211849/211849 [==============================] - 11s 53us/step - loss: 8.4622 - mean_absolute_error: 1.8597 - acc: 1.4161e-05 - val_loss: 13.7236 - val_mean_absolute_error: 1.8375 - val_acc: 0.0000e+00\n",
      "Epoch 21/50\n",
      "211849/211849 [==============================] - 11s 51us/step - loss: 8.5705 - mean_absolute_error: 1.8690 - acc: 2.3602e-05 - val_loss: 14.0264 - val_mean_absolute_error: 1.7881 - val_acc: 7.5524e-05\n",
      "Epoch 22/50\n",
      "211849/211849 [==============================] - 10s 49us/step - loss: 8.4751 - mean_absolute_error: 1.8627 - acc: 1.4161e-05 - val_loss: 13.6623 - val_mean_absolute_error: 1.8269 - val_acc: 9.4406e-05\n",
      "Epoch 23/50\n",
      "211849/211849 [==============================] - 11s 50us/step - loss: 8.3155 - mean_absolute_error: 1.8372 - acc: 3.3042e-05 - val_loss: 13.8552 - val_mean_absolute_error: 1.8700 - val_acc: 0.0000e+00\n",
      "Epoch 24/50\n",
      "211849/211849 [==============================] - 12s 56us/step - loss: 8.3818 - mean_absolute_error: 1.8473 - acc: 3.3042e-05 - val_loss: 14.6909 - val_mean_absolute_error: 1.8843 - val_acc: 0.0000e+00\n",
      "Epoch 25/50\n",
      "211849/211849 [==============================] - 11s 50us/step - loss: 8.2167 - mean_absolute_error: 1.8249 - acc: 1.4161e-05 - val_loss: 14.1513 - val_mean_absolute_error: 1.7814 - val_acc: 1.3217e-04\n",
      "Epoch 26/50\n",
      "211849/211849 [==============================] - 11s 51us/step - loss: 8.2325 - mean_absolute_error: 1.8269 - acc: 5.6644e-05 - val_loss: 13.5309 - val_mean_absolute_error: 1.7303 - val_acc: 7.5524e-05\n",
      "Epoch 27/50\n",
      "211849/211849 [==============================] - 10s 49us/step - loss: 8.1837 - mean_absolute_error: 1.8198 - acc: 1.8881e-05 - val_loss: 13.9162 - val_mean_absolute_error: 1.7977 - val_acc: 0.0000e+00\n",
      "Epoch 28/50\n",
      "211849/211849 [==============================] - 11s 50us/step - loss: 8.0272 - mean_absolute_error: 1.7950 - acc: 3.7763e-05 - val_loss: 13.2062 - val_mean_absolute_error: 1.7528 - val_acc: 5.6643e-05\n",
      "Epoch 29/50\n",
      "211849/211849 [==============================] - 11s 50us/step - loss: 8.0856 - mean_absolute_error: 1.8056 - acc: 4.2483e-05 - val_loss: 14.5440 - val_mean_absolute_error: 2.0373 - val_acc: 0.0000e+00\n",
      "Epoch 30/50\n",
      "211849/211849 [==============================] - 10s 47us/step - loss: 7.9268 - mean_absolute_error: 1.7801 - acc: 4.2483e-05 - val_loss: 13.9556 - val_mean_absolute_error: 1.8290 - val_acc: 3.7762e-05\n",
      "Epoch 31/50\n",
      "211849/211849 [==============================] - 9s 42us/step - loss: 7.9396 - mean_absolute_error: 1.7810 - acc: 4.7203e-05 - val_loss: 13.5857 - val_mean_absolute_error: 1.8636 - val_acc: 3.7762e-05\n",
      "Epoch 32/50\n",
      "211849/211849 [==============================] - 9s 40us/step - loss: 7.9753 - mean_absolute_error: 1.7896 - acc: 4.2483e-05 - val_loss: 13.4363 - val_mean_absolute_error: 1.7926 - val_acc: 0.0000e+00\n",
      "Epoch 33/50\n",
      "211849/211849 [==============================] - 9s 43us/step - loss: 7.8624 - mean_absolute_error: 1.7724 - acc: 3.3042e-05 - val_loss: 13.3534 - val_mean_absolute_error: 1.7374 - val_acc: 1.8881e-05\n"
     ]
    },
    {
     "name": "stdout",
     "output_type": "stream",
     "text": [
      "Epoch 34/50\n",
      "211849/211849 [==============================] - 9s 40us/step - loss: 7.9031 - mean_absolute_error: 1.7762 - acc: 1.4161e-05 - val_loss: 13.1770 - val_mean_absolute_error: 1.7324 - val_acc: 3.7762e-05\n",
      "Epoch 35/50\n",
      "211849/211849 [==============================] - 10s 45us/step - loss: 7.7925 - mean_absolute_error: 1.7614 - acc: 5.6644e-05 - val_loss: 13.2356 - val_mean_absolute_error: 1.7701 - val_acc: 5.6643e-05\n",
      "Epoch 36/50\n",
      "211849/211849 [==============================] - 9s 45us/step - loss: 7.8548 - mean_absolute_error: 1.7708 - acc: 4.2483e-05 - val_loss: 13.2682 - val_mean_absolute_error: 1.7312 - val_acc: 9.4406e-05\n",
      "Epoch 37/50\n",
      "211849/211849 [==============================] - 10s 46us/step - loss: 7.9304 - mean_absolute_error: 1.7801 - acc: 3.3042e-05 - val_loss: 13.5485 - val_mean_absolute_error: 1.7910 - val_acc: 3.7762e-05\n",
      "Epoch 38/50\n",
      "211849/211849 [==============================] - 9s 41us/step - loss: 7.6876 - mean_absolute_error: 1.7473 - acc: 1.8881e-05 - val_loss: 13.3655 - val_mean_absolute_error: 1.7425 - val_acc: 0.0000e+00\n",
      "Epoch 39/50\n",
      "211849/211849 [==============================] - 9s 43us/step - loss: 7.9097 - mean_absolute_error: 1.7803 - acc: 4.2483e-05 - val_loss: 13.2813 - val_mean_absolute_error: 1.7581 - val_acc: 9.4406e-05\n",
      "Epoch 40/50\n",
      "211849/211849 [==============================] - 9s 40us/step - loss: 7.9689 - mean_absolute_error: 1.7893 - acc: 6.1364e-05 - val_loss: 13.4327 - val_mean_absolute_error: 1.8316 - val_acc: 0.0000e+00\n",
      "Epoch 41/50\n",
      "211849/211849 [==============================] - 9s 40us/step - loss: 7.8117 - mean_absolute_error: 1.7670 - acc: 3.3042e-05 - val_loss: 13.9129 - val_mean_absolute_error: 1.8247 - val_acc: 3.7762e-05\n",
      "Epoch 42/50\n",
      "211849/211849 [==============================] - 9s 45us/step - loss: 7.6815 - mean_absolute_error: 1.7461 - acc: 4.7203e-05 - val_loss: 14.6894 - val_mean_absolute_error: 1.8493 - val_acc: 0.0000e+00\n",
      "Epoch 43/50\n",
      "211849/211849 [==============================] - 9s 44us/step - loss: 7.7640 - mean_absolute_error: 1.7595 - acc: 7.5525e-05 - val_loss: 13.5422 - val_mean_absolute_error: 1.7306 - val_acc: 1.5105e-04\n",
      "Epoch 44/50\n",
      "211849/211849 [==============================] - 9s 44us/step - loss: 7.6623 - mean_absolute_error: 1.7449 - acc: 7.5525e-05 - val_loss: 12.9869 - val_mean_absolute_error: 1.6832 - val_acc: 7.5524e-05\n",
      "Epoch 45/50\n",
      "211849/211849 [==============================] - 9s 40us/step - loss: 7.6942 - mean_absolute_error: 1.7498 - acc: 1.2273e-04 - val_loss: 13.5881 - val_mean_absolute_error: 1.8468 - val_acc: 9.4406e-05\n",
      "Epoch 46/50\n",
      "211849/211849 [==============================] - 9s 44us/step - loss: 7.5699 - mean_absolute_error: 1.7291 - acc: 8.0246e-05 - val_loss: 13.1462 - val_mean_absolute_error: 1.7242 - val_acc: 3.7762e-05\n",
      "Epoch 47/50\n",
      "211849/211849 [==============================] - 8s 40us/step - loss: 7.7194 - mean_absolute_error: 1.7511 - acc: 6.1364e-05 - val_loss: 13.1929 - val_mean_absolute_error: 1.7348 - val_acc: 5.6643e-05\n",
      "Epoch 48/50\n",
      "211849/211849 [==============================] - 9s 44us/step - loss: 7.6568 - mean_absolute_error: 1.7410 - acc: 4.2483e-05 - val_loss: 12.8258 - val_mean_absolute_error: 1.6770 - val_acc: 1.6993e-04\n",
      "Epoch 49/50\n",
      "211849/211849 [==============================] - 9s 41us/step - loss: 7.5324 - mean_absolute_error: 1.7244 - acc: 6.6085e-05 - val_loss: 13.0727 - val_mean_absolute_error: 1.7158 - val_acc: 9.4406e-05\n",
      "Epoch 50/50\n",
      "211849/211849 [==============================] - 9s 43us/step - loss: 7.5926 - mean_absolute_error: 1.7328 - acc: 5.1924e-05 - val_loss: 12.8958 - val_mean_absolute_error: 1.7027 - val_acc: 0.0000e+00\n"
     ]
    }
   ],
   "source": [
    "# train model\n",
    "log = regressor.fit(X_train,y_train)"
   ]
  },
  {
   "cell_type": "code",
   "execution_count": 12,
   "metadata": {},
   "outputs": [
    {
     "data": {
      "image/png": "[encoded data removed]",
      "text/plain": [
       "<Figure size 432x288 with 1 Axes>"
      ]
     },
     "metadata": {
      "needs_background": "light"
     },
     "output_type": "display_data"
    }
   ],
   "source": [
    "import matplotlib.pyplot as plt\n",
    "\n",
    "# loss plot\n",
    "plt.plot(log.history['loss'])\n",
    "plt.plot(log.history['val_loss'])\n",
    "plt.title('Model Loss')\n",
    "plt.ylabel('loss')\n",
    "plt.xlabel('epoch')\n",
    "plt.legend(['train', 'validation'], loc='upper right')\n",
    "plt.show()"
   ]
  },
  {
   "cell_type": "code",
   "execution_count": 13,
   "metadata": {},
   "outputs": [],
   "source": [
    "# make predictions\n",
    "y_pred = regressor.predict(X_test)"
   ]
  },
  {
   "cell_type": "code",
   "execution_count": 18,
   "metadata": {},
   "outputs": [
    {
     "data": {
      "image/png": "[encoded data removed]",
      "text/plain": [
       "<Figure size 720x360 with 2 Axes>"
      ]
     },
     "metadata": {
      "needs_background": "light"
     },
     "output_type": "display_data"
    }
   ],
   "source": [
    "# plot predicitons\n",
    "import matplotlib.pyplot as plt\n",
    "from matplotlib.colors import ListedColormap\n",
    "from matplotlib import cm\n",
    "# configure scatterplot\n",
    "fig, (ax1, ax2) = plt.subplots(1, 2, figsize=(10,5))\n",
    "fig.subplots_adjust(wspace=0.25)\n",
    "ax1.scatter(y_test, y_pred,5)\n",
    "ax1.plot([y_test.min(), y_test.max()], [y_test.min(), y_test.max()], 'k--', lw=4)\n",
    "ax1.set_xlabel('Measured')\n",
    "ax1.set_ylabel('Predicted')\n",
    "ax1.set_ylim([0,50])\n",
    "ax1.set_xlim([0,50])\n",
    "ax1.set_title('Measured vs Prediction Scatterplot')\n",
    "\n",
    "# configure 2d histogram\n",
    "# cmap initialization\n",
    "#heatMap = cm.get_cmap('hot_r',9500)\n",
    "#newColors = heatMap(np.linspace(0, 1,9500))\n",
    "#grey = np.array([0.941, 0.941, 0.941,1])\n",
    "#newColors[1:19,:] = grey\n",
    "#newHeatMap = ListedColormap(newColors)\n",
    "# histogram initialization\n",
    "'''hist = ax2.hist2d(y_test,y_pred,bins=[10,10],cmap='hot_r')\n",
    "ax2.set_ylim([0,0.3])\n",
    "ax2.set_xlim([0,0.27])\n",
    "fig.colorbar(hist[3], ax = ax2)\n",
    "ax2.set_xlabel('Measured')\n",
    "ax2.set_ylabel('Predicted')\n",
    "ax2.set_title('Measured vs Prediction Histogram')'''\n",
    "\n",
    "plt.show()"
   ]
  },
  {
   "cell_type": "code",
   "execution_count": null,
   "metadata": {},
   "outputs": [],
   "source": []
  }
 ],
 "metadata": {
  "kernelspec": {
   "display_name": "Python 3",
   "language": "python",
   "name": "python3"
  },
  "language_info": {
   "codemirror_mode": {
    "name": "ipython",
    "version": 3
   },
   "file_extension": ".py",
   "mimetype": "text/x-python",
   "name": "python",
   "nbconvert_exporter": "python",
   "pygments_lexer": "ipython3",
   "version": "3.7.3"
  }
 },
 "nbformat": 4,
 "nbformat_minor": 2
}
