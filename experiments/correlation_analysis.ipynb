{
 "cells": [
  {
   "cell_type": "markdown",
   "metadata": {},
   "source": [
    "# Read CSV File to DataFrame"
   ]
  },
  {
   "cell_type": "code",
   "execution_count": 1,
   "metadata": {},
   "outputs": [],
   "source": [
    "# imports\n",
    "import pandas as pd\n",
    "\n",
    "# data path\n",
    "dataPath = 'D:\\mattp\\Documents\\School\\SeniorYear\\DataAnalysis\\WaterStreetPA_WthrMETAR_SNOW-2018.csv'\n",
    "\n",
    "# read in data\n",
    "data = pd.read_csv(dataPath, header=0)"
   ]
  },
  {
   "cell_type": "code",
   "execution_count": 3,
   "metadata": {},
   "outputs": [
    {
     "name": "stdout",
     "output_type": "stream",
     "text": [
      "-\tPM25\ttemp\tdewpoint\tRH\twindDIR\twindMPH\t\n",
      "PM25\t0.9999999999999998\t0.05469732251596301\t0.14713840374842888\t0.21379502375061504\t-0.24904728292741432\t-0.27042229698954884\t\n",
      "temp\t0.054697322515963\t1.0\t0.8972390859364481\t-0.2790735677219729\t0.06362086554875131\t0.07147433656596741\t\n",
      "dewpoint\t0.14713840374842888\t0.8972390859364483\t1.0\t0.16191705789510644\t-0.11406250718115025\t-0.13016149467262744\t\n",
      "RH\t0.21379502375061502\t-0.2790735677219729\t0.16191705789510644\t1.0\t-0.4093180442619223\t-0.4616089946683588\t\n",
      "windDIR\t-0.24904728292741432\t0.06362086554875131\t-0.11406250718115025\t-0.40931804426192225\t0.9999999999999998\t0.7564732275896429\t\n",
      "windMPH\t-0.2704222969895488\t0.07147433656596741\t-0.13016149467262744\t-0.46160899466835886\t0.7564732275896429\t1.0\t\n",
      "PM25\t0.9999999999999998\n",
      "temp\t0.05469732251596301\n",
      "dewpoint\t0.14713840374842888\n",
      "RH\t0.21379502375061504\n",
      "windDIR\t-0.24904728292741432\n",
      "windMPH\t-0.27042229698954884\n",
      "precip\t-0.03267452616753579\n",
      "mslp\t0.08885525139462493\n",
      "visibility\t-0.13845063454093443\n",
      "gust\t-0.06506201848401692\n",
      "(top) Snow Depth (in)\t-0.06614090444666658\n",
      "(middle) Snow Depth (in)\t-0.08567400261385669\n",
      "(bottom) Snow Depth (in)\t-0.06311191499627866\n",
      "(top) Snow Temp. (deg. F)\t-0.03596400172577804\n",
      "(middle) Snow Temp. (deg. F)\t-0.010805618152725367\n",
      "(bottom) Snow Temp. (deg. F)\t0.006942230714570693\n",
      "(top) Snow Density (%)\t0.007420733246965504\n",
      "(middle) Snow Density (%)\t0.050649805830262414\n",
      "(bottom) Snow Density (%)\t0.03776651593821109\n",
      "Hour\t-0.19075519245433556\n"
     ]
    }
   ],
   "source": [
    "# List of numerical features with no null values\n",
    "all_fields = ['PM25', 'temp', 'dewpoint', 'RH', 'windDIR', 'windMPH', 'precip', 'mslp', 'visibility', 'gust',\n",
    "              '(top) Snow Depth (in)', '(middle) Snow Depth (in)', '(bottom) Snow Depth (in)', \n",
    "              '(top) Snow Temp. (deg. F)', '(middle) Snow Temp. (deg. F)', '(bottom) Snow Temp. (deg. F)', \n",
    "              '(top) Snow Density (%)', '(middle) Snow Density (%)', '(bottom) Snow Density (%)', 'Hour']\n",
    "\n",
    "# Create table of correlations\n",
    "fields = ['PM25', 'temp', 'dewpoint', 'RH', 'windDIR', 'windMPH']\n",
    "\n",
    "# Print table header\n",
    "header_string = '-\\t'\n",
    "for field in fields:\n",
    "    header_string += field + '\\t'\n",
    "print(header_string)\n",
    "\n",
    "for field1 in fields:\n",
    "    # Row header\n",
    "    row_string = field1 + '\\t'\n",
    "    for field2 in fields:\n",
    "        correlation = data[field1].corr(data[field2])\n",
    "        row_string += str(correlation) + '\\t'\n",
    "    print(row_string)\n",
    "\n",
    "\n",
    "# Create listing of correlations with PM 2.5\n",
    "for field in all_fields:\n",
    "    row_string = field + '\\t'\n",
    "    correlation = data['PM25'].corr(data[field])\n",
    "    row_string += str(correlation)\n",
    "    print(row_string)"
   ]
  },
  {
   "cell_type": "code",
   "execution_count": 8,
   "metadata": {},
   "outputs": [
    {
     "name": "stdout",
     "output_type": "stream",
     "text": [
      "-0.18219309757815255\n"
     ]
    }
   ],
   "source": [
    "import datetime as dt\n",
    "\n",
    "datetime_df = data.get('datetime')\n",
    "datetime_list = datetime_df.tolist()\n",
    "dt_obj = dt.datetime.strptime(datetime_list[0], '%Y-%m-%d %H:%M:%S')\n",
    "datetime_objects = [dt.datetime.strptime(x, '%Y-%m-%d %H:%M:%S') for x in datetime_list]\n",
    "\n",
    "hour = [x.hour for x in datetime_objects]\n",
    "hour_df = pd.DataFrame({'hour': hour})\n",
    "\n",
    "hour_correlation = correlation = data['PM25'].corr(hour_df['hour'])\n",
    "print(hour_correlation)"
   ]
  }
 ],
 "metadata": {
  "kernelspec": {
   "display_name": "venv",
   "language": "python",
   "name": "python3"
  },
  "language_info": {
   "codemirror_mode": {
    "name": "ipython",
    "version": 3
   },
   "file_extension": ".py",
   "mimetype": "text/x-python",
   "name": "python",
   "nbconvert_exporter": "python",
   "pygments_lexer": "ipython3",
   "version": "3.11.5"
  }
 },
 "nbformat": 4,
 "nbformat_minor": 2
}
