{
 "cells": [
  {
   "cell_type": "markdown",
   "metadata": {},
   "source": [
    "# Read CSV File to DataFrame"
   ]
  },
  {
   "cell_type": "code",
   "execution_count": 2,
   "metadata": {},
   "outputs": [],
   "source": [
    "# imports\n",
    "import pandas as pd\n",
    "\n",
    "# data path\n",
    "dataPath = 'D:\\mattp\\Documents\\School\\SeniorYear\\DataAnalysis\\WaterStreetPA_WthrMETAR_SNOW-2018.csv'\n",
    "\n",
    "# read in data\n",
    "data = pd.read_csv(dataPath, header=0)"
   ]
  },
  {
   "cell_type": "code",
   "execution_count": 8,
   "metadata": {},
   "outputs": [
    {
     "name": "stdout",
     "output_type": "stream",
     "text": [
      "                          fields  corr_to_PM25\n",
      "0                           PM25      1.000000\n",
      "1                           temp      0.054697\n",
      "2                       dewpoint      0.147138\n",
      "3                             RH      0.213795\n",
      "4                        windDIR     -0.249047\n",
      "5                        windMPH     -0.270422\n",
      "6                         precip     -0.032675\n",
      "7                           mslp      0.088855\n",
      "8                     visibility     -0.138451\n",
      "9                           gust     -0.065062\n",
      "10         (top) Snow Depth (in)     -0.066141\n",
      "11      (middle) Snow Depth (in)     -0.085674\n",
      "12      (bottom) Snow Depth (in)     -0.063112\n",
      "13     (top) Snow Temp. (deg. F)     -0.035964\n",
      "14  (middle) Snow Temp. (deg. F)     -0.010806\n",
      "15  (bottom) Snow Temp. (deg. F)      0.006942\n",
      "16        (top) Snow Density (%)      0.007421\n",
      "17     (middle) Snow Density (%)      0.050650\n",
      "18     (bottom) Snow Density (%)      0.037767\n",
      "19                          Hour     -0.190755\n"
     ]
    }
   ],
   "source": [
    "# List of numerical features with no null values\n",
    "all_fields = ['PM25', 'temp', 'dewpoint', 'RH', 'windDIR', 'windMPH', 'precip', 'mslp', 'visibility', 'gust',\n",
    "              '(top) Snow Depth (in)', '(middle) Snow Depth (in)', '(bottom) Snow Depth (in)', \n",
    "              '(top) Snow Temp. (deg. F)', '(middle) Snow Temp. (deg. F)', '(bottom) Snow Temp. (deg. F)', \n",
    "              '(top) Snow Density (%)', '(middle) Snow Density (%)', '(bottom) Snow Density (%)', 'Hour']\n",
    "\n",
    "pm_correlation = [data['PM25'].corr(data[field]) for field in all_fields]\n",
    "display_df = pd.DataFrame({'fields': all_fields, 'corr_to_PM25': pm_correlation})\n",
    "print(display_df)\n"
   ]
  },
  {
   "cell_type": "code",
   "execution_count": 6,
   "metadata": {},
   "outputs": [
    {
     "name": "stdout",
     "output_type": "stream",
     "text": [
      "-0.18219309757815255\n"
     ]
    }
   ],
   "source": [
    "import datetime as dt\n",
    "\n",
    "datetime_df = data.get('datetime')\n",
    "datetime_list = datetime_df.tolist()\n",
    "dt_obj = dt.datetime.strptime(datetime_list[0], '%Y-%m-%d %H:%M:%S')\n",
    "datetime_objects = [dt.datetime.strptime(x, '%Y-%m-%d %H:%M:%S') for x in datetime_list]\n",
    "\n",
    "hour = [x.hour for x in datetime_objects]\n",
    "hour_df = pd.DataFrame({'hour': hour})\n",
    "\n",
    "hour_correlation = data['PM25'].corr(hour_df['hour'])\n",
    "print(hour_correlation)"
   ]
  }
 ],
 "metadata": {
  "kernelspec": {
   "display_name": "venv",
   "language": "python",
   "name": "python3"
  },
  "language_info": {
   "codemirror_mode": {
    "name": "ipython",
    "version": 3
   },
   "file_extension": ".py",
   "mimetype": "text/x-python",
   "name": "python",
   "nbconvert_exporter": "python",
   "pygments_lexer": "ipython3",
   "version": "3.11.5"
  }
 },
 "nbformat": 4,
 "nbformat_minor": 2
}
