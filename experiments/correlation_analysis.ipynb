{
 "cells": [
  {
   "cell_type": "markdown",
   "metadata": {},
   "source": [
    "# Read CSV File to DataFrame"
   ]
  },
  {
   "cell_type": "code",
   "execution_count": null,
   "metadata": {},
   "outputs": [],
   "source": [
    "# imports\n",
    "import pandas as pd\n",
    "\n",
    "# data path\n",
    "dataPath = 'D:\\mattp\\Documents\\School\\SeniorYear\\DataAnalysis\\WaterStreetPA_WthrMETAR_SNOW-2018.csv'\n",
    "\n",
    "# read in data\n",
    "data = pd.read_csv(dataPath, header=0)"
   ]
  },
  {
   "cell_type": "code",
   "execution_count": null,
   "metadata": {},
   "outputs": [],
   "source": [
    "# Create table of correlations\n",
    "fields = ['PM25', 'temp', 'dewpoint', 'RH', 'windDIR', 'windMPH']\n",
    "\n",
    "# Print table header\n",
    "header_string = '-\\t'\n",
    "for field in fields:\n",
    "    header_string += field + '\\t'\n",
    "print(header_string)\n",
    "\n",
    "for field1 in fields:\n",
    "    # Row header\n",
    "    row_string = field1 + '\\t'\n",
    "    for field2 in fields:\n",
    "        correlation = data[field1].corr(data[field2])\n",
    "        row_string += str(correlation) + '\\t'\n",
    "    print(row_string)"
   ]
  }
 ],
 "metadata": {
  "kernelspec": {
   "display_name": "venv",
   "language": "python",
   "name": "python3"
  },
  "language_info": {
   "codemirror_mode": {
    "name": "ipython",
    "version": 3
   },
   "file_extension": ".py",
   "mimetype": "text/x-python",
   "name": "python",
   "nbconvert_exporter": "python",
   "pygments_lexer": "ipython3",
   "version": "3.11.5"
  }
 },
 "nbformat": 4,
 "nbformat_minor": 2
}
