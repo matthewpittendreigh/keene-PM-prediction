{
 "cells": [
  {
   "cell_type": "markdown",
   "metadata": {},
   "source": [
    "## Read CSV File to DataFrame"
   ]
  },
  {
   "cell_type": "code",
   "execution_count": null,
   "metadata": {},
   "outputs": [],
   "source": [
    "# imports\n",
    "import pandas as pd\n",
    "\n",
    "# data path\n",
    "dataPath = 'D:\\mattp\\Documents\\School\\SeniorYear\\DataAnalysis\\WaterStreetPA_WthrMETAR_SNOW-2018.csv'\n",
    "\n",
    "# read in data\n",
    "data = pd.read_csv(dataPath, header=0)"
   ]
  },
  {
   "cell_type": "markdown",
   "metadata": {},
   "source": [
    "## Preprocessing Info for Each Feature"
   ]
  },
  {
   "cell_type": "code",
   "execution_count": null,
   "metadata": {},
   "outputs": [],
   "source": [
    "# listing of preprocessing info: type/processing method, null values, null value type, number of null values \n",
    "row_num_df = data.get('Unnamed: 0')\n",
    "row_num_list = row_num_df.tolist()\n",
    "\n",
    "# process datetime\n",
    "import datetime as dt\n",
    "\n",
    "datetime_df = data.get('datetime')\n",
    "datetime_list = datetime_df.tolist()\n",
    "dt_obj = dt.datetime.strptime(datetime_list[0], '%Y-%m-%d %H:%M:%S')\n",
    "\n",
    "pm_df = data.get('PM25')\n",
    "pm_list = pm_df.tolist()\n",
    "\n",
    "temp_df = data.get('temp')\n",
    "temp_list = temp_df.tolist()"
   ]
  },
  {
   "cell_type": "markdown",
   "metadata": {},
   "source": [
    "## Summary Stats for Each Feature"
   ]
  },
  {
   "cell_type": "code",
   "execution_count": null,
   "metadata": {},
   "outputs": [],
   "source": [
    "# listing of summary stats: min, max, mean, median, std dev\n",
    "import numpy\n",
    "\n",
    "# row num range\n",
    "row_min = min(row_num_list)\n",
    "row_max = max(row_num_list)\n",
    "print('Row Range: {}-{}'.format(row_min, row_max))\n",
    "\n",
    "# datetime range\n",
    "datetime_min = min(datetime_list)\n",
    "datetime_max = max(datetime_list)\n",
    "print('Datetime Range: {} to {}'.format(datetime_min, datetime_max))"
   ]
  },
  {
   "cell_type": "markdown",
   "metadata": {},
   "source": [
    "### PM 2.5 Summary Stats"
   ]
  },
  {
   "cell_type": "code",
   "execution_count": null,
   "metadata": {},
   "outputs": [],
   "source": [
    "import matplotlib.pyplot as plt\n",
    "\n",
    "# PM2.5 summary stats\n",
    "pm_min = min(pm_list)\n",
    "pm_max = max(pm_list)\n",
    "pm_mean = numpy.average(pm_list)\n",
    "pm_median = numpy.median(pm_list)\n",
    "pm_stddev = numpy.std(pm_list)\n",
    "print('PM 2.5 Summary Stats- \\nmin:{}\\nmax:{}\\nmean:{}\\nmedian:{}\\nstd dev:{}'.format(pm_min, pm_max, pm_mean, pm_median, pm_stddev))\n",
    "\n",
    "plt.hist(pm_list, bins=140, range=(0,1400))\n",
    "plt.show()\n",
    "\n",
    "plt.hist(pm_list, bins=50, range=(0,50))\n",
    "plt.show()\n",
    "\n",
    "plt.hist(pm_list, bins=50, range=(50,100))\n",
    "plt.show()\n",
    "\n",
    "plt.hist(pm_list, bins=13, range=(100,1400))\n",
    "plt.show()\n",
    "\n",
    "# TODO: Plot histogram of the highest PM 2.5 reading of each day"
   ]
  },
  {
   "cell_type": "markdown",
   "metadata": {},
   "source": [
    "### Temperature Summary Stats"
   ]
  },
  {
   "cell_type": "code",
   "execution_count": null,
   "metadata": {},
   "outputs": [],
   "source": [
    "# Temp summary stats\n",
    "temp_min = min(temp_list)\n",
    "temp_max = max(temp_list)\n",
    "temp_mean = numpy.average(temp_list)\n",
    "temp_median = numpy.median(temp_list)\n",
    "temp_stddev = numpy.std(temp_list)\n",
    "print('Temp Summary Stats- \\nmin:{}\\nmax:{}\\nmean:{}\\nmedian:{}\\nstd dev:{}'.format(temp_min, temp_max, temp_mean, temp_median, temp_stddev))\n",
    "\n",
    "plt.hist(temp_list, bins=100)\n",
    "plt.show()"
   ]
  }
 ],
 "metadata": {
  "kernelspec": {
   "display_name": "venv",
   "language": "python",
   "name": "python3"
  },
  "language_info": {
   "codemirror_mode": {
    "name": "ipython",
    "version": 3
   },
   "file_extension": ".py",
   "mimetype": "text/x-python",
   "name": "python",
   "nbconvert_exporter": "python",
   "pygments_lexer": "ipython3",
   "version": "3.11.5"
  }
 },
 "nbformat": 4,
 "nbformat_minor": 2
}
