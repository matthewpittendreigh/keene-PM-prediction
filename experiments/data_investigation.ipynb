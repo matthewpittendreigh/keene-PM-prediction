{
 "cells": [
  {
   "cell_type": "markdown",
   "metadata": {},
   "source": [
    "## Read CSV File to DataFrame"
   ]
  },
  {
   "cell_type": "code",
   "execution_count": null,
   "metadata": {},
   "outputs": [],
   "source": [
    "# imports\n",
    "import pandas as pd\n",
    "\n",
    "# data path\n",
    "dataPath = 'D:\\mattp\\Documents\\School\\SeniorYear\\DataAnalysis\\WaterStreetPA_WthrMETAR_SNOW-2018.csv'\n",
    "\n",
    "# read in data\n",
    "data = pd.read_csv(dataPath, header=0)"
   ]
  },
  {
   "cell_type": "markdown",
   "metadata": {},
   "source": [
    "## Preprocessing Info for Each Feature"
   ]
  },
  {
   "cell_type": "code",
   "execution_count": null,
   "metadata": {},
   "outputs": [],
   "source": [
    "# listing of preprocessing info: type/processing method, null values, null value type, number of null values \n",
    "row_num = data.get('Unnamed: 0')\n",
    "row_list = row_num.tolist()\n",
    "\n",
    "# process datetime\n",
    "import datetime as dt\n",
    "\n",
    "datetime = data.get('datetime')\n",
    "datetime_list = datetime.tolist()\n",
    "dt_obj = dt.datetime.strptime(datetime_list[0], '%Y-%m-%d %H:%M:%S')"
   ]
  },
  {
   "cell_type": "markdown",
   "metadata": {},
   "source": [
    "## Summary Stats for Each Feature"
   ]
  },
  {
   "cell_type": "code",
   "execution_count": null,
   "metadata": {},
   "outputs": [],
   "source": [
    "# listing of summary stats: min, max, mean, median, std dev\n",
    "\n",
    "# row num range\n",
    "row_min = min(row_list)\n",
    "row_max = max(row_list)\n",
    "print('Row Range: {}-{}'.format(row_min, row_max))\n",
    "\n",
    "# datetime range\n",
    "datetime_min = min(datetime_list)\n",
    "datetime_max = max(datetime_list)\n",
    "print('Datetime Range: {} to {}'.format(datetime_min, datetime_max))"
   ]
  }
 ],
 "metadata": {
  "kernelspec": {
   "display_name": "venv",
   "language": "python",
   "name": "python3"
  },
  "language_info": {
   "codemirror_mode": {
    "name": "ipython",
    "version": 3
   },
   "file_extension": ".py",
   "mimetype": "text/x-python",
   "name": "python",
   "nbconvert_exporter": "python",
   "pygments_lexer": "ipython3",
   "version": "3.11.5"
  }
 },
 "nbformat": 4,
 "nbformat_minor": 2
}
