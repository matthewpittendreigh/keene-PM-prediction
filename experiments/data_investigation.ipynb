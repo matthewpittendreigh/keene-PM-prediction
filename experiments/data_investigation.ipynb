{
 "cells": [
  {
   "cell_type": "markdown",
   "metadata": {},
   "source": [
    "# Read CSV File to DataFrame"
   ]
  },
  {
   "cell_type": "code",
   "execution_count": null,
   "metadata": {},
   "outputs": [],
   "source": [
    "# imports\n",
    "import pandas as pd\n",
    "\n",
    "# data path\n",
    "dataPath = 'D:\\mattp\\Documents\\School\\SeniorYear\\DataAnalysis\\WaterStreetPA_WthrMETAR_SNOW-2018.csv'\n",
    "\n",
    "# read in data\n",
    "data = pd.read_csv(dataPath, header=0)"
   ]
  },
  {
   "cell_type": "markdown",
   "metadata": {},
   "source": [
    "# Investigate Each Feature"
   ]
  },
  {
   "cell_type": "markdown",
   "metadata": {},
   "source": [
    "## Row Number"
   ]
  },
  {
   "cell_type": "code",
   "execution_count": null,
   "metadata": {},
   "outputs": [],
   "source": [
    "# listing of preprocessing info: type/processing method, null values, null value type, number of null values \n",
    "row_num_df = data.get('Unnamed: 0')\n",
    "row_num_list = row_num_df.tolist()\n",
    "\n",
    "# listing of summary stats: min, max, mean, median, std dev\n",
    "import numpy\n",
    "\n",
    "# row num range\n",
    "row_min = min(row_num_list)\n",
    "row_max = max(row_num_list)\n",
    "print('Row Range: {}-{}'.format(row_min, row_max))"
   ]
  },
  {
   "cell_type": "markdown",
   "metadata": {},
   "source": [
    "## Datetime"
   ]
  },
  {
   "cell_type": "code",
   "execution_count": null,
   "metadata": {},
   "outputs": [],
   "source": [
    "import datetime as dt\n",
    "import matplotlib.pyplot as plt\n",
    "\n",
    "datetime_df = data.get('datetime')\n",
    "datetime_list = datetime_df.tolist()\n",
    "dt_obj = dt.datetime.strptime(datetime_list[0], '%Y-%m-%d %H:%M:%S')\n",
    "datetime_objects = [dt.datetime.strptime(x, '%Y-%m-%d %H:%M:%S') for x in datetime_list]\n",
    "\n",
    "# datetime range\n",
    "datetime_min = min(datetime_list)\n",
    "datetime_max = max(datetime_list)\n",
    "print('Datetime Range: {} to {}'.format(datetime_min, datetime_max))\n",
    "\n",
    "# Time delta plots\n",
    "time_deltas = []\n",
    "for i in range(row_max):\n",
    "    delta = datetime_objects[i+1] - datetime_objects[i]\n",
    "    detla_seconds = delta.total_seconds()\n",
    "    time_deltas.append(detla_seconds)\n",
    "    '''if detla_seconds > 1000:\n",
    "        print(i)\n",
    "        print(detla_seconds)'''\n",
    "\n",
    "delta_min = min(time_deltas)\n",
    "delta_max = max(time_deltas)\n",
    "print('Delta Range: {}-{}'.format(delta_min, delta_max))\n",
    "\n",
    "plt.hist(time_deltas, bins=75, range=(0, 75))\n",
    "plt.show()\n",
    "\n",
    "plt.hist(time_deltas, bins=100, range=(.01, 50))\n",
    "plt.show()\n",
    "\n",
    "plt.hist(time_deltas, bins=20, range=(75, 85))\n",
    "plt.show()\n",
    "\n",
    "plt.hist(time_deltas, bins=100, range=(85, 1000))\n",
    "plt.show()\n",
    "\n",
    "plt.hist(time_deltas, bins=100, range=(1000, 150000))\n",
    "plt.show()"
   ]
  },
  {
   "cell_type": "markdown",
   "metadata": {},
   "source": [
    "## PM 2.5"
   ]
  },
  {
   "cell_type": "code",
   "execution_count": null,
   "metadata": {},
   "outputs": [],
   "source": [
    "pm_df = data.get('PM25')\n",
    "\n",
    "# Check for null values\n",
    "is_null_values = pm_df.isnull().values.any()\n",
    "print('Null Values: {}\\n'.format(is_null_values))\n",
    "\n",
    "# PM 2.5 summary stats\n",
    "df_min = pm_df.min()\n",
    "df_max = pm_df.max()\n",
    "df_mean = pm_df.mean()\n",
    "df_median = pm_df.median()\n",
    "df_stddev = pm_df.std()\n",
    "print('PM 2.5 Summary Stats- \\nmin:{}\\nmax:{}\\nmean:{}\\nmedian:{}\\nstd dev:{}\\n'.format(df_min, df_max, df_mean, df_median, df_stddev))\n",
    "\n",
    "df_mode = pm_df.mode()\n",
    "df_mode = df_mode.get(0, 1)\n",
    "num_mode = pm_df.value_counts()[df_mode]\n",
    "print('Mode Value: {}'.format(df_mode))\n",
    "print('Mode Occurences: {}'.format(num_mode))\n",
    "\n",
    "# PM 2.5 plots\n",
    "plt.hist(pm_df, bins=140, range=(0,1400))\n",
    "plt.show()\n",
    "\n",
    "plt.hist(pm_df, bins=50, range=(0,50))\n",
    "plt.show()\n",
    "\n",
    "plt.hist(pm_df, bins=50, range=(50,100))\n",
    "plt.show()\n",
    "\n",
    "plt.hist(pm_df, bins=13, range=(100,1400))\n",
    "plt.show()\n",
    "\n",
    "# TODO: Plot histogram of the highest PM 2.5 reading of each day"
   ]
  },
  {
   "cell_type": "markdown",
   "metadata": {},
   "source": [
    "## Temperature"
   ]
  },
  {
   "cell_type": "code",
   "execution_count": null,
   "metadata": {},
   "outputs": [],
   "source": [
    "temp_df = data.get('temp')\n",
    "temp_list = temp_df.tolist()\n",
    "\n",
    "# Check for null values\n",
    "is_null_values = temp_df.isnull().values.any()\n",
    "print('Null Values: {}\\n'.format(is_null_values))\n",
    "\n",
    "# Temp summary stats\n",
    "df_min = temp_df.min()\n",
    "df_max = temp_df.max()\n",
    "df_mean = temp_df.mean()\n",
    "df_median = temp_df.median()\n",
    "df_stddev = temp_df.std()\n",
    "print('Temperature Summary Stats- \\nmin:{}\\nmax:{}\\nmean:{}\\nmedian:{}\\nstd dev:{}\\n'.format(df_min, df_max, df_mean, df_median, df_stddev))\n",
    "\n",
    "df_mode = temp_df.mode()\n",
    "df_mode = df_mode.get(0, 1)\n",
    "num_mode = temp_df.value_counts()[df_mode]\n",
    "print('Mode Value: {}'.format(df_mode))\n",
    "print('Mode Occurences: {}\\n'.format(num_mode))\n",
    "\n",
    "print('Value counts:\\n{}'.format(temp_df.value_counts()))\n",
    "\n",
    "# Temp plots\n",
    "plt.hist(temp_df, bins=100)\n",
    "plt.show()"
   ]
  },
  {
   "cell_type": "markdown",
   "metadata": {},
   "source": [
    "## Dewpoint"
   ]
  },
  {
   "cell_type": "code",
   "execution_count": null,
   "metadata": {},
   "outputs": [],
   "source": [
    "dewpoint_df = data.get('dewpoint')\n",
    "dewpoint_list = dewpoint_df.tolist()\n",
    "\n",
    "# Check for null values\n",
    "is_null_values = dewpoint_df.isnull().values.any()\n",
    "print('Null Values: {}\\n'.format(is_null_values))\n",
    "\n",
    "# Dewpoint summary stats\n",
    "df_min = dewpoint_df.min()\n",
    "df_max = dewpoint_df.max()\n",
    "df_mean = dewpoint_df.mean()\n",
    "df_median = dewpoint_df.median()\n",
    "df_stddev = dewpoint_df.std()\n",
    "print('Dewpoint Summary Stats- \\nmin:{}\\nmax:{}\\nmean:{}\\nmedian:{}\\nstd dev:{}\\n'.format(df_min, df_max, df_mean, df_median, df_stddev))\n",
    "\n",
    "df_mode = dewpoint_df.mode()\n",
    "df_mode = df_mode.get(0, 1)\n",
    "num_mode = dewpoint_df.value_counts()[df_mode]\n",
    "print('Mode Value: {}'.format(df_mode))\n",
    "print('Mode Occurences: {}\\n'.format(num_mode))\n",
    "\n",
    "print('Value counts:\\n{}'.format(dewpoint_df.value_counts()))\n",
    "\n",
    "# Dewpoint plots\n",
    "plt.hist(dewpoint_df, bins=100)\n",
    "plt.show()"
   ]
  },
  {
   "cell_type": "markdown",
   "metadata": {},
   "source": [
    "## Relative Humidity"
   ]
  },
  {
   "cell_type": "code",
   "execution_count": null,
   "metadata": {},
   "outputs": [],
   "source": [
    "rh_df = data.get('RH')\n",
    "rh_list = rh_df.tolist()\n",
    "\n",
    "# Check for null values\n",
    "is_null_values = rh_df.isnull().values.any()\n",
    "print('Null Values: {}\\n'.format(is_null_values))\n",
    "\n",
    "# RH summary stats\n",
    "df_min = rh_df.min()\n",
    "df_max = rh_df.max()\n",
    "df_mean = rh_df.mean()\n",
    "df_median = rh_df.median()\n",
    "df_stddev = rh_df.std()\n",
    "print('Relative Humidity Summary Stats- \\nmin:{}\\nmax:{}\\nmean:{}\\nmedian:{}\\nstd dev:{}\\n'.format(df_min, df_max, df_mean, df_median, df_stddev))\n",
    "\n",
    "df_mode = rh_df.mode()\n",
    "df_mode = df_mode.get(0, 1)\n",
    "num_mode = rh_df.value_counts()[df_mode]\n",
    "print('Mode Value: {}'.format(df_mode))\n",
    "print('Mode Occurences: {}\\n'.format(num_mode))\n",
    "\n",
    "print('Value counts:\\n{}'.format(rh_df.value_counts()))\n",
    "\n",
    "# RH plots\n",
    "plt.hist(rh_df, bins=100)\n",
    "plt.show()"
   ]
  },
  {
   "cell_type": "markdown",
   "metadata": {},
   "source": [
    "## Wind Direction"
   ]
  },
  {
   "cell_type": "code",
   "execution_count": null,
   "metadata": {},
   "outputs": [],
   "source": [
    "wind_direction_df = data.get('windDIR')\n",
    "wind_direction_list = wind_direction_df.tolist()\n",
    "\n",
    "# Check for null values\n",
    "is_null_values = wind_direction_df.isnull().values.any()\n",
    "print('Null Values: {}\\n'.format(is_null_values))\n",
    "\n",
    "# Wind direction summary stats\n",
    "df_min = wind_direction_df.min()\n",
    "df_max = wind_direction_df.max()\n",
    "df_mean = wind_direction_df.mean()\n",
    "df_median = wind_direction_df.median()\n",
    "df_stddev = wind_direction_df.std()\n",
    "print('Wind Direction Summary Stats- \\nmin:{}\\nmax:{}\\nmean:{}\\nmedian:{}\\nstd dev:{}\\n'.format(df_min, df_max, df_mean, df_median, df_stddev))\n",
    "\n",
    "df_mode = wind_direction_df.mode()\n",
    "df_mode = df_mode.get(0, 1)\n",
    "num_mode = wind_direction_df.value_counts()[df_mode]\n",
    "print('Mode Value: {}'.format(df_mode))\n",
    "print('Mode Occurences: {}\\n'.format(num_mode))\n",
    "\n",
    "print('Value counts:\\n{}'.format(wind_direction_df.value_counts()))\n",
    "\n",
    "# Wind direction plots\n",
    "plt.hist(wind_direction_df, bins=100)\n",
    "plt.show()"
   ]
  },
  {
   "cell_type": "markdown",
   "metadata": {},
   "source": [
    "### Wind Direction Notes:\n",
    "It seems like 0 may be a place holder value for when there is no wind direction reading."
   ]
  },
  {
   "cell_type": "markdown",
   "metadata": {},
   "source": [
    "## Wind Speed"
   ]
  },
  {
   "cell_type": "code",
   "execution_count": null,
   "metadata": {},
   "outputs": [],
   "source": [
    "wind_speed_df = data.get('windMPH')\n",
    "wind_speed_list = wind_speed_df.tolist()\n",
    "\n",
    "# Check for null values\n",
    "is_null_values = wind_speed_df.isnull().values.any()\n",
    "print('Null Values: {}\\n'.format(is_null_values))\n",
    "\n",
    "# Wind speed summary stats\n",
    "df_min = wind_speed_df.min()\n",
    "df_max = wind_speed_df.max()\n",
    "df_mean = wind_speed_df.mean()\n",
    "df_median = wind_speed_df.median()\n",
    "df_stddev = wind_speed_df.std()\n",
    "print('Wind Speed Summary Stats- \\nmin:{}\\nmax:{}\\nmean:{}\\nmedian:{}\\nstd dev:{}\\n'.format(df_min, df_max, df_mean, df_median, df_stddev))\n",
    "\n",
    "df_mode = wind_speed_df.mode()\n",
    "df_mode = df_mode.get(0, 1)\n",
    "num_mode = wind_speed_df.value_counts()[df_mode]\n",
    "print('Mode Value: {}'.format(df_mode))\n",
    "print('Mode Occurences: {}\\n'.format(num_mode))\n",
    "\n",
    "print('Value counts:\\n{}'.format(wind_speed_df.value_counts()))\n",
    "\n",
    "# Wind speed plots\n",
    "plt.hist(wind_speed_df, bins=40, range=(0,20))\n",
    "plt.show()\n",
    "\n",
    "plt.hist(wind_speed_df, bins=30, range=(20,35))\n",
    "plt.show()"
   ]
  },
  {
   "cell_type": "markdown",
   "metadata": {},
   "source": [
    "## Precipitation"
   ]
  },
  {
   "cell_type": "code",
   "execution_count": null,
   "metadata": {},
   "outputs": [],
   "source": [
    "precipitation_df = data.get('precip')\n",
    "mslp_list = precipitation_df.tolist()\n",
    "\n",
    "# Check for null values\n",
    "is_null_values = precipitation_df.isnull().values.any()\n",
    "print('Null Values: {}\\n'.format(is_null_values))\n",
    "\n",
    "# Precipitation summary stats\n",
    "df_min = precipitation_df.min()\n",
    "df_max = precipitation_df.max()\n",
    "df_mean = precipitation_df.mean()\n",
    "df_median = precipitation_df.median()\n",
    "df_stddev = precipitation_df.std()\n",
    "print('Precipitation Summary Stats- \\nmin:{}\\nmax:{}\\nmean:{}\\nmedian:{}\\nstd dev:{}\\n'.format(df_min, df_max, df_mean, df_median, df_stddev))\n",
    "\n",
    "df_mode = precipitation_df.mode()\n",
    "df_mode = df_mode.get(0, 1)\n",
    "num_mode = precipitation_df.value_counts()[df_mode]\n",
    "print('Mode Value: {}'.format(df_mode))\n",
    "print('Mode Occurences: {}\\n'.format(num_mode))\n",
    "\n",
    "print('Value counts (First 20):\\n{}'.format(precipitation_df.value_counts().iloc[:20]))\n",
    "\n",
    "# Precipitation plots\n",
    "plt.hist(precipitation_df, bins=100)\n",
    "plt.show()\n",
    "\n",
    "plt.hist(precipitation_df, bins=100, range=(0, 0.1))\n",
    "plt.show()"
   ]
  },
  {
   "cell_type": "markdown",
   "metadata": {},
   "source": [
    "### Precipitation Notes:\n",
    "Precipitation readings are in increments of 0.01 except for the ~5600 readings at 0.0001. Is this is a miscalibration reading of 0 or an intentional output?"
   ]
  },
  {
   "cell_type": "markdown",
   "metadata": {},
   "source": [
    "## Mean Sea Level Pressure (MSLP)"
   ]
  },
  {
   "cell_type": "code",
   "execution_count": null,
   "metadata": {},
   "outputs": [],
   "source": [
    "mslp_df = data.get('mslp')\n",
    "mslp_list = mslp_df.tolist()\n",
    "\n",
    "# Check for null values\n",
    "is_null_values = mslp_df.isnull().values.any()\n",
    "print('Null Values: {}\\n'.format(is_null_values))\n",
    "\n",
    "# MSLP summary stats\n",
    "df_min = mslp_df.min()\n",
    "df_max = mslp_df.max()\n",
    "df_mean = mslp_df.mean()\n",
    "df_median = mslp_df.median()\n",
    "df_stddev = mslp_df.std()\n",
    "print('Mean Sea Level Pressure Summary Stats- \\nmin:{}\\nmax:{}\\nmean:{}\\nmedian:{}\\nstd dev:{}\\n'.format(df_min, df_max, df_mean, df_median, df_stddev))\n",
    "\n",
    "df_mode = mslp_df.mode()\n",
    "df_mode = df_mode.get(0, 1)\n",
    "num_mode = mslp_df.value_counts()[df_mode]\n",
    "print('Mode Value: {}'.format(df_mode))\n",
    "print('Mode Occurences: {}\\n'.format(num_mode))\n",
    "\n",
    "print('Value counts:\\n{}'.format(mslp_df.value_counts()))\n",
    "\n",
    "# MSLP plots\n",
    "plt.hist(mslp_df, bins=100)\n",
    "plt.show()"
   ]
  },
  {
   "cell_type": "markdown",
   "metadata": {},
   "source": [
    "## Visibility"
   ]
  },
  {
   "cell_type": "code",
   "execution_count": null,
   "metadata": {},
   "outputs": [],
   "source": [
    "visibility_df = data.get('visibility')\n",
    "visibility_list = visibility_df.tolist()\n",
    "\n",
    "# Check for null values\n",
    "is_null_values = visibility_df.isnull().values.any()\n",
    "print('Null Values: {}\\n'.format(is_null_values))\n",
    "\n",
    "# Visibility summary stats\n",
    "df_min = visibility_df.min()\n",
    "df_max = visibility_df.max()\n",
    "df_mean = visibility_df.mean()\n",
    "df_median = visibility_df.median()\n",
    "df_stddev = visibility_df.std()\n",
    "print('Visibility Summary Stats- \\nmin:{}\\nmax:{}\\nmean:{}\\nmedian:{}\\nstd dev:{}\\n'.format(df_min, df_max, df_mean, df_median, df_stddev))\n",
    "\n",
    "df_mode = visibility_df.mode()\n",
    "df_mode = df_mode.get(0, 1)\n",
    "num_mode = visibility_df.value_counts()[df_mode]\n",
    "print('Mode Value: {}'.format(df_mode))\n",
    "print('Mode Occurences: {}\\n'.format(num_mode))\n",
    "\n",
    "print('Value counts:\\n{}'.format(visibility_df.value_counts()))\n",
    "\n",
    "# Visibility plots\n",
    "plt.hist(visibility_df, bins=50)\n",
    "plt.show()\n",
    "\n",
    "plt.hist(visibility_df, bins=50, range=(0, 4))\n",
    "plt.show()"
   ]
  },
  {
   "cell_type": "markdown",
   "metadata": {},
   "source": [
    "### Visibility Notes:\n",
    "Values seem to be mostly stratified by whole numbers from 4-10 and by .5 from .5 to 2. There are however a small number of seemingly random decimal values. "
   ]
  },
  {
   "cell_type": "markdown",
   "metadata": {},
   "source": [
    "## Gust"
   ]
  },
  {
   "cell_type": "code",
   "execution_count": null,
   "metadata": {},
   "outputs": [],
   "source": [
    "gust_df = data.get('gust')\n",
    "gust_list = gust_df.tolist()\n",
    "\n",
    "# Check for null values\n",
    "is_null_values = gust_df.isnull().values.any()\n",
    "print('Null Values: {}\\n'.format(is_null_values))\n",
    "\n",
    "# Gust summary stats\n",
    "df_min = gust_df.min()\n",
    "df_max = gust_df.max()\n",
    "df_mean = gust_df.mean()\n",
    "df_median = gust_df.median()\n",
    "df_stddev = gust_df.std()\n",
    "print('Gust Summary Stats- \\nmin:{}\\nmax:{}\\nmean:{}\\nmedian:{}\\nstd dev:{}\\n'.format(df_min, df_max, df_mean, df_median, df_stddev))\n",
    "\n",
    "df_mode = gust_df.mode()\n",
    "df_mode = df_mode.get(0, 1)\n",
    "num_mode = gust_df.value_counts()[df_mode]\n",
    "print('Mode Value: {}'.format(df_mode))\n",
    "print('Mode Occurences: {}\\n'.format(num_mode))\n",
    "\n",
    "print('Value counts:\\n{}'.format(gust_df.value_counts()))\n",
    "\n",
    "# Gust plots\n",
    "plt.hist(gust_df, bins=100)\n",
    "plt.show()\n",
    "\n",
    "plt.hist(gust_df, bins=100, range=(30,50))\n",
    "plt.show()"
   ]
  },
  {
   "cell_type": "markdown",
   "metadata": {},
   "source": [
    "### Gust Notes:\n",
    "Gust minimum is higher than expected. Over what duration is this recorded?\n",
    "It seems like the gust speed recorder capped out at the max speed of just over 48 mph."
   ]
  },
  {
   "cell_type": "markdown",
   "metadata": {},
   "source": [
    "## Weather Code (WX Code)\n",
    "https://graphical.weather.gov/definitions/defineWxNoTable.html\n",
    "https://www.e-education.psu.edu/files/meteo101/image/Section13/metar_decoding1203.html"
   ]
  },
  {
   "cell_type": "code",
   "execution_count": null,
   "metadata": {},
   "outputs": [],
   "source": [
    "wx_code_df = data.get('wxcodes')\n",
    "wx_code_list = wx_code_df.tolist()\n",
    "\n",
    "# Check for null values\n",
    "is_null_values = wx_code_df.isnull().values.any()\n",
    "print('Null Values: {}'.format(is_null_values))\n",
    "\n",
    "# Display null value\n",
    "print('Null value test df: {}'.format(wx_code_df.get(0)))\n",
    "print('Null value test list: {}'.format(wx_code_list[0]))\n",
    "\n",
    "# Display num and percentage null values\n",
    "num_null = wx_code_df.isna().sum()\n",
    "null_percent = round(num_null/row_max*100, 3)\n",
    "print('Null num: {}, {}%\\n'.format(num_null, null_percent))\n",
    "\n",
    "# WX Code Dictionary\n",
    "# Get all unique codes (by component) in alphabetical order\n",
    "value_counts = wx_code_df.value_counts()\n",
    "\n",
    "code_set = set()\n",
    "for key in value_counts.keys():\n",
    "    code_components = key.split(' ')\n",
    "    for component in code_components:\n",
    "        code_set.add(component)\n",
    "print('Sorted set of WX Code components: {}\\n'.format(sorted(code_set)))\n",
    "\n",
    "codes = {\n",
    "    'BR':'Mist',\n",
    "    'FG':'Fog',\n",
    "    'FZFG':'Freezing Fog',\n",
    "    'HZ':'Haze',\n",
    "    'RA':'Rain',\n",
    "    '+RA':'Heavy Rain',\n",
    "    '-RA':'Light Rain',\n",
    "    'SN':'Snow',\n",
    "    '+SN':'Heavy Snow',\n",
    "    '-SN':'Light Snow',\n",
    "    'SQ':'Squalls',\n",
    "    'TS':'Thunderstorm',\n",
    "    'TSRA':'Thunderstorm and Rain',\n",
    "    '+TSRA':'Thunderstorm and Heavy Rain',\n",
    "    '-TSRA':'Thunderstorm and Light Rain',\n",
    "    'UP':'Unknown Precipitation',\n",
    "    'VCTS':'Thunderstorm in the Vicinity'\n",
    "}\n",
    "\n",
    "key_translations = []\n",
    "for key in value_counts.keys():\n",
    "    translation = []\n",
    "    code_components = key.split(' ')\n",
    "    for component in code_components:\n",
    "        translation.append(codes[component])\n",
    "    key_translations.append(' and '.join(translation))\n",
    "\n",
    "value_counts= value_counts.to_frame()\n",
    "value_counts.insert(0, 'Translation', key_translations)\n",
    "\n",
    "print('Value counts:\\n{}'.format(value_counts))\n",
    "print('Num Categories: {}'.format(len(value_counts)))"
   ]
  },
  {
   "cell_type": "markdown",
   "metadata": {},
   "source": [
    "## Snow Depth"
   ]
  },
  {
   "cell_type": "code",
   "execution_count": null,
   "metadata": {},
   "outputs": [],
   "source": [
    "top_snow_depth_df = data.get('(top) Snow Depth (in)')\n",
    "top_snow_depth_list = top_snow_depth_df.tolist()\n",
    "\n",
    "# Check for null values\n",
    "is_null_values = top_snow_depth_df.isnull().values.any()\n",
    "print('Null Values: {}\\n'.format(is_null_values))\n",
    "\n",
    "# Top Snow Depth summary stats\n",
    "df_min = top_snow_depth_df.min()\n",
    "df_max = top_snow_depth_df.max()\n",
    "df_mean = top_snow_depth_df.mean()\n",
    "df_median = top_snow_depth_df.median()\n",
    "df_stddev = top_snow_depth_df.std()\n",
    "print('Top Snow Depth Summary Stats- \\nmin:{}\\nmax:{}\\nmean:{}\\nmedian:{}\\nstd dev:{}\\n'.format(df_min, df_max, df_mean, df_median, df_stddev))\n",
    "\n",
    "df_mode = top_snow_depth_df.mode()\n",
    "df_mode = df_mode.get(0, 1)\n",
    "num_mode = top_snow_depth_df.value_counts()[df_mode]\n",
    "print('Mode Value: {}'.format(df_mode))\n",
    "print('Mode Occurences: {}\\n'.format(num_mode))\n",
    "\n",
    "print('Value counts:\\n{}'.format(top_snow_depth_df.value_counts()))\n",
    "\n",
    "# Top Snow Depth plots\n",
    "plt.hist(top_snow_depth_df, bins=100)\n",
    "plt.show()\n",
    "\n",
    "plt.hist(top_snow_depth_df, bins=100, range=(.0001, 3))\n",
    "plt.show()\n",
    "\n",
    "plt.hist(top_snow_depth_df, bins=100, range=(2, 3))\n",
    "plt.show()"
   ]
  },
  {
   "cell_type": "code",
   "execution_count": null,
   "metadata": {},
   "outputs": [],
   "source": [
    "middle_snow_depth_df = data.get('(middle) Snow Depth (in)')\n",
    "middle_snow_depth_list = middle_snow_depth_df.tolist()\n",
    "\n",
    "# Check for null values\n",
    "is_null_values = middle_snow_depth_df.isnull().values.any()\n",
    "print('Null Values: {}\\n'.format(is_null_values))\n",
    "\n",
    "# Middle Snow Depth summary stats\n",
    "df_min = middle_snow_depth_df.min()\n",
    "df_max = middle_snow_depth_df.max()\n",
    "df_mean = middle_snow_depth_df.mean()\n",
    "df_median = middle_snow_depth_df.median()\n",
    "df_stddev = middle_snow_depth_df.std()\n",
    "print('Middle Snow Depth Summary Stats- \\nmin:{}\\nmax:{}\\nmean:{}\\nmedian:{}\\nstd dev:{}\\n'.format(df_min, df_max, df_mean, df_median, df_stddev))\n",
    "\n",
    "df_mode = middle_snow_depth_df.mode()\n",
    "df_mode = df_mode.get(0, 1)\n",
    "num_mode = middle_snow_depth_df.value_counts()[df_mode]\n",
    "print('Mode Value: {}'.format(df_mode))\n",
    "print('Mode Occurences: {}\\n'.format(num_mode))\n",
    "\n",
    "print('Value counts:\\n{}'.format(middle_snow_depth_df.value_counts()))\n",
    "\n",
    "# Middle Snow Depth plots\n",
    "plt.hist(middle_snow_depth_df, bins=100)\n",
    "plt.show()\n",
    "\n",
    "plt.hist(middle_snow_depth_df, bins=100, range=(.0001, 6.5))\n",
    "plt.show()"
   ]
  },
  {
   "cell_type": "code",
   "execution_count": null,
   "metadata": {},
   "outputs": [],
   "source": [
    "bottom_snow_depth_df = data.get('(bottom) Snow Depth (in)')\n",
    "bottom_snow_depth_list = middle_snow_depth_df.tolist()\n",
    "\n",
    "# Check for null values\n",
    "is_null_values = bottom_snow_depth_df.isnull().values.any()\n",
    "print('Null Values: {}\\n'.format(is_null_values))\n",
    "\n",
    "# Bottom Snow Depth summary stats\n",
    "df_min = bottom_snow_depth_df.min()\n",
    "df_max = bottom_snow_depth_df.max()\n",
    "df_mean = bottom_snow_depth_df.mean()\n",
    "df_median = bottom_snow_depth_df.median()\n",
    "df_stddev = bottom_snow_depth_df.std()\n",
    "print('Bottom Snow Depth Summary Stats- \\nmin:{}\\nmax:{}\\nmean:{}\\nmedian:{}\\nstd dev:{}\\n'.format(df_min, df_max, df_mean, df_median, df_stddev))\n",
    "\n",
    "df_mode = bottom_snow_depth_df.mode()\n",
    "df_mode = df_mode.get(0, 1)\n",
    "num_mode = bottom_snow_depth_df.value_counts()[df_mode]\n",
    "print('Mode Value: {}'.format(df_mode))\n",
    "print('Mode Occurences: {}\\n'.format(num_mode))\n",
    "\n",
    "print('Value counts:\\n{}'.format(bottom_snow_depth_df.value_counts()))\n",
    "\n",
    "# Bottom Snow Depth plots\n",
    "plt.hist(bottom_snow_depth_df, bins=100)\n",
    "plt.show()\n",
    "\n",
    "plt.hist(bottom_snow_depth_df, bins=100, range=(0.0001, 3.5))\n",
    "plt.show()"
   ]
  },
  {
   "cell_type": "markdown",
   "metadata": {},
   "source": [
    "### Snow Depth Notes:\n",
    "You would think that the bottom snow depth would have the most non-zero data since it is nearest to the ground. This is the opposite of what we observe here. Each level has spikes in data repetition. Why is this? There is a particularly large spike at 1.97 in the top snow depth column. Is this because this is the highest point that the instrument could accurately measure? There are hundreds of data points above that level however. Perhaps some ice or snow got stuck to the measuring instrument."
   ]
  },
  {
   "cell_type": "markdown",
   "metadata": {},
   "source": [
    "## Snow Temperature"
   ]
  },
  {
   "cell_type": "code",
   "execution_count": null,
   "metadata": {},
   "outputs": [],
   "source": [
    "top_snow_temp_df = data.get('(top) Snow Temp. (deg. F)')\n",
    "top_snow_temp_list = top_snow_depth_df.tolist()\n",
    "\n",
    "# Check for null values\n",
    "is_null_values = top_snow_temp_df.isnull().values.any()\n",
    "print('Null Values: {}\\n'.format(is_null_values))\n",
    "\n",
    "# Top Snow Temp summary stats\n",
    "df_min = top_snow_temp_df.min()\n",
    "df_max = top_snow_temp_df.max()\n",
    "df_mean = top_snow_temp_df.mean()\n",
    "df_median = top_snow_temp_df.median()\n",
    "df_stddev = top_snow_temp_df.std()\n",
    "print('Top Snow Temperature Summary Stats- \\nmin:{}\\nmax:{}\\nmean:{}\\nmedian:{}\\nstd dev:{}\\n'.format(df_min, df_max, df_mean, df_median, df_stddev))\n",
    "\n",
    "df_mode = top_snow_temp_df.mode()\n",
    "df_mode = df_mode.get(0, 1)\n",
    "num_mode = top_snow_temp_df.value_counts()[df_mode]\n",
    "print('Mode Value: {}'.format(df_mode))\n",
    "print('Mode Occurences: {}\\n'.format(num_mode))\n",
    "\n",
    "print('Value counts:\\n{}'.format(top_snow_temp_df.value_counts()))\n",
    "\n",
    "# Top Snow Temp plots\n",
    "plt.hist(top_snow_temp_df, bins=100)\n",
    "plt.show()"
   ]
  },
  {
   "cell_type": "code",
   "execution_count": null,
   "metadata": {},
   "outputs": [],
   "source": [
    "middle_snow_temp_df = data.get('(middle) Snow Temp. (deg. F)')\n",
    "middle_snow_temp_list = middle_snow_depth_df.tolist()\n",
    "\n",
    "# Check for null values\n",
    "is_null_values = middle_snow_depth_df.isnull().values.any()\n",
    "print('Null Values: {}\\n'.format(is_null_values))\n",
    "\n",
    "# Middle Snow Temp summary stats\n",
    "df_min = middle_snow_temp_df.min()\n",
    "df_max = middle_snow_temp_df.max()\n",
    "df_mean = middle_snow_temp_df.mean()\n",
    "df_median = middle_snow_temp_df.median()\n",
    "df_stddev = middle_snow_temp_df.std()\n",
    "print('Middle Snow Temperature Summary Stats- \\nmin:{}\\nmax:{}\\nmean:{}\\nmedian:{}\\nstd dev:{}\\n'.format(df_min, df_max, df_mean, df_median, df_stddev))\n",
    "\n",
    "df_mode = middle_snow_temp_df.mode()\n",
    "df_mode = df_mode.get(0, 1)\n",
    "num_mode = middle_snow_temp_df.value_counts()[df_mode]\n",
    "print('Mode Value: {}'.format(df_mode))\n",
    "print('Mode Occurences: {}\\n'.format(num_mode))\n",
    "\n",
    "print('Value counts:\\n{}'.format(middle_snow_temp_df.value_counts()))\n",
    "\n",
    "# Middle Snow Temp plots\n",
    "plt.hist(middle_snow_temp_df, bins=100)\n",
    "plt.show()"
   ]
  },
  {
   "cell_type": "code",
   "execution_count": null,
   "metadata": {},
   "outputs": [],
   "source": [
    "bottom_snow_temp_df = data.get('(bottom) Snow Temp. (deg. F)')\n",
    "bottom_snow_temp_list = bottom_snow_temp_df.tolist()\n",
    "\n",
    "# Check for null values\n",
    "is_null_values = bottom_snow_depth_df.isnull().values.any()\n",
    "print('Null Values: {}\\n'.format(is_null_values))\n",
    "\n",
    "# Bottom Snow Temp summary stats\n",
    "df_min = bottom_snow_temp_df.min()\n",
    "df_max = bottom_snow_temp_df.max()\n",
    "df_mean = bottom_snow_temp_df.mean()\n",
    "df_median = bottom_snow_temp_df.median()\n",
    "df_stddev = bottom_snow_temp_df.std()\n",
    "print('Bottom Snow Temperature Summary Stats- \\nmin:{}\\nmax:{}\\nmean:{}\\nmedian:{}\\nstd dev:{}\\n'.format(df_min, df_max, df_mean, df_median, df_stddev))\n",
    "\n",
    "df_mode = bottom_snow_temp_df.mode()\n",
    "df_mode = df_mode.get(0, 1)\n",
    "num_mode = bottom_snow_temp_df.value_counts()[df_mode]\n",
    "print('Mode Value: {}'.format(df_mode))\n",
    "print('Mode Occurences: {}\\n'.format(num_mode))\n",
    "\n",
    "print('Value counts:\\n{}'.format(bottom_snow_temp_df.value_counts()))\n",
    "\n",
    "# Bottom Snow Temp plots\n",
    "plt.hist(bottom_snow_temp_df, bins=100)\n",
    "plt.show()"
   ]
  },
  {
   "cell_type": "markdown",
   "metadata": {},
   "source": [
    "## Snow Density"
   ]
  },
  {
   "cell_type": "code",
   "execution_count": null,
   "metadata": {},
   "outputs": [],
   "source": [
    "top_snow_density_df = data.get('(top) Snow Density (%)')\n",
    "top_snow_density_list = top_snow_density_df.tolist()\n",
    "\n",
    "# Check for null values\n",
    "is_null_values = top_snow_density_df.isnull().values.any()\n",
    "print('Null Values: {}\\n'.format(is_null_values))\n",
    "\n",
    "# Top Snow Density summary stats\n",
    "df_min = top_snow_density_df.min()\n",
    "df_max = top_snow_density_df.max()\n",
    "df_mean = top_snow_density_df.mean()\n",
    "df_median = top_snow_density_df.median()\n",
    "df_stddev = top_snow_density_df.std()\n",
    "print('Top Snow Density Summary Stats- \\nmin:{}\\nmax:{}\\nmean:{}\\nmedian:{}\\nstd dev:{}\\n'.format(df_min, df_max, df_mean, df_median, df_stddev))\n",
    "\n",
    "df_mode = top_snow_density_df.mode()\n",
    "df_mode = df_mode.get(0, 1)\n",
    "num_mode = top_snow_density_df.value_counts()[df_mode]\n",
    "print('Mode Value: {}'.format(df_mode))\n",
    "print('Mode Occurences: {}\\n'.format(num_mode))\n",
    "\n",
    "print('Value counts:\\n{}'.format(top_snow_density_df.value_counts()))\n",
    "\n",
    "# Top Snow Density plots\n",
    "plt.hist(top_snow_density_df, bins=100)\n",
    "plt.show()\n",
    "\n",
    "# Top Snow Density plots\n",
    "plt.hist(top_snow_density_df, bins=100, range=(9.5, 10.5))\n",
    "plt.show()"
   ]
  },
  {
   "cell_type": "code",
   "execution_count": null,
   "metadata": {},
   "outputs": [],
   "source": [
    "middle_snow_density_df = data.get('(middle) Snow Density (%)')\n",
    "middle_snow_density_list = middle_snow_density_df.tolist()\n",
    "\n",
    "# Check for null values\n",
    "is_null_values = middle_snow_density_df.isnull().values.any()\n",
    "print('Null Values: {}\\n'.format(is_null_values))\n",
    "\n",
    "# Middle Snow Density summary stats\n",
    "df_min = middle_snow_density_df.min()\n",
    "df_max = middle_snow_density_df.max()\n",
    "df_mean = middle_snow_density_df.mean()\n",
    "df_median = middle_snow_density_df.median()\n",
    "df_stddev = middle_snow_density_df.std()\n",
    "print('Middle Snow Density Summary Stats- \\nmin:{}\\nmax:{}\\nmean:{}\\nmedian:{}\\nstd dev:{}\\n'.format(df_min, df_max, df_mean, df_median, df_stddev))\n",
    "\n",
    "df_mode = middle_snow_density_df.mode()\n",
    "df_mode = df_mode.get(0, 1)\n",
    "num_mode = middle_snow_density_df.value_counts()[df_mode]\n",
    "print('Mode Value: {}'.format(df_mode))\n",
    "print('Mode Occurences: {}\\n'.format(num_mode))\n",
    "\n",
    "print('Value counts:\\n{}'.format(middle_snow_density_df.value_counts()))\n",
    "\n",
    "# Middle Snow Density plots\n",
    "plt.hist(middle_snow_density_df, bins=100)\n",
    "plt.show()"
   ]
  },
  {
   "cell_type": "code",
   "execution_count": null,
   "metadata": {},
   "outputs": [],
   "source": [
    "bottom_snow_density_df = data.get('(bottom) Snow Density (%)')\n",
    "bottom_snow_density_list = bottom_snow_density_df.tolist()\n",
    "\n",
    "# Check for null values\n",
    "is_null_values = bottom_snow_density_df.isnull().values.any()\n",
    "print('Null Values: {}\\n'.format(is_null_values))\n",
    "\n",
    "# Bottom Snow Density summary stats\n",
    "df_min = bottom_snow_density_df.min()\n",
    "df_max = bottom_snow_density_df.max()\n",
    "df_mean = bottom_snow_density_df.mean()\n",
    "df_median = bottom_snow_density_df.median()\n",
    "df_stddev = bottom_snow_density_df.std()\n",
    "print('Bottom Snow Density Summary Stats- \\nmin:{}\\nmax:{}\\nmean:{}\\nmedian:{}\\nstd dev:{}\\n'.format(df_min, df_max, df_mean, df_median, df_stddev))\n",
    "\n",
    "df_mode = bottom_snow_density_df.mode()\n",
    "df_mode = df_mode.get(0, 1)\n",
    "num_mode = bottom_snow_density_df.value_counts()[df_mode]\n",
    "print('Mode Value: {}'.format(df_mode))\n",
    "print('Mode Occurences: {}\\n'.format(num_mode))\n",
    "\n",
    "print('Value counts:\\n{}'.format(bottom_snow_density_df.value_counts()))\n",
    "\n",
    "# Bottom Snow Density plots\n",
    "plt.hist(bottom_snow_density_df, bins=100)\n",
    "plt.show()"
   ]
  },
  {
   "cell_type": "markdown",
   "metadata": {},
   "source": [
    "## Forecasted from 0 UTC"
   ]
  },
  {
   "cell_type": "markdown",
   "metadata": {},
   "source": [
    "## Few Cloud Layer (FEW)\n",
    "Describes cloud cover when between 0/8th and 2/8th of the sky is obscured by cloud."
   ]
  },
  {
   "cell_type": "markdown",
   "metadata": {},
   "source": [
    "## Scattered Cloud Layer (SCT)\n",
    "Scattered cloud layer 3/8ths to 4/8ths \n",
    "http://www.moratech.com/aviation/metaf-abbrev.html"
   ]
  },
  {
   "cell_type": "markdown",
   "metadata": {},
   "source": [
    "## Broken Cloud Layer (BKN)\n",
    "Broken cloud layer 5/8ths to 7/8ths"
   ]
  },
  {
   "cell_type": "markdown",
   "metadata": {},
   "source": [
    "## Overcast Cloud Layer (OVC)\n",
    "Overcast cloud layer 8/8ths coverage"
   ]
  },
  {
   "cell_type": "markdown",
   "metadata": {},
   "source": [
    "## Vertical Visibility (VV)\n",
    "Vertical Visibility, indefinite ceiling"
   ]
  },
  {
   "cell_type": "markdown",
   "metadata": {},
   "source": [
    "## Cloud Rating\n",
    "TODO: Determine meaning"
   ]
  }
 ],
 "metadata": {
  "kernelspec": {
   "display_name": "venv",
   "language": "python",
   "name": "python3"
  },
  "language_info": {
   "codemirror_mode": {
    "name": "ipython",
    "version": 3
   },
   "file_extension": ".py",
   "mimetype": "text/x-python",
   "name": "python",
   "nbconvert_exporter": "python",
   "pygments_lexer": "ipython3",
   "version": "3.11.5"
  }
 },
 "nbformat": 4,
 "nbformat_minor": 2
}
