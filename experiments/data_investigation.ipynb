{
 "cells": [
  {
   "cell_type": "markdown",
   "metadata": {},
   "source": [
    "# Read CSV File to DataFrame"
   ]
  },
  {
   "cell_type": "code",
   "execution_count": null,
   "metadata": {},
   "outputs": [],
   "source": [
    "# imports\n",
    "import pandas as pd\n",
    "\n",
    "# data path\n",
    "dataPath = 'D:\\mattp\\Documents\\School\\SeniorYear\\DataAnalysis\\WaterStreetPA_WthrMETAR_SNOW-2018.csv'\n",
    "\n",
    "# read in data\n",
    "data = pd.read_csv(dataPath, header=0)"
   ]
  },
  {
   "cell_type": "markdown",
   "metadata": {},
   "source": [
    "# Investigate Each Feature"
   ]
  },
  {
   "cell_type": "markdown",
   "metadata": {},
   "source": [
    "## Row Number"
   ]
  },
  {
   "cell_type": "code",
   "execution_count": null,
   "metadata": {},
   "outputs": [],
   "source": [
    "# listing of preprocessing info: type/processing method, null values, null value type, number of null values \n",
    "row_num_df = data.get('Unnamed: 0')\n",
    "row_num_list = row_num_df.tolist()\n",
    "\n",
    "# listing of summary stats: min, max, mean, median, std dev\n",
    "import numpy\n",
    "\n",
    "# row num range\n",
    "row_min = min(row_num_list)\n",
    "row_max = max(row_num_list)\n",
    "print('Row Range: {}-{}'.format(row_min, row_max))"
   ]
  },
  {
   "cell_type": "markdown",
   "metadata": {},
   "source": [
    "## Datetime"
   ]
  },
  {
   "cell_type": "code",
   "execution_count": null,
   "metadata": {},
   "outputs": [],
   "source": [
    "import datetime as dt\n",
    "\n",
    "datetime_df = data.get('datetime')\n",
    "datetime_list = datetime_df.tolist()\n",
    "dt_obj = dt.datetime.strptime(datetime_list[0], '%Y-%m-%d %H:%M:%S')\n",
    "\n",
    "# datetime range\n",
    "datetime_min = min(datetime_list)\n",
    "datetime_max = max(datetime_list)\n",
    "print('Datetime Range: {} to {}'.format(datetime_min, datetime_max))\n",
    "\n",
    "# TODO: plot histogram of time deltas"
   ]
  },
  {
   "cell_type": "markdown",
   "metadata": {},
   "source": [
    "## PM 2.5"
   ]
  },
  {
   "cell_type": "code",
   "execution_count": null,
   "metadata": {},
   "outputs": [],
   "source": [
    "pm_df = data.get('PM25')\n",
    "\n",
    "# Check for null values\n",
    "is_null_values = pm_df.isnull().values.any()\n",
    "print('Null Values: {}\\n'.format(is_null_values))\n",
    "\n",
    "\n",
    "import matplotlib.pyplot as plt\n",
    "\n",
    "# PM2.5 summary stats\n",
    "pm_min = pm_df.min()\n",
    "pm_max = pm_df.max()\n",
    "pm_mean = pm_df.mean()\n",
    "pm_median = pm_df.median()\n",
    "pm_stddev = pm_df.std()\n",
    "print('PM 2.5 Summary Stats- \\nmin:{}\\nmax:{}\\nmean:{}\\nmedian:{}\\nstd dev:{}\\n'.format(pm_min, pm_max, pm_mean, pm_median, pm_stddev))\n",
    "\n",
    "pm_mode = pm_df.mode()\n",
    "pm_mode = pm_mode.get(0, 1)\n",
    "num_mode = pm_df.value_counts()[pm_mode]\n",
    "print('Mode Value: {}'.format(pm_mode))\n",
    "print('Mode Occurences: {}'.format(num_mode))\n",
    "\n",
    "plt.hist(pm_df, bins=140, range=(0,1400))\n",
    "plt.show()\n",
    "\n",
    "plt.hist(pm_df, bins=50, range=(0,50))\n",
    "plt.show()\n",
    "\n",
    "plt.hist(pm_df, bins=50, range=(50,100))\n",
    "plt.show()\n",
    "\n",
    "plt.hist(pm_df, bins=13, range=(100,1400))\n",
    "plt.show()\n",
    "\n",
    "# TODO: Plot histogram of the highest PM 2.5 reading of each day"
   ]
  },
  {
   "cell_type": "markdown",
   "metadata": {},
   "source": [
    "## Temperature"
   ]
  },
  {
   "cell_type": "code",
   "execution_count": null,
   "metadata": {},
   "outputs": [],
   "source": [
    "temp_df = data.get('temp')\n",
    "temp_list = temp_df.tolist()\n",
    "\n",
    "# Check for null values\n",
    "is_null_values = temp_df.isnull().values.any()\n",
    "print(is_null_values)\n",
    "\n",
    "is_null_values = None in temp_list\n",
    "print(is_null_values)\n",
    "\n",
    "# Temp summary stats\n",
    "temp_min = min(temp_list)\n",
    "temp_max = max(temp_list)\n",
    "temp_mean = numpy.average(temp_list)\n",
    "temp_median = numpy.median(temp_list)\n",
    "temp_stddev = numpy.std(temp_list)\n",
    "print('Temp Summary Stats- \\nmin:{}\\nmax:{}\\nmean:{}\\nmedian:{}\\nstd dev:{}'.format(temp_min, temp_max, temp_mean, temp_median, temp_stddev))\n",
    "\n",
    "plt.hist(temp_list, bins=100)\n",
    "plt.show()"
   ]
  },
  {
   "cell_type": "markdown",
   "metadata": {},
   "source": [
    "## Dewpoint"
   ]
  },
  {
   "cell_type": "code",
   "execution_count": null,
   "metadata": {},
   "outputs": [],
   "source": [
    "dewpoint_df = data.get('dewpoint')\n",
    "dewpoint_list = dewpoint_df.tolist()\n",
    "\n",
    "# Check for null values\n",
    "is_null_values = dewpoint_df.isnull().values.any()\n",
    "print(is_null_values)\n",
    "\n",
    "is_null_values = None in dewpoint_list\n",
    "print(is_null_values)\n",
    "\n",
    "# Dewpoint summary stats\n",
    "dewpoint_min = min(dewpoint_list)\n",
    "dewpoint_max = max(dewpoint_list)\n",
    "dewpoint_mean = numpy.average(dewpoint_list)\n",
    "dewpoint_median = numpy.median(dewpoint_list)\n",
    "dewpoint_stddev = numpy.std(dewpoint_list)\n",
    "print(\n",
    "    'Dewpoint Summary Stats- \\nmin:{}\\nmax:{}\\nmean:{}\\nmedian:{}\\nstd dev:{}'.format(\n",
    "        dewpoint_min, \n",
    "        dewpoint_max, \n",
    "        dewpoint_mean, \n",
    "        dewpoint_median, \n",
    "        dewpoint_stddev\n",
    "    )\n",
    ")\n",
    "\n",
    "plt.hist(dewpoint_list, bins=100)\n",
    "plt.show()"
   ]
  },
  {
   "cell_type": "markdown",
   "metadata": {},
   "source": [
    "## Relative Humidity"
   ]
  },
  {
   "cell_type": "code",
   "execution_count": null,
   "metadata": {},
   "outputs": [],
   "source": [
    "rh_df = data.get('RH')\n",
    "rh_list = rh_df.tolist()\n",
    "\n",
    "# Check for null values\n",
    "is_null_values = rh_df.isnull().values.any()\n",
    "print(is_null_values)\n",
    "\n",
    "is_null_values = None in rh_list\n",
    "print(is_null_values)\n",
    "\n",
    "# RH summary stats\n",
    "rh_min = min(rh_list)\n",
    "rh_max = max(rh_list)\n",
    "rh_mean = numpy.average(rh_list)\n",
    "rh_median = numpy.median(rh_list)\n",
    "rh_stddev = numpy.std(rh_list)\n",
    "print(\n",
    "    'RH Summary Stats- \\nmin:{}\\nmax:{}\\nmean:{}\\nmedian:{}\\nstd dev:{}'.format(\n",
    "        rh_min, \n",
    "        rh_max, \n",
    "        rh_mean, \n",
    "        rh_median, \n",
    "        rh_stddev\n",
    "    )\n",
    ")\n",
    "\n",
    "plt.hist(rh_list, bins=100)\n",
    "plt.show()"
   ]
  },
  {
   "cell_type": "markdown",
   "metadata": {},
   "source": [
    "## Wind Direction"
   ]
  },
  {
   "cell_type": "markdown",
   "metadata": {},
   "source": [
    "## Wind Speed"
   ]
  },
  {
   "cell_type": "markdown",
   "metadata": {},
   "source": [
    "## Precipitation"
   ]
  },
  {
   "cell_type": "markdown",
   "metadata": {},
   "source": [
    "## Mean Sea Level Pressure (MSLP)"
   ]
  },
  {
   "cell_type": "markdown",
   "metadata": {},
   "source": [
    "## Visibility"
   ]
  },
  {
   "cell_type": "markdown",
   "metadata": {},
   "source": [
    "## Gust"
   ]
  },
  {
   "cell_type": "markdown",
   "metadata": {},
   "source": [
    "## Weather Code (WX Code)\n",
    "https://graphical.weather.gov/definitions/defineWxNoTable.html"
   ]
  },
  {
   "cell_type": "code",
   "execution_count": null,
   "metadata": {},
   "outputs": [],
   "source": [
    "wx_code_df = data.get('wxcodes')\n",
    "wx_code_list = wx_code_df.tolist()\n",
    "\n",
    "# Check for null values\n",
    "is_null_values = wx_code_df.isnull().values.any()\n",
    "print(is_null_values)\n",
    "\n",
    "is_null_values = None in wx_code_list\n",
    "print(is_null_values)\n",
    "\n",
    "is_null_values = \"\" in wx_code_list\n",
    "print(is_null_values)\n",
    "\n",
    "len_list = len(wx_code_list)\n",
    "print(len_list)\n",
    "\n",
    "print(wx_code_list[0])\n",
    "\n",
    "print(type(wx_code_list[0]))"
   ]
  },
  {
   "cell_type": "markdown",
   "metadata": {},
   "source": [
    "## Snow Depth"
   ]
  },
  {
   "cell_type": "markdown",
   "metadata": {},
   "source": [
    "## Snow Temperature"
   ]
  },
  {
   "cell_type": "markdown",
   "metadata": {},
   "source": [
    "## Snow Density"
   ]
  },
  {
   "cell_type": "markdown",
   "metadata": {},
   "source": [
    "## Forecasted from 0 UTC"
   ]
  },
  {
   "cell_type": "markdown",
   "metadata": {},
   "source": [
    "## Few Cloud Layer (FEW)\n",
    "Describes cloud cover when between 0/8th and 2/8th of the sky is obscured by cloud."
   ]
  },
  {
   "cell_type": "markdown",
   "metadata": {},
   "source": [
    "## Scattered Cloud Layer (SCT)\n",
    "Scattered cloud layer 3/8ths to 4/8ths \n",
    "http://www.moratech.com/aviation/metaf-abbrev.html"
   ]
  },
  {
   "cell_type": "markdown",
   "metadata": {},
   "source": [
    "## Broken Cloud Layer (BKN)\n",
    "Broken cloud layer 5/8ths to 7/8ths"
   ]
  },
  {
   "cell_type": "markdown",
   "metadata": {},
   "source": [
    "## Overcast Cloud Layer (OVC)\n",
    "Overcast cloud layer 8/8ths coverage"
   ]
  },
  {
   "cell_type": "markdown",
   "metadata": {},
   "source": [
    "## Vertical Visibility (VV)\n",
    "Vertical Visibility, indefinite ceiling"
   ]
  },
  {
   "cell_type": "markdown",
   "metadata": {},
   "source": [
    "## Cloud Rating\n",
    "TODO: Determine meaning"
   ]
  }
 ],
 "metadata": {
  "kernelspec": {
   "display_name": "venv",
   "language": "python",
   "name": "python3"
  },
  "language_info": {
   "codemirror_mode": {
    "name": "ipython",
    "version": 3
   },
   "file_extension": ".py",
   "mimetype": "text/x-python",
   "name": "python",
   "nbconvert_exporter": "python",
   "pygments_lexer": "ipython3",
   "version": "3.11.5"
  }
 },
 "nbformat": 4,
 "nbformat_minor": 2
}
