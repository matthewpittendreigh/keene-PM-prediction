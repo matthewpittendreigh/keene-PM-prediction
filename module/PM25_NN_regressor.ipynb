{
 "cells": [
  {
   "cell_type": "code",
   "execution_count": 38,
   "metadata": {},
   "outputs": [],
   "source": [
    "# global imports\n",
    "import numpy as np\n",
    "import pandas as pd\n",
    "import tensorflow as tf"
   ]
  },
  {
   "cell_type": "code",
   "execution_count": 39,
   "metadata": {},
   "outputs": [],
   "source": [
    "# instantiate pathway variables\n",
    "projectDir = 'D:\\mattp\\Documents\\School\\SeniorYear\\DataAnalysis'\n",
    "\n",
    "#KHDir = projectDir + '\\KHresamplePAandWthr-1217_0118.csv'\n",
    "dataDir = projectDir + '\\WaterStreetPA_WthrMETAR_SNOW-2018.csv'\n",
    "\n",
    "# read in data\n",
    "#KHData = pd.read_csv(KHDir,header=0)\n",
    "Data = pd.read_csv(dataDir,header=0)"
   ]
  },
  {
   "cell_type": "code",
   "execution_count": 43,
   "metadata": {
    "scrolled": true
   },
   "outputs": [
    {
     "name": "stdout",
     "output_type": "stream",
     "text": [
      "Index(['Unnamed: 0', 'datetime', 'created_at', 'PM25', 'Date', 'temp',\n",
      "       'dewpoint', 'RH', 'windDIR', 'windMPH', 'precip', 'mslp', 'visibility',\n",
      "       'gust', 'wxcodes', '(top) Snow Depth (in)', '(middle) Snow Depth (in)',\n",
      "       '(bottom) Snow Depth (in)', '(top) Snow Temp. (deg. F)',\n",
      "       '(middle) Snow Temp. (deg. F)', '(bottom) Snow Temp. (deg. F)',\n",
      "       '(top) Snow Density (%)', '(middle) Snow Density (%)',\n",
      "       '(bottom) Snow Density (%)', 'Date w/o Time', 'Hour',\n",
      "       'Forecasted from 0 UTC', 'FEW', 'SCT', 'BKN', 'OVC', 'VV', 'Clouds',\n",
      "       'Clds1000', 'Clds2000', 'Clds3000', 'Clds4000', 'Clds5000', 'Clds6000',\n",
      "       'Clds7000', 'Clds8000', 'Clds9000', 'Clds10000'],\n",
      "      dtype='object')\n"
     ]
    },
    {
     "data": {
      "text/plain": [
       "'2018-02-22 17:55:54'"
      ]
     },
     "execution_count": 43,
     "metadata": {},
     "output_type": "execute_result"
    }
   ],
   "source": [
    "Data.shape\n",
    "print(Data.columns)\n",
    "Data['Clds10000'][30000:30050]\n",
    "Data.datetime.values[1]\n",
    "#features = pd.concat([dtEmumeratedDf, encodedWindDirDf, Data.temperatureF, Data.dewpointF, Data.humidityPCNT, Data.wind_speedMPH, Data.wind_gustsMPH, Data.pressureIN, Data.precipIN,Data.PM25],axis=1)"
   ]
  },
  {
   "cell_type": "code",
   "execution_count": 67,
   "metadata": {},
   "outputs": [],
   "source": [
    "# data preprocessing\n",
    "\n",
    "# process datetime\n",
    "import datetime as dt\n",
    "dtParsed = [0 for i in range(Data.shape[0])]\n",
    "for i in range(Data.shape[0]):\n",
    "    dtParsed[i] = dt.datetime.strptime(Data.datetime.values[i], '%Y-%m-%d %H:%M:%S')\n",
    "\n",
    "# enumerate time of day\n",
    "dtEnumerated = [0 for i in range(Data.shape[0])]\n",
    "for i in range(Data.shape[0]):\n",
    "    dtEnumerated[i] = dtParsed[i].hour*3600 + dtParsed[i].minute*60 + dtParsed[i].second\n",
    "dtEmumeratedDf = pd.DataFrame(dtEnumerated)\n",
    "\n",
    "# drop out bad rows\n",
    "Data.reset_index(drop=True, inplace=True)\n",
    "    \n",
    "# combine features and output for scaling\n",
    "features = pd.concat([dtEmumeratedDf, Data.temp, Data.dewpoint, Data.RH, \n",
    "                    Data.windDIR, Data.windMPH, Data.precip, Data.mslp,\n",
    "                    Data.visibility, Data.gust, Data['(top) Snow Depth (in)'],\n",
    "                    Data['(middle) Snow Depth (in)'], Data['(bottom) Snow Depth (in)'],\n",
    "                    Data['(top) Snow Temp. (deg. F)'], Data['(middle) Snow Temp. (deg. F)'],\n",
    "                    Data['(bottom) Snow Temp. (deg. F)'], Data['(top) Snow Density (%)'],\n",
    "                    Data['(middle) Snow Density (%)'], Data['(bottom) Snow Density (%)'],\n",
    "                    Data.FEW, Data.SCT, Data.BKN, Data.OVC, Data.VV, Data.Clouds, \n",
    "                    Data.Clds1000, Data.Clds2000, Data.Clds3000, Data.Clds4000, Data.Clds5000,\n",
    "                    Data.Clds6000, Data.Clds7000, Data.Clds8000, Data.Clds9000, Data.Clds10000],axis=1)"
   ]
  },
  {
   "cell_type": "code",
   "execution_count": 92,
   "metadata": {},
   "outputs": [
    {
     "ename": "KeyError",
     "evalue": "1",
     "output_type": "error",
     "traceback": [
      "\u001b[1;31m---------------------------------------------------------------------------\u001b[0m",
      "\u001b[1;31mKeyError\u001b[0m                                  Traceback (most recent call last)",
      "\u001b[1;32m~\\Anaconda3\\lib\\site-packages\\pandas\\core\\indexes\\base.py\u001b[0m in \u001b[0;36mget_loc\u001b[1;34m(self, key, method, tolerance)\u001b[0m\n\u001b[0;32m   3077\u001b[0m             \u001b[1;32mtry\u001b[0m\u001b[1;33m:\u001b[0m\u001b[1;33m\u001b[0m\u001b[1;33m\u001b[0m\u001b[0m\n\u001b[1;32m-> 3078\u001b[1;33m                 \u001b[1;32mreturn\u001b[0m \u001b[0mself\u001b[0m\u001b[1;33m.\u001b[0m\u001b[0m_engine\u001b[0m\u001b[1;33m.\u001b[0m\u001b[0mget_loc\u001b[0m\u001b[1;33m(\u001b[0m\u001b[0mkey\u001b[0m\u001b[1;33m)\u001b[0m\u001b[1;33m\u001b[0m\u001b[1;33m\u001b[0m\u001b[0m\n\u001b[0m\u001b[0;32m   3079\u001b[0m             \u001b[1;32mexcept\u001b[0m \u001b[0mKeyError\u001b[0m\u001b[1;33m:\u001b[0m\u001b[1;33m\u001b[0m\u001b[1;33m\u001b[0m\u001b[0m\n",
      "\u001b[1;32mpandas\\_libs\\index.pyx\u001b[0m in \u001b[0;36mpandas._libs.index.IndexEngine.get_loc\u001b[1;34m()\u001b[0m\n",
      "\u001b[1;32mpandas\\_libs\\index.pyx\u001b[0m in \u001b[0;36mpandas._libs.index.IndexEngine.get_loc\u001b[1;34m()\u001b[0m\n",
      "\u001b[1;32mpandas\\_libs\\hashtable_class_helper.pxi\u001b[0m in \u001b[0;36mpandas._libs.hashtable.PyObjectHashTable.get_item\u001b[1;34m()\u001b[0m\n",
      "\u001b[1;32mpandas\\_libs\\hashtable_class_helper.pxi\u001b[0m in \u001b[0;36mpandas._libs.hashtable.PyObjectHashTable.get_item\u001b[1;34m()\u001b[0m\n",
      "\u001b[1;31mKeyError\u001b[0m: 1",
      "\nDuring handling of the above exception, another exception occurred:\n",
      "\u001b[1;31mKeyError\u001b[0m                                  Traceback (most recent call last)",
      "\u001b[1;32m<ipython-input-92-ff3b19f95cb0>\u001b[0m in \u001b[0;36m<module>\u001b[1;34m\u001b[0m\n\u001b[0;32m      5\u001b[0m '''for i in range(0,len(coefficients)):\n\u001b[0;32m      6\u001b[0m      features[i] = features[i].multiply(coefficients[i])'''\n\u001b[1;32m----> 7\u001b[1;33m \u001b[0mfeatures\u001b[0m\u001b[1;33m[\u001b[0m\u001b[1;36m1\u001b[0m\u001b[1;33m]\u001b[0m \u001b[1;33m=\u001b[0m \u001b[0mfeatures\u001b[0m\u001b[1;33m[\u001b[0m\u001b[1;36m1\u001b[0m\u001b[1;33m]\u001b[0m\u001b[1;33m.\u001b[0m\u001b[0mmultiply\u001b[0m\u001b[1;33m(\u001b[0m\u001b[0mcoefficients\u001b[0m\u001b[1;33m[\u001b[0m\u001b[1;36m1\u001b[0m\u001b[1;33m]\u001b[0m\u001b[1;33m)\u001b[0m\u001b[1;33m\u001b[0m\u001b[1;33m\u001b[0m\u001b[0m\n\u001b[0m\u001b[0;32m      8\u001b[0m \u001b[1;33m\u001b[0m\u001b[0m\n\u001b[0;32m      9\u001b[0m \u001b[1;31m# scaling for normalization\u001b[0m\u001b[1;33m\u001b[0m\u001b[1;33m\u001b[0m\u001b[1;33m\u001b[0m\u001b[0m\n",
      "\u001b[1;32m~\\Anaconda3\\lib\\site-packages\\pandas\\core\\frame.py\u001b[0m in \u001b[0;36m__getitem__\u001b[1;34m(self, key)\u001b[0m\n\u001b[0;32m   2686\u001b[0m             \u001b[1;32mreturn\u001b[0m \u001b[0mself\u001b[0m\u001b[1;33m.\u001b[0m\u001b[0m_getitem_multilevel\u001b[0m\u001b[1;33m(\u001b[0m\u001b[0mkey\u001b[0m\u001b[1;33m)\u001b[0m\u001b[1;33m\u001b[0m\u001b[1;33m\u001b[0m\u001b[0m\n\u001b[0;32m   2687\u001b[0m         \u001b[1;32melse\u001b[0m\u001b[1;33m:\u001b[0m\u001b[1;33m\u001b[0m\u001b[1;33m\u001b[0m\u001b[0m\n\u001b[1;32m-> 2688\u001b[1;33m             \u001b[1;32mreturn\u001b[0m \u001b[0mself\u001b[0m\u001b[1;33m.\u001b[0m\u001b[0m_getitem_column\u001b[0m\u001b[1;33m(\u001b[0m\u001b[0mkey\u001b[0m\u001b[1;33m)\u001b[0m\u001b[1;33m\u001b[0m\u001b[1;33m\u001b[0m\u001b[0m\n\u001b[0m\u001b[0;32m   2689\u001b[0m \u001b[1;33m\u001b[0m\u001b[0m\n\u001b[0;32m   2690\u001b[0m     \u001b[1;32mdef\u001b[0m \u001b[0m_getitem_column\u001b[0m\u001b[1;33m(\u001b[0m\u001b[0mself\u001b[0m\u001b[1;33m,\u001b[0m \u001b[0mkey\u001b[0m\u001b[1;33m)\u001b[0m\u001b[1;33m:\u001b[0m\u001b[1;33m\u001b[0m\u001b[1;33m\u001b[0m\u001b[0m\n",
      "\u001b[1;32m~\\Anaconda3\\lib\\site-packages\\pandas\\core\\frame.py\u001b[0m in \u001b[0;36m_getitem_column\u001b[1;34m(self, key)\u001b[0m\n\u001b[0;32m   2693\u001b[0m         \u001b[1;31m# get column\u001b[0m\u001b[1;33m\u001b[0m\u001b[1;33m\u001b[0m\u001b[1;33m\u001b[0m\u001b[0m\n\u001b[0;32m   2694\u001b[0m         \u001b[1;32mif\u001b[0m \u001b[0mself\u001b[0m\u001b[1;33m.\u001b[0m\u001b[0mcolumns\u001b[0m\u001b[1;33m.\u001b[0m\u001b[0mis_unique\u001b[0m\u001b[1;33m:\u001b[0m\u001b[1;33m\u001b[0m\u001b[1;33m\u001b[0m\u001b[0m\n\u001b[1;32m-> 2695\u001b[1;33m             \u001b[1;32mreturn\u001b[0m \u001b[0mself\u001b[0m\u001b[1;33m.\u001b[0m\u001b[0m_get_item_cache\u001b[0m\u001b[1;33m(\u001b[0m\u001b[0mkey\u001b[0m\u001b[1;33m)\u001b[0m\u001b[1;33m\u001b[0m\u001b[1;33m\u001b[0m\u001b[0m\n\u001b[0m\u001b[0;32m   2696\u001b[0m \u001b[1;33m\u001b[0m\u001b[0m\n\u001b[0;32m   2697\u001b[0m         \u001b[1;31m# duplicate columns & possible reduce dimensionality\u001b[0m\u001b[1;33m\u001b[0m\u001b[1;33m\u001b[0m\u001b[1;33m\u001b[0m\u001b[0m\n",
      "\u001b[1;32m~\\Anaconda3\\lib\\site-packages\\pandas\\core\\generic.py\u001b[0m in \u001b[0;36m_get_item_cache\u001b[1;34m(self, item)\u001b[0m\n\u001b[0;32m   2487\u001b[0m         \u001b[0mres\u001b[0m \u001b[1;33m=\u001b[0m \u001b[0mcache\u001b[0m\u001b[1;33m.\u001b[0m\u001b[0mget\u001b[0m\u001b[1;33m(\u001b[0m\u001b[0mitem\u001b[0m\u001b[1;33m)\u001b[0m\u001b[1;33m\u001b[0m\u001b[1;33m\u001b[0m\u001b[0m\n\u001b[0;32m   2488\u001b[0m         \u001b[1;32mif\u001b[0m \u001b[0mres\u001b[0m \u001b[1;32mis\u001b[0m \u001b[1;32mNone\u001b[0m\u001b[1;33m:\u001b[0m\u001b[1;33m\u001b[0m\u001b[1;33m\u001b[0m\u001b[0m\n\u001b[1;32m-> 2489\u001b[1;33m             \u001b[0mvalues\u001b[0m \u001b[1;33m=\u001b[0m \u001b[0mself\u001b[0m\u001b[1;33m.\u001b[0m\u001b[0m_data\u001b[0m\u001b[1;33m.\u001b[0m\u001b[0mget\u001b[0m\u001b[1;33m(\u001b[0m\u001b[0mitem\u001b[0m\u001b[1;33m)\u001b[0m\u001b[1;33m\u001b[0m\u001b[1;33m\u001b[0m\u001b[0m\n\u001b[0m\u001b[0;32m   2490\u001b[0m             \u001b[0mres\u001b[0m \u001b[1;33m=\u001b[0m \u001b[0mself\u001b[0m\u001b[1;33m.\u001b[0m\u001b[0m_box_item_values\u001b[0m\u001b[1;33m(\u001b[0m\u001b[0mitem\u001b[0m\u001b[1;33m,\u001b[0m \u001b[0mvalues\u001b[0m\u001b[1;33m)\u001b[0m\u001b[1;33m\u001b[0m\u001b[1;33m\u001b[0m\u001b[0m\n\u001b[0;32m   2491\u001b[0m             \u001b[0mcache\u001b[0m\u001b[1;33m[\u001b[0m\u001b[0mitem\u001b[0m\u001b[1;33m]\u001b[0m \u001b[1;33m=\u001b[0m \u001b[0mres\u001b[0m\u001b[1;33m\u001b[0m\u001b[1;33m\u001b[0m\u001b[0m\n",
      "\u001b[1;32m~\\Anaconda3\\lib\\site-packages\\pandas\\core\\internals.py\u001b[0m in \u001b[0;36mget\u001b[1;34m(self, item, fastpath)\u001b[0m\n\u001b[0;32m   4113\u001b[0m \u001b[1;33m\u001b[0m\u001b[0m\n\u001b[0;32m   4114\u001b[0m             \u001b[1;32mif\u001b[0m \u001b[1;32mnot\u001b[0m \u001b[0misna\u001b[0m\u001b[1;33m(\u001b[0m\u001b[0mitem\u001b[0m\u001b[1;33m)\u001b[0m\u001b[1;33m:\u001b[0m\u001b[1;33m\u001b[0m\u001b[1;33m\u001b[0m\u001b[0m\n\u001b[1;32m-> 4115\u001b[1;33m                 \u001b[0mloc\u001b[0m \u001b[1;33m=\u001b[0m \u001b[0mself\u001b[0m\u001b[1;33m.\u001b[0m\u001b[0mitems\u001b[0m\u001b[1;33m.\u001b[0m\u001b[0mget_loc\u001b[0m\u001b[1;33m(\u001b[0m\u001b[0mitem\u001b[0m\u001b[1;33m)\u001b[0m\u001b[1;33m\u001b[0m\u001b[1;33m\u001b[0m\u001b[0m\n\u001b[0m\u001b[0;32m   4116\u001b[0m             \u001b[1;32melse\u001b[0m\u001b[1;33m:\u001b[0m\u001b[1;33m\u001b[0m\u001b[1;33m\u001b[0m\u001b[0m\n\u001b[0;32m   4117\u001b[0m                 \u001b[0mindexer\u001b[0m \u001b[1;33m=\u001b[0m \u001b[0mnp\u001b[0m\u001b[1;33m.\u001b[0m\u001b[0marange\u001b[0m\u001b[1;33m(\u001b[0m\u001b[0mlen\u001b[0m\u001b[1;33m(\u001b[0m\u001b[0mself\u001b[0m\u001b[1;33m.\u001b[0m\u001b[0mitems\u001b[0m\u001b[1;33m)\u001b[0m\u001b[1;33m)\u001b[0m\u001b[1;33m[\u001b[0m\u001b[0misna\u001b[0m\u001b[1;33m(\u001b[0m\u001b[0mself\u001b[0m\u001b[1;33m.\u001b[0m\u001b[0mitems\u001b[0m\u001b[1;33m)\u001b[0m\u001b[1;33m]\u001b[0m\u001b[1;33m\u001b[0m\u001b[1;33m\u001b[0m\u001b[0m\n",
      "\u001b[1;32m~\\Anaconda3\\lib\\site-packages\\pandas\\core\\indexes\\base.py\u001b[0m in \u001b[0;36mget_loc\u001b[1;34m(self, key, method, tolerance)\u001b[0m\n\u001b[0;32m   3078\u001b[0m                 \u001b[1;32mreturn\u001b[0m \u001b[0mself\u001b[0m\u001b[1;33m.\u001b[0m\u001b[0m_engine\u001b[0m\u001b[1;33m.\u001b[0m\u001b[0mget_loc\u001b[0m\u001b[1;33m(\u001b[0m\u001b[0mkey\u001b[0m\u001b[1;33m)\u001b[0m\u001b[1;33m\u001b[0m\u001b[1;33m\u001b[0m\u001b[0m\n\u001b[0;32m   3079\u001b[0m             \u001b[1;32mexcept\u001b[0m \u001b[0mKeyError\u001b[0m\u001b[1;33m:\u001b[0m\u001b[1;33m\u001b[0m\u001b[1;33m\u001b[0m\u001b[0m\n\u001b[1;32m-> 3080\u001b[1;33m                 \u001b[1;32mreturn\u001b[0m \u001b[0mself\u001b[0m\u001b[1;33m.\u001b[0m\u001b[0m_engine\u001b[0m\u001b[1;33m.\u001b[0m\u001b[0mget_loc\u001b[0m\u001b[1;33m(\u001b[0m\u001b[0mself\u001b[0m\u001b[1;33m.\u001b[0m\u001b[0m_maybe_cast_indexer\u001b[0m\u001b[1;33m(\u001b[0m\u001b[0mkey\u001b[0m\u001b[1;33m)\u001b[0m\u001b[1;33m)\u001b[0m\u001b[1;33m\u001b[0m\u001b[1;33m\u001b[0m\u001b[0m\n\u001b[0m\u001b[0;32m   3081\u001b[0m \u001b[1;33m\u001b[0m\u001b[0m\n\u001b[0;32m   3082\u001b[0m         \u001b[0mindexer\u001b[0m \u001b[1;33m=\u001b[0m \u001b[0mself\u001b[0m\u001b[1;33m.\u001b[0m\u001b[0mget_indexer\u001b[0m\u001b[1;33m(\u001b[0m\u001b[1;33m[\u001b[0m\u001b[0mkey\u001b[0m\u001b[1;33m]\u001b[0m\u001b[1;33m,\u001b[0m \u001b[0mmethod\u001b[0m\u001b[1;33m=\u001b[0m\u001b[0mmethod\u001b[0m\u001b[1;33m,\u001b[0m \u001b[0mtolerance\u001b[0m\u001b[1;33m=\u001b[0m\u001b[0mtolerance\u001b[0m\u001b[1;33m)\u001b[0m\u001b[1;33m\u001b[0m\u001b[1;33m\u001b[0m\u001b[0m\n",
      "\u001b[1;32mpandas\\_libs\\index.pyx\u001b[0m in \u001b[0;36mpandas._libs.index.IndexEngine.get_loc\u001b[1;34m()\u001b[0m\n",
      "\u001b[1;32mpandas\\_libs\\index.pyx\u001b[0m in \u001b[0;36mpandas._libs.index.IndexEngine.get_loc\u001b[1;34m()\u001b[0m\n",
      "\u001b[1;32mpandas\\_libs\\hashtable_class_helper.pxi\u001b[0m in \u001b[0;36mpandas._libs.hashtable.PyObjectHashTable.get_item\u001b[1;34m()\u001b[0m\n",
      "\u001b[1;32mpandas\\_libs\\hashtable_class_helper.pxi\u001b[0m in \u001b[0;36mpandas._libs.hashtable.PyObjectHashTable.get_item\u001b[1;34m()\u001b[0m\n",
      "\u001b[1;31mKeyError\u001b[0m: 1"
     ]
    }
   ],
   "source": [
    "features.fillna(0, inplace = True)\n",
    "\n",
    "'''# scale features to adjust for BAM benchmarks\n",
    "coefficients = [1, 0.136378, 1, 1, 1, 1, -0.041879, 1, -0.495839]\n",
    "for i in range(0,len(coefficients)):\n",
    "     features[i] = features[i].multiply(coefficients[i])'''\n",
    "\n",
    "# scaling for normalization\n",
    "from sklearn.preprocessing import MinMaxScaler\n",
    "sc = MinMaxScaler()\n",
    "scaled = sc.fit_transform(features)\n",
    "\n",
    "# seperate scaled data(X) and output(y)\n",
    "X = features\n",
    "y = Data.PM25 * 0.401344"
   ]
  },
  {
   "cell_type": "code",
   "execution_count": 82,
   "metadata": {},
   "outputs": [],
   "source": [
    "# split the data into training and testing sets\n",
    "from sklearn.model_selection import train_test_split\n",
    "X_train, X_test, y_train, y_test = train_test_split(X, y, test_size=0.2)"
   ]
  },
  {
   "cell_type": "code",
   "execution_count": 83,
   "metadata": {},
   "outputs": [],
   "source": [
    "# instantiate regressor model\n",
    "from keras import Sequential\n",
    "from keras.layers import Dense\n",
    "def build_regressor():\n",
    "    regressor = Sequential()\n",
    "    regressor.add(Dense(100, input_dim=35, kernel_initializer='normal', activation='relu'))\n",
    "    regressor.add(Dense(100, kernel_initializer='normal', activation='relu'))\n",
    "    regressor.add(Dense(75, kernel_initializer='normal', activation='relu'))\n",
    "    regressor.add(Dense(50, kernel_initializer='normal', activation='relu'))\n",
    "    regressor.add(Dense(1, kernel_initializer='normal'))\n",
    "    regressor.compile(optimizer='adam', loss='mean_squared_error',  metrics=['mae','accuracy'])\n",
    "    return regressor\n",
    "\n",
    "# select batch size, epochs, validation set size\n",
    "from keras.wrappers.scikit_learn import KerasRegressor\n",
    "regressor = KerasRegressor(build_fn=build_regressor, batch_size=64,epochs=50,validation_split=0.2)"
   ]
  },
  {
   "cell_type": "code",
   "execution_count": 84,
   "metadata": {
    "scrolled": true
   },
   "outputs": [
    {
     "name": "stdout",
     "output_type": "stream",
     "text": [
      "Train on 211849 samples, validate on 52963 samples\n",
      "Epoch 1/50\n",
      "211849/211849 [==============================] - 11s 54us/step - loss: 15.7370 - mean_absolute_error: 2.6386 - acc: 1.4161e-05 - val_loss: 13.8258 - val_mean_absolute_error: 2.4417 - val_acc: 0.0000e+00\n",
      "Epoch 2/50\n",
      "211849/211849 [==============================] - 11s 51us/step - loss: 14.4131 - mean_absolute_error: 2.4915 - acc: 1.4161e-05 - val_loss: 14.2329 - val_mean_absolute_error: 2.3096 - val_acc: 1.5105e-04\n",
      "Epoch 3/50\n",
      "211849/211849 [==============================] - 11s 52us/step - loss: 12.9454 - mean_absolute_error: 2.2854 - acc: 3.3042e-05 - val_loss: 46.0906 - val_mean_absolute_error: 4.9578 - val_acc: 0.0000e+00\n",
      "Epoch 4/50\n",
      "211849/211849 [==============================] - 11s 54us/step - loss: 12.5863 - mean_absolute_error: 2.2353 - acc: 9.4407e-06 - val_loss: 10.2690 - val_mean_absolute_error: 2.0398 - val_acc: 5.6643e-05\n",
      "Epoch 5/50\n",
      "211849/211849 [==============================] - 11s 53us/step - loss: 11.8946 - mean_absolute_error: 2.1432 - acc: 4.7203e-06 - val_loss: 10.4248 - val_mean_absolute_error: 2.0539 - val_acc: 0.0000e+00\n",
      "Epoch 6/50\n",
      "211849/211849 [==============================] - 11s 52us/step - loss: 11.7687 - mean_absolute_error: 2.1247 - acc: 9.4407e-06 - val_loss: 9.9929 - val_mean_absolute_error: 2.0306 - val_acc: 0.0000e+00\n",
      "Epoch 7/50\n",
      "211849/211849 [==============================] - 12s 59us/step - loss: 11.6740 - mean_absolute_error: 2.1125 - acc: 4.7203e-06 - val_loss: 10.4975 - val_mean_absolute_error: 2.0056 - val_acc: 0.0000e+00\n",
      "Epoch 8/50\n",
      "211849/211849 [==============================] - 13s 60us/step - loss: 11.3443 - mean_absolute_error: 2.0716 - acc: 4.7203e-06 - val_loss: 11.2803 - val_mean_absolute_error: 2.1361 - val_acc: 1.6993e-04\n",
      "Epoch 9/50\n",
      "211849/211849 [==============================] - 11s 54us/step - loss: 11.4845 - mean_absolute_error: 2.0830 - acc: 1.4161e-05 - val_loss: 9.8123 - val_mean_absolute_error: 1.9881 - val_acc: 0.0000e+00\n",
      "Epoch 10/50\n",
      "211849/211849 [==============================] - 11s 52us/step - loss: 11.0169 - mean_absolute_error: 2.0254 - acc: 0.0000e+00 - val_loss: 10.2485 - val_mean_absolute_error: 2.0342 - val_acc: 0.0000e+00\n",
      "Epoch 11/50\n",
      "211849/211849 [==============================] - 11s 52us/step - loss: 10.9963 - mean_absolute_error: 2.0216 - acc: 0.0000e+00 - val_loss: 10.4562 - val_mean_absolute_error: 2.0944 - val_acc: 0.0000e+00\n",
      "Epoch 12/50\n",
      "211849/211849 [==============================] - 11s 52us/step - loss: 10.9184 - mean_absolute_error: 2.0076 - acc: 0.0000e+00 - val_loss: 9.6719 - val_mean_absolute_error: 2.0129 - val_acc: 0.0000e+00\n",
      "Epoch 13/50\n",
      "211849/211849 [==============================] - 12s 58us/step - loss: 10.7694 - mean_absolute_error: 1.9909 - acc: 0.0000e+00 - val_loss: 10.1071 - val_mean_absolute_error: 1.9095 - val_acc: 0.0000e+00\n",
      "Epoch 14/50\n",
      "211849/211849 [==============================] - 13s 63us/step - loss: 10.6176 - mean_absolute_error: 1.9630 - acc: 0.0000e+00 - val_loss: 11.1783 - val_mean_absolute_error: 2.2098 - val_acc: 0.0000e+00\n",
      "Epoch 15/50\n",
      "211849/211849 [==============================] - 13s 60us/step - loss: 10.4981 - mean_absolute_error: 1.9527 - acc: 0.0000e+00 - val_loss: 9.2648 - val_mean_absolute_error: 1.8232 - val_acc: 0.0000e+00\n",
      "Epoch 16/50\n",
      "211849/211849 [==============================] - 13s 61us/step - loss: 10.6524 - mean_absolute_error: 1.9688 - acc: 0.0000e+00 - val_loss: 9.3107 - val_mean_absolute_error: 1.8315 - val_acc: 0.0000e+00\n",
      "Epoch 17/50\n",
      "211849/211849 [==============================] - 13s 59us/step - loss: 10.4486 - mean_absolute_error: 1.9407 - acc: 0.0000e+00 - val_loss: 9.3171 - val_mean_absolute_error: 1.8554 - val_acc: 1.8881e-05\n",
      "Epoch 18/50\n",
      "211849/211849 [==============================] - 14s 64us/step - loss: 10.3129 - mean_absolute_error: 1.9205 - acc: 0.0000e+00 - val_loss: 11.0345 - val_mean_absolute_error: 2.1251 - val_acc: 0.0000e+00\n",
      "Epoch 19/50\n",
      "211849/211849 [==============================] - 14s 66us/step - loss: 10.0879 - mean_absolute_error: 1.8885 - acc: 9.4407e-06 - val_loss: 10.4568 - val_mean_absolute_error: 2.0151 - val_acc: 0.0000e+00\n",
      "Epoch 20/50\n",
      "211849/211849 [==============================] - 15s 73us/step - loss: 10.3407 - mean_absolute_error: 1.9284 - acc: 9.4407e-06 - val_loss: 10.0668 - val_mean_absolute_error: 1.9530 - val_acc: 0.0000e+00\n",
      "Epoch 21/50\n",
      "211849/211849 [==============================] - 16s 75us/step - loss: 10.2211 - mean_absolute_error: 1.9102 - acc: 9.4407e-06 - val_loss: 10.4446 - val_mean_absolute_error: 2.1533 - val_acc: 0.0000e+00\n",
      "Epoch 22/50\n",
      "211849/211849 [==============================] - 14s 66us/step - loss: 10.3734 - mean_absolute_error: 1.9328 - acc: 9.4407e-06 - val_loss: 9.6185 - val_mean_absolute_error: 1.8590 - val_acc: 3.7762e-05\n",
      "Epoch 23/50\n",
      "211849/211849 [==============================] - 12s 56us/step - loss: 9.9331 - mean_absolute_error: 1.8700 - acc: 4.7203e-06 - val_loss: 8.8879 - val_mean_absolute_error: 1.8507 - val_acc: 0.0000e+00\n",
      "Epoch 24/50\n",
      "211849/211849 [==============================] - 14s 64us/step - loss: 9.9167 - mean_absolute_error: 1.8668 - acc: 4.7203e-06 - val_loss: 9.5444 - val_mean_absolute_error: 1.9708 - val_acc: 1.8881e-05\n",
      "Epoch 25/50\n",
      "211849/211849 [==============================] - 13s 61us/step - loss: 9.8862 - mean_absolute_error: 1.8639 - acc: 1.4161e-05 - val_loss: 8.9260 - val_mean_absolute_error: 1.8606 - val_acc: 1.8881e-05\n",
      "Epoch 26/50\n",
      "211849/211849 [==============================] - 11s 54us/step - loss: 9.8174 - mean_absolute_error: 1.8474 - acc: 0.0000e+00 - val_loss: 9.3100 - val_mean_absolute_error: 1.8546 - val_acc: 0.0000e+00\n",
      "Epoch 27/50\n",
      "211849/211849 [==============================] - 11s 53us/step - loss: 9.7365 - mean_absolute_error: 1.8427 - acc: 9.4407e-06 - val_loss: 9.4355 - val_mean_absolute_error: 1.9825 - val_acc: 1.8881e-05\n",
      "Epoch 28/50\n",
      "211849/211849 [==============================] - 12s 55us/step - loss: 9.7187 - mean_absolute_error: 1.8349 - acc: 1.8881e-05 - val_loss: 10.8692 - val_mean_absolute_error: 2.1726 - val_acc: 0.0000e+00\n",
      "Epoch 29/50\n",
      "211849/211849 [==============================] - 12s 57us/step - loss: 10.0184 - mean_absolute_error: 1.8863 - acc: 9.4407e-06 - val_loss: 8.5897 - val_mean_absolute_error: 1.7977 - val_acc: 1.8881e-05\n",
      "Epoch 30/50\n",
      "211849/211849 [==============================] - 12s 58us/step - loss: 9.5976 - mean_absolute_error: 1.8192 - acc: 2.3602e-05 - val_loss: 8.5261 - val_mean_absolute_error: 1.7469 - val_acc: 3.7762e-05\n",
      "Epoch 31/50\n",
      "211849/211849 [==============================] - 13s 63us/step - loss: 9.4882 - mean_absolute_error: 1.8043 - acc: 1.4161e-05 - val_loss: 8.3762 - val_mean_absolute_error: 1.7908 - val_acc: 1.8881e-05\n",
      "Epoch 32/50\n",
      "211849/211849 [==============================] - 11s 54us/step - loss: 9.5645 - mean_absolute_error: 1.8139 - acc: 1.4161e-05 - val_loss: 9.3504 - val_mean_absolute_error: 1.8695 - val_acc: 0.0000e+00\n",
      "Epoch 33/50\n",
      "211849/211849 [==============================] - 11s 54us/step - loss: 9.4945 - mean_absolute_error: 1.8039 - acc: 2.3602e-05 - val_loss: 8.1710 - val_mean_absolute_error: 1.7151 - val_acc: 3.7762e-05\n",
      "Epoch 34/50\n",
      "211849/211849 [==============================] - 14s 66us/step - loss: 9.5140 - mean_absolute_error: 1.8062 - acc: 1.8881e-05 - val_loss: 8.6478 - val_mean_absolute_error: 1.7456 - val_acc: 3.7762e-05\n",
      "Epoch 35/50\n",
      "211849/211849 [==============================] - 14s 68us/step - loss: 9.4646 - mean_absolute_error: 1.7995 - acc: 5.6644e-05 - val_loss: 10.3254 - val_mean_absolute_error: 2.1066 - val_acc: 0.0000e+00\n",
      "Epoch 36/50\n",
      "211849/211849 [==============================] - 15s 71us/step - loss: 9.3938 - mean_absolute_error: 1.7901 - acc: 8.0246e-05 - val_loss: 10.8305 - val_mean_absolute_error: 2.1558 - val_acc: 3.7762e-05\n",
      "Epoch 37/50\n",
      "211849/211849 [==============================] - 16s 75us/step - loss: 9.3807 - mean_absolute_error: 1.7865 - acc: 9.9127e-05 - val_loss: 8.6671 - val_mean_absolute_error: 1.8195 - val_acc: 1.8881e-05\n",
      "Epoch 38/50\n"
     ]
    },
    {
     "name": "stdout",
     "output_type": "stream",
     "text": [
      "211849/211849 [==============================] - 20s 94us/step - loss: 9.3222 - mean_absolute_error: 1.7791 - acc: 1.1329e-04 - val_loss: 8.2535 - val_mean_absolute_error: 1.7565 - val_acc: 7.5524e-05.7798 - acc: 1.1\n",
      "Epoch 39/50\n",
      "211849/211849 [==============================] - 13s 63us/step - loss: 9.2690 - mean_absolute_error: 1.7729 - acc: 8.4966e-05 - val_loss: 8.3263 - val_mean_absolute_error: 1.7303 - val_acc: 5.6643e-05\n",
      "Epoch 40/50\n",
      "211849/211849 [==============================] - 15s 71us/step - loss: 9.2883 - mean_absolute_error: 1.7717 - acc: 8.4966e-05 - val_loss: 9.3087 - val_mean_absolute_error: 1.9518 - val_acc: 1.8881e-05\n",
      "Epoch 41/50\n",
      "211849/211849 [==============================] - 12s 57us/step - loss: 9.1888 - mean_absolute_error: 1.7596 - acc: 1.1329e-04 - val_loss: 8.1067 - val_mean_absolute_error: 1.7467 - val_acc: 1.8881e-05\n",
      "Epoch 42/50\n",
      "211849/211849 [==============================] - 14s 65us/step - loss: 9.1690 - mean_absolute_error: 1.7554 - acc: 8.9687e-05 - val_loss: 8.2225 - val_mean_absolute_error: 1.7028 - val_acc: 5.6643e-05\n",
      "Epoch 43/50\n",
      "211849/211849 [==============================] - 11s 51us/step - loss: 9.1672 - mean_absolute_error: 1.7545 - acc: 8.0246e-05 - val_loss: 8.0354 - val_mean_absolute_error: 1.7173 - val_acc: 3.7762e-05\n",
      "Epoch 44/50\n",
      "211849/211849 [==============================] - 11s 52us/step - loss: 9.1405 - mean_absolute_error: 1.7499 - acc: 7.5525e-05 - val_loss: 8.3028 - val_mean_absolute_error: 1.7758 - val_acc: 3.7762e-05\n",
      "Epoch 45/50\n",
      "211849/211849 [==============================] - 12s 58us/step - loss: 9.0840 - mean_absolute_error: 1.7438 - acc: 7.5525e-05 - val_loss: 7.9386 - val_mean_absolute_error: 1.6778 - val_acc: 1.3217e-04\n",
      "Epoch 46/50\n",
      "211849/211849 [==============================] - 12s 56us/step - loss: 9.0285 - mean_absolute_error: 1.7314 - acc: 6.1364e-05 - val_loss: 7.9297 - val_mean_absolute_error: 1.7287 - val_acc: 0.0000e+00\n",
      "Epoch 47/50\n",
      "211849/211849 [==============================] - 14s 65us/step - loss: 9.0136 - mean_absolute_error: 1.7303 - acc: 1.0857e-04 - val_loss: 8.4130 - val_mean_absolute_error: 1.7193 - val_acc: 3.7762e-05\n",
      "Epoch 48/50\n",
      "211849/211849 [==============================] - 14s 64us/step - loss: 9.2526 - mean_absolute_error: 1.7643 - acc: 7.5525e-05 - val_loss: 8.1754 - val_mean_absolute_error: 1.7406 - val_acc: 9.4406e-05\n",
      "Epoch 49/50\n",
      "211849/211849 [==============================] - 12s 55us/step - loss: 8.9672 - mean_absolute_error: 1.7257 - acc: 1.1801e-04 - val_loss: 8.3416 - val_mean_absolute_error: 1.7977 - val_acc: 1.3217e-04\n",
      "Epoch 50/50\n",
      "211849/211849 [==============================] - 12s 56us/step - loss: 8.9944 - mean_absolute_error: 1.7286 - acc: 9.4407e-05 - val_loss: 8.7430 - val_mean_absolute_error: 1.8405 - val_acc: 3.7762e-05\n"
     ]
    },
    {
     "ename": "NameError",
     "evalue": "name 'plt' is not defined",
     "output_type": "error",
     "traceback": [
      "\u001b[1;31m---------------------------------------------------------------------------\u001b[0m",
      "\u001b[1;31mNameError\u001b[0m                                 Traceback (most recent call last)",
      "\u001b[1;32m<ipython-input-84-f653ed201e20>\u001b[0m in \u001b[0;36m<module>\u001b[1;34m\u001b[0m\n\u001b[0;32m      3\u001b[0m \u001b[1;33m\u001b[0m\u001b[0m\n\u001b[0;32m      4\u001b[0m \u001b[1;31m# loss plot\u001b[0m\u001b[1;33m\u001b[0m\u001b[1;33m\u001b[0m\u001b[1;33m\u001b[0m\u001b[0m\n\u001b[1;32m----> 5\u001b[1;33m \u001b[0mplt\u001b[0m\u001b[1;33m.\u001b[0m\u001b[0mplot\u001b[0m\u001b[1;33m(\u001b[0m\u001b[0mlog\u001b[0m\u001b[1;33m.\u001b[0m\u001b[0mhistory\u001b[0m\u001b[1;33m[\u001b[0m\u001b[1;34m'loss'\u001b[0m\u001b[1;33m]\u001b[0m\u001b[1;33m)\u001b[0m\u001b[1;33m\u001b[0m\u001b[1;33m\u001b[0m\u001b[0m\n\u001b[0m\u001b[0;32m      6\u001b[0m \u001b[0mplt\u001b[0m\u001b[1;33m.\u001b[0m\u001b[0mplot\u001b[0m\u001b[1;33m(\u001b[0m\u001b[0mlog\u001b[0m\u001b[1;33m.\u001b[0m\u001b[0mhistory\u001b[0m\u001b[1;33m[\u001b[0m\u001b[1;34m'val_loss'\u001b[0m\u001b[1;33m]\u001b[0m\u001b[1;33m)\u001b[0m\u001b[1;33m\u001b[0m\u001b[1;33m\u001b[0m\u001b[0m\n\u001b[0;32m      7\u001b[0m \u001b[0mplt\u001b[0m\u001b[1;33m.\u001b[0m\u001b[0mtitle\u001b[0m\u001b[1;33m(\u001b[0m\u001b[1;34m'Model Loss'\u001b[0m\u001b[1;33m)\u001b[0m\u001b[1;33m\u001b[0m\u001b[1;33m\u001b[0m\u001b[0m\n",
      "\u001b[1;31mNameError\u001b[0m: name 'plt' is not defined"
     ]
    }
   ],
   "source": [
    "# train model\n",
    "log = regressor.fit(X_train,y_train)"
   ]
  },
  {
   "cell_type": "code",
   "execution_count": 86,
   "metadata": {},
   "outputs": [
    {
     "data": {
      "image/png": "[encoded data removed]",
      "text/plain": [
       "<Figure size 432x288 with 1 Axes>"
      ]
     },
     "metadata": {
      "needs_background": "light"
     },
     "output_type": "display_data"
    }
   ],
   "source": [
    "import matplotlib.pyplot as plt\n",
    "\n",
    "# loss plot\n",
    "plt.plot(log.history['loss'])\n",
    "plt.plot(log.history['val_loss'])\n",
    "plt.title('Model Loss')\n",
    "plt.ylabel('loss')\n",
    "plt.xlabel('epoch')\n",
    "plt.legend(['train', 'validation'], loc='upper right')\n",
    "plt.show()"
   ]
  },
  {
   "cell_type": "code",
   "execution_count": 87,
   "metadata": {},
   "outputs": [],
   "source": [
    "# make predictions\n",
    "y_pred = regressor.predict(X_test)"
   ]
  },
  {
   "cell_type": "code",
   "execution_count": 89,
   "metadata": {},
   "outputs": [
    {
     "ename": "ValueError",
     "evalue": "Image size of 210838x23476 pixels is too large. It must be less than 2^16 in each direction.",
     "output_type": "error",
     "traceback": [
      "\u001b[1;31m---------------------------------------------------------------------------\u001b[0m",
      "\u001b[1;31mValueError\u001b[0m                                Traceback (most recent call last)",
      "\u001b[1;32m~\\Anaconda3\\lib\\site-packages\\IPython\\core\\formatters.py\u001b[0m in \u001b[0;36m__call__\u001b[1;34m(self, obj)\u001b[0m\n\u001b[0;32m    339\u001b[0m                 \u001b[1;32mpass\u001b[0m\u001b[1;33m\u001b[0m\u001b[1;33m\u001b[0m\u001b[0m\n\u001b[0;32m    340\u001b[0m             \u001b[1;32melse\u001b[0m\u001b[1;33m:\u001b[0m\u001b[1;33m\u001b[0m\u001b[1;33m\u001b[0m\u001b[0m\n\u001b[1;32m--> 341\u001b[1;33m                 \u001b[1;32mreturn\u001b[0m \u001b[0mprinter\u001b[0m\u001b[1;33m(\u001b[0m\u001b[0mobj\u001b[0m\u001b[1;33m)\u001b[0m\u001b[1;33m\u001b[0m\u001b[1;33m\u001b[0m\u001b[0m\n\u001b[0m\u001b[0;32m    342\u001b[0m             \u001b[1;31m# Finally look for special method names\u001b[0m\u001b[1;33m\u001b[0m\u001b[1;33m\u001b[0m\u001b[1;33m\u001b[0m\u001b[0m\n\u001b[0;32m    343\u001b[0m             \u001b[0mmethod\u001b[0m \u001b[1;33m=\u001b[0m \u001b[0mget_real_method\u001b[0m\u001b[1;33m(\u001b[0m\u001b[0mobj\u001b[0m\u001b[1;33m,\u001b[0m \u001b[0mself\u001b[0m\u001b[1;33m.\u001b[0m\u001b[0mprint_method\u001b[0m\u001b[1;33m)\u001b[0m\u001b[1;33m\u001b[0m\u001b[1;33m\u001b[0m\u001b[0m\n",
      "\u001b[1;32m~\\Anaconda3\\lib\\site-packages\\IPython\\core\\pylabtools.py\u001b[0m in \u001b[0;36m<lambda>\u001b[1;34m(fig)\u001b[0m\n\u001b[0;32m    242\u001b[0m \u001b[1;33m\u001b[0m\u001b[0m\n\u001b[0;32m    243\u001b[0m     \u001b[1;32mif\u001b[0m \u001b[1;34m'png'\u001b[0m \u001b[1;32min\u001b[0m \u001b[0mformats\u001b[0m\u001b[1;33m:\u001b[0m\u001b[1;33m\u001b[0m\u001b[1;33m\u001b[0m\u001b[0m\n\u001b[1;32m--> 244\u001b[1;33m         \u001b[0mpng_formatter\u001b[0m\u001b[1;33m.\u001b[0m\u001b[0mfor_type\u001b[0m\u001b[1;33m(\u001b[0m\u001b[0mFigure\u001b[0m\u001b[1;33m,\u001b[0m \u001b[1;32mlambda\u001b[0m \u001b[0mfig\u001b[0m\u001b[1;33m:\u001b[0m \u001b[0mprint_figure\u001b[0m\u001b[1;33m(\u001b[0m\u001b[0mfig\u001b[0m\u001b[1;33m,\u001b[0m \u001b[1;34m'png'\u001b[0m\u001b[1;33m,\u001b[0m \u001b[1;33m**\u001b[0m\u001b[0mkwargs\u001b[0m\u001b[1;33m)\u001b[0m\u001b[1;33m)\u001b[0m\u001b[1;33m\u001b[0m\u001b[1;33m\u001b[0m\u001b[0m\n\u001b[0m\u001b[0;32m    245\u001b[0m     \u001b[1;32mif\u001b[0m \u001b[1;34m'retina'\u001b[0m \u001b[1;32min\u001b[0m \u001b[0mformats\u001b[0m \u001b[1;32mor\u001b[0m \u001b[1;34m'png2x'\u001b[0m \u001b[1;32min\u001b[0m \u001b[0mformats\u001b[0m\u001b[1;33m:\u001b[0m\u001b[1;33m\u001b[0m\u001b[1;33m\u001b[0m\u001b[0m\n\u001b[0;32m    246\u001b[0m         \u001b[0mpng_formatter\u001b[0m\u001b[1;33m.\u001b[0m\u001b[0mfor_type\u001b[0m\u001b[1;33m(\u001b[0m\u001b[0mFigure\u001b[0m\u001b[1;33m,\u001b[0m \u001b[1;32mlambda\u001b[0m \u001b[0mfig\u001b[0m\u001b[1;33m:\u001b[0m \u001b[0mretina_figure\u001b[0m\u001b[1;33m(\u001b[0m\u001b[0mfig\u001b[0m\u001b[1;33m,\u001b[0m \u001b[1;33m**\u001b[0m\u001b[0mkwargs\u001b[0m\u001b[1;33m)\u001b[0m\u001b[1;33m)\u001b[0m\u001b[1;33m\u001b[0m\u001b[1;33m\u001b[0m\u001b[0m\n",
      "\u001b[1;32m~\\Anaconda3\\lib\\site-packages\\IPython\\core\\pylabtools.py\u001b[0m in \u001b[0;36mprint_figure\u001b[1;34m(fig, fmt, bbox_inches, **kwargs)\u001b[0m\n\u001b[0;32m    126\u001b[0m \u001b[1;33m\u001b[0m\u001b[0m\n\u001b[0;32m    127\u001b[0m     \u001b[0mbytes_io\u001b[0m \u001b[1;33m=\u001b[0m \u001b[0mBytesIO\u001b[0m\u001b[1;33m(\u001b[0m\u001b[1;33m)\u001b[0m\u001b[1;33m\u001b[0m\u001b[1;33m\u001b[0m\u001b[0m\n\u001b[1;32m--> 128\u001b[1;33m     \u001b[0mfig\u001b[0m\u001b[1;33m.\u001b[0m\u001b[0mcanvas\u001b[0m\u001b[1;33m.\u001b[0m\u001b[0mprint_figure\u001b[0m\u001b[1;33m(\u001b[0m\u001b[0mbytes_io\u001b[0m\u001b[1;33m,\u001b[0m \u001b[1;33m**\u001b[0m\u001b[0mkw\u001b[0m\u001b[1;33m)\u001b[0m\u001b[1;33m\u001b[0m\u001b[1;33m\u001b[0m\u001b[0m\n\u001b[0m\u001b[0;32m    129\u001b[0m     \u001b[0mdata\u001b[0m \u001b[1;33m=\u001b[0m \u001b[0mbytes_io\u001b[0m\u001b[1;33m.\u001b[0m\u001b[0mgetvalue\u001b[0m\u001b[1;33m(\u001b[0m\u001b[1;33m)\u001b[0m\u001b[1;33m\u001b[0m\u001b[1;33m\u001b[0m\u001b[0m\n\u001b[0;32m    130\u001b[0m     \u001b[1;32mif\u001b[0m \u001b[0mfmt\u001b[0m \u001b[1;33m==\u001b[0m \u001b[1;34m'svg'\u001b[0m\u001b[1;33m:\u001b[0m\u001b[1;33m\u001b[0m\u001b[1;33m\u001b[0m\u001b[0m\n",
      "\u001b[1;32m~\\Anaconda3\\lib\\site-packages\\matplotlib\\backend_bases.py\u001b[0m in \u001b[0;36mprint_figure\u001b[1;34m(self, filename, dpi, facecolor, edgecolor, orientation, format, **kwargs)\u001b[0m\n\u001b[0;32m   2261\u001b[0m                 \u001b[0morientation\u001b[0m\u001b[1;33m=\u001b[0m\u001b[0morientation\u001b[0m\u001b[1;33m,\u001b[0m\u001b[1;33m\u001b[0m\u001b[1;33m\u001b[0m\u001b[0m\n\u001b[0;32m   2262\u001b[0m                 \u001b[0mbbox_inches_restore\u001b[0m\u001b[1;33m=\u001b[0m\u001b[0m_bbox_inches_restore\u001b[0m\u001b[1;33m,\u001b[0m\u001b[1;33m\u001b[0m\u001b[1;33m\u001b[0m\u001b[0m\n\u001b[1;32m-> 2263\u001b[1;33m                 **kwargs)\n\u001b[0m\u001b[0;32m   2264\u001b[0m         \u001b[1;32mfinally\u001b[0m\u001b[1;33m:\u001b[0m\u001b[1;33m\u001b[0m\u001b[1;33m\u001b[0m\u001b[0m\n\u001b[0;32m   2265\u001b[0m             \u001b[1;32mif\u001b[0m \u001b[0mbbox_inches\u001b[0m \u001b[1;32mand\u001b[0m \u001b[0mrestore_bbox\u001b[0m\u001b[1;33m:\u001b[0m\u001b[1;33m\u001b[0m\u001b[1;33m\u001b[0m\u001b[0m\n",
      "\u001b[1;32m~\\Anaconda3\\lib\\site-packages\\matplotlib\\backends\\backend_agg.py\u001b[0m in \u001b[0;36mprint_png\u001b[1;34m(self, filename_or_obj, *args, **kwargs)\u001b[0m\n\u001b[0;32m    515\u001b[0m \u001b[1;33m\u001b[0m\u001b[0m\n\u001b[0;32m    516\u001b[0m     \u001b[1;32mdef\u001b[0m \u001b[0mprint_png\u001b[0m\u001b[1;33m(\u001b[0m\u001b[0mself\u001b[0m\u001b[1;33m,\u001b[0m \u001b[0mfilename_or_obj\u001b[0m\u001b[1;33m,\u001b[0m \u001b[1;33m*\u001b[0m\u001b[0margs\u001b[0m\u001b[1;33m,\u001b[0m \u001b[1;33m**\u001b[0m\u001b[0mkwargs\u001b[0m\u001b[1;33m)\u001b[0m\u001b[1;33m:\u001b[0m\u001b[1;33m\u001b[0m\u001b[1;33m\u001b[0m\u001b[0m\n\u001b[1;32m--> 517\u001b[1;33m         \u001b[0mFigureCanvasAgg\u001b[0m\u001b[1;33m.\u001b[0m\u001b[0mdraw\u001b[0m\u001b[1;33m(\u001b[0m\u001b[0mself\u001b[0m\u001b[1;33m)\u001b[0m\u001b[1;33m\u001b[0m\u001b[1;33m\u001b[0m\u001b[0m\n\u001b[0m\u001b[0;32m    518\u001b[0m         \u001b[0mrenderer\u001b[0m \u001b[1;33m=\u001b[0m \u001b[0mself\u001b[0m\u001b[1;33m.\u001b[0m\u001b[0mget_renderer\u001b[0m\u001b[1;33m(\u001b[0m\u001b[1;33m)\u001b[0m\u001b[1;33m\u001b[0m\u001b[1;33m\u001b[0m\u001b[0m\n\u001b[0;32m    519\u001b[0m         \u001b[0moriginal_dpi\u001b[0m \u001b[1;33m=\u001b[0m \u001b[0mrenderer\u001b[0m\u001b[1;33m.\u001b[0m\u001b[0mdpi\u001b[0m\u001b[1;33m\u001b[0m\u001b[1;33m\u001b[0m\u001b[0m\n",
      "\u001b[1;32m~\\Anaconda3\\lib\\site-packages\\matplotlib\\backends\\backend_agg.py\u001b[0m in \u001b[0;36mdraw\u001b[1;34m(self)\u001b[0m\n\u001b[0;32m    427\u001b[0m         \u001b[0mDraw\u001b[0m \u001b[0mthe\u001b[0m \u001b[0mfigure\u001b[0m \u001b[0musing\u001b[0m \u001b[0mthe\u001b[0m \u001b[0mrenderer\u001b[0m\u001b[1;33m\u001b[0m\u001b[1;33m\u001b[0m\u001b[0m\n\u001b[0;32m    428\u001b[0m         \"\"\"\n\u001b[1;32m--> 429\u001b[1;33m         \u001b[0mself\u001b[0m\u001b[1;33m.\u001b[0m\u001b[0mrenderer\u001b[0m \u001b[1;33m=\u001b[0m \u001b[0mself\u001b[0m\u001b[1;33m.\u001b[0m\u001b[0mget_renderer\u001b[0m\u001b[1;33m(\u001b[0m\u001b[0mcleared\u001b[0m\u001b[1;33m=\u001b[0m\u001b[1;32mTrue\u001b[0m\u001b[1;33m)\u001b[0m\u001b[1;33m\u001b[0m\u001b[1;33m\u001b[0m\u001b[0m\n\u001b[0m\u001b[0;32m    430\u001b[0m         \u001b[1;31m# acquire a lock on the shared font cache\u001b[0m\u001b[1;33m\u001b[0m\u001b[1;33m\u001b[0m\u001b[1;33m\u001b[0m\u001b[0m\n\u001b[0;32m    431\u001b[0m         \u001b[0mRendererAgg\u001b[0m\u001b[1;33m.\u001b[0m\u001b[0mlock\u001b[0m\u001b[1;33m.\u001b[0m\u001b[0macquire\u001b[0m\u001b[1;33m(\u001b[0m\u001b[1;33m)\u001b[0m\u001b[1;33m\u001b[0m\u001b[1;33m\u001b[0m\u001b[0m\n",
      "\u001b[1;32m~\\Anaconda3\\lib\\site-packages\\matplotlib\\backends\\backend_agg.py\u001b[0m in \u001b[0;36mget_renderer\u001b[1;34m(self, cleared)\u001b[0m\n\u001b[0;32m    452\u001b[0m \u001b[1;33m\u001b[0m\u001b[0m\n\u001b[0;32m    453\u001b[0m         \u001b[1;32mif\u001b[0m \u001b[0mneed_new_renderer\u001b[0m\u001b[1;33m:\u001b[0m\u001b[1;33m\u001b[0m\u001b[1;33m\u001b[0m\u001b[0m\n\u001b[1;32m--> 454\u001b[1;33m             \u001b[0mself\u001b[0m\u001b[1;33m.\u001b[0m\u001b[0mrenderer\u001b[0m \u001b[1;33m=\u001b[0m \u001b[0mRendererAgg\u001b[0m\u001b[1;33m(\u001b[0m\u001b[0mw\u001b[0m\u001b[1;33m,\u001b[0m \u001b[0mh\u001b[0m\u001b[1;33m,\u001b[0m \u001b[0mself\u001b[0m\u001b[1;33m.\u001b[0m\u001b[0mfigure\u001b[0m\u001b[1;33m.\u001b[0m\u001b[0mdpi\u001b[0m\u001b[1;33m)\u001b[0m\u001b[1;33m\u001b[0m\u001b[1;33m\u001b[0m\u001b[0m\n\u001b[0m\u001b[0;32m    455\u001b[0m             \u001b[0mself\u001b[0m\u001b[1;33m.\u001b[0m\u001b[0m_lastKey\u001b[0m \u001b[1;33m=\u001b[0m \u001b[0mkey\u001b[0m\u001b[1;33m\u001b[0m\u001b[1;33m\u001b[0m\u001b[0m\n\u001b[0;32m    456\u001b[0m         \u001b[1;32melif\u001b[0m \u001b[0mcleared\u001b[0m\u001b[1;33m:\u001b[0m\u001b[1;33m\u001b[0m\u001b[1;33m\u001b[0m\u001b[0m\n",
      "\u001b[1;32m~\\Anaconda3\\lib\\site-packages\\matplotlib\\backends\\backend_agg.py\u001b[0m in \u001b[0;36m__init__\u001b[1;34m(self, width, height, dpi)\u001b[0m\n\u001b[0;32m     99\u001b[0m         \u001b[0mself\u001b[0m\u001b[1;33m.\u001b[0m\u001b[0mwidth\u001b[0m \u001b[1;33m=\u001b[0m \u001b[0mwidth\u001b[0m\u001b[1;33m\u001b[0m\u001b[1;33m\u001b[0m\u001b[0m\n\u001b[0;32m    100\u001b[0m         \u001b[0mself\u001b[0m\u001b[1;33m.\u001b[0m\u001b[0mheight\u001b[0m \u001b[1;33m=\u001b[0m \u001b[0mheight\u001b[0m\u001b[1;33m\u001b[0m\u001b[1;33m\u001b[0m\u001b[0m\n\u001b[1;32m--> 101\u001b[1;33m         \u001b[0mself\u001b[0m\u001b[1;33m.\u001b[0m\u001b[0m_renderer\u001b[0m \u001b[1;33m=\u001b[0m \u001b[0m_RendererAgg\u001b[0m\u001b[1;33m(\u001b[0m\u001b[0mint\u001b[0m\u001b[1;33m(\u001b[0m\u001b[0mwidth\u001b[0m\u001b[1;33m)\u001b[0m\u001b[1;33m,\u001b[0m \u001b[0mint\u001b[0m\u001b[1;33m(\u001b[0m\u001b[0mheight\u001b[0m\u001b[1;33m)\u001b[0m\u001b[1;33m,\u001b[0m \u001b[0mdpi\u001b[0m\u001b[1;33m)\u001b[0m\u001b[1;33m\u001b[0m\u001b[1;33m\u001b[0m\u001b[0m\n\u001b[0m\u001b[0;32m    102\u001b[0m         \u001b[0mself\u001b[0m\u001b[1;33m.\u001b[0m\u001b[0m_filter_renderers\u001b[0m \u001b[1;33m=\u001b[0m \u001b[1;33m[\u001b[0m\u001b[1;33m]\u001b[0m\u001b[1;33m\u001b[0m\u001b[1;33m\u001b[0m\u001b[0m\n\u001b[0;32m    103\u001b[0m \u001b[1;33m\u001b[0m\u001b[0m\n",
      "\u001b[1;31mValueError\u001b[0m: Image size of 210838x23476 pixels is too large. It must be less than 2^16 in each direction."
     ]
    },
    {
     "data": {
      "text/plain": [
       "<Figure size 720x360 with 3 Axes>"
      ]
     },
     "metadata": {
      "needs_background": "light"
     },
     "output_type": "display_data"
    }
   ],
   "source": [
    "# plot predicitons\n",
    "import matplotlib.pyplot as plt\n",
    "from matplotlib.colors import ListedColormap\n",
    "from matplotlib import cm\n",
    "# configure scatterplot\n",
    "fig, (ax1, ax2) = plt.subplots(1, 2, figsize=(10,5))\n",
    "fig.subplots_adjust(wspace=0.25)\n",
    "ax1.scatter(y_test, y_pred,5)\n",
    "ax1.plot([y_test.min(), y_test.max()], [y_test.min(), y_test.max()], 'k--', lw=4)\n",
    "ax1.set_xlabel('Measured')\n",
    "ax1.set_ylabel('Predicted')\n",
    "ax1.set_ylim([0,0.3])\n",
    "ax1.set_xlim([0,0.31])\n",
    "ax1.set_title('Measured vs Prediction Scatterplot')\n",
    "\n",
    "# configure 2d histogram\n",
    "# cmap initialization\n",
    "#heatMap = cm.get_cmap('hot_r',9500)\n",
    "#newColors = heatMap(np.linspace(0, 1,9500))\n",
    "#grey = np.array([0.941, 0.941, 0.941,1])\n",
    "#newColors[1:19,:] = grey\n",
    "#newHeatMap = ListedColormap(newColors)\n",
    "# histogram initialization\n",
    "hist = ax2.hist2d(y_test,y_pred,bins=[10,10],cmap='hot_r')\n",
    "ax2.set_ylim([0,0.3])\n",
    "ax2.set_xlim([0,0.27])\n",
    "fig.colorbar(hist[3], ax = ax2)\n",
    "ax2.set_xlabel('Measured')\n",
    "ax2.set_ylabel('Predicted')\n",
    "ax2.set_title('Measured vs Prediction Histogram')\n",
    "\n",
    "plt.show()"
   ]
  },
  {
   "cell_type": "code",
   "execution_count": null,
   "metadata": {
    "collapsed": true
   },
   "outputs": [],
   "source": []
  }
 ],
 "metadata": {
  "kernelspec": {
   "display_name": "Python 3",
   "language": "python",
   "name": "python3"
  },
  "language_info": {
   "codemirror_mode": {
    "name": "ipython",
    "version": 3
   },
   "file_extension": ".py",
   "mimetype": "text/x-python",
   "name": "python",
   "nbconvert_exporter": "python",
   "pygments_lexer": "ipython3",
   "version": "3.7.3"
  }
 },
 "nbformat": 4,
 "nbformat_minor": 2
}
