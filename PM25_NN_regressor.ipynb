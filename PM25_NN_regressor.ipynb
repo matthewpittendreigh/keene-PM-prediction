{
 "cells": [
  {
   "cell_type": "code",
   "execution_count": 1,
   "metadata": {},
   "outputs": [],
   "source": [
    "# global imports\n",
    "import numpy as np\n",
    "import matplotlib.pyplot as plt\n",
    "from matplotlib.colors import ListedColormap\n",
    "from matplotlib import cm\n",
    "import pandas as pd\n",
    "import tensorflow as tf"
   ]
  },
  {
   "cell_type": "code",
   "execution_count": 2,
   "metadata": {},
   "outputs": [],
   "source": [
    "# instantiate pathway variables\n",
    "projectDir='D:\\mattp\\Documents\\School\\SeniorYear\\DataAnalysis\\Homework\\PMAnalysisHW'\n",
    "\n",
    "KHDir = projectDir + '\\KHresamplePAandWthr-1217_0118.csv'\n",
    "MADir = projectDir + '\\MAresamplePAandWthr-1217_0118.csv'\n",
    "#USDir = projectDir + '\\USresamplePAandWthr-1217_0118.csv'\n",
    "\n",
    "# read in data\n",
    "KHData = pd.read_csv(KHDir,header=0)\n",
    "MAData = pd.read_csv(MADir,header=0)\n",
    "#USData = pd.read_csv(USDir,header=0)\n",
    "\n",
    "#Data = pd.concat([KHData,MAData], axis=0)\n",
    "Data = KHData"
   ]
  },
  {
   "cell_type": "code",
   "execution_count": 3,
   "metadata": {},
   "outputs": [],
   "source": [
    "# create useful data structures\n",
    "from sklearn import preprocessing\n",
    "# create labelencoder object\n",
    "le = preprocessing.LabelEncoder()\n",
    "\n",
    "# encode wind direction\n",
    "encodedWindDir = le.fit_transform(Data.windMPH)\n",
    "encodedWindDirDf = pd.DataFrame(encodedWindDir)\n",
    "\n",
    "# process datetime\n",
    "import datetime as dt\n",
    "dtParsed = [0 for i in range(Data.shape[0])]\n",
    "for i in range(Data.shape[0]):\n",
    "    dtParsed[i] = dt.datetime.strptime(Data.datetime.values[i], '%Y-%m-%d %H:%M:%S')\n",
    "\n",
    "# enumerate time of day\n",
    "dtEnumerated = [0 for i in range(Data.shape[0])]\n",
    "for i in range(Data.shape[0]):\n",
    "    dtEnumerated[i] = dtParsed[i].hour*3600 + dtParsed[i].minute*60 + dtParsed[i].second\n",
    "dtEmumeratedDf = pd.DataFrame(dtEnumerated)\n",
    "\n",
    "# drop out bad rows\n",
    "Data.reset_index(drop=True, inplace=True)\n",
    "    \n",
    "# combine features and output for scaling\n",
    "features = pd.concat([dtEmumeratedDf, encodedWindDirDf, Data.temperatureF, Data.dewpointF, Data.humidityPCNT, Data.wind_speedMPH, Data.wind_gustsMPH, Data.pressureIN, Data.precipIN,Data.PM25],axis=1)"
   ]
  },
  {
   "cell_type": "code",
   "execution_count": 4,
   "metadata": {},
   "outputs": [],
   "source": [
    "# scale features\n",
    "from sklearn.preprocessing import MinMaxScaler\n",
    "sc = MinMaxScaler()\n",
    "scaled = sc.fit_transform(features)\n",
    "\n",
    "# seperate scaled data(X) and output(y)\n",
    "X = scaled[:,0:9]\n",
    "y = np.asarray(features)[:,9]"
   ]
  },
  {
   "cell_type": "code",
   "execution_count": 5,
   "metadata": {},
   "outputs": [],
   "source": [
    "# split the data into training and testing sets\n",
    "from sklearn.model_selection import train_test_split\n",
    "X_train, X_test, y_train, y_test = train_test_split(X, y, test_size=0.2)"
   ]
  },
  {
   "cell_type": "code",
   "execution_count": 11,
   "metadata": {},
   "outputs": [],
   "source": [
    "# instantiate regressor model\n",
    "from keras import Sequential\n",
    "from keras.layers import Dense\n",
    "def build_regressor():\n",
    "    regressor = Sequential()\n",
    "    regressor.add(Dense(100, input_dim=9, kernel_initializer='normal', activation='relu'))\n",
    "    regressor.add(Dense(100, kernel_initializer='normal', activation='relu'))\n",
    "    regressor.add(Dense(75, kernel_initializer='normal', activation='relu'))\n",
    "    regressor.add(Dense(50, kernel_initializer='normal', activation='relu'))\n",
    "    regressor.add(Dense(1, kernel_initializer='normal'))\n",
    "    regressor.compile(optimizer='adam', loss='mean_squared_error',  metrics=['mae','accuracy'])\n",
    "    return regressor\n",
    "\n",
    "# select batch size, epochs, validation set size\n",
    "from keras.wrappers.scikit_learn import KerasRegressor\n",
    "regressor = KerasRegressor(build_fn=build_regressor, batch_size=64,epochs=50,validation_split=0.2)"
   ]
  },
  {
   "cell_type": "code",
   "execution_count": 18,
   "metadata": {
    "scrolled": true
   },
   "outputs": [
    {
     "name": "stdout",
     "output_type": "stream",
     "text": [
      "Train on 30400 samples, validate on 7600 samples\n",
      "Epoch 1/50\n",
      "30400/30400 [==============================] - 4s 146us/step - loss: 197.6285 - mean_absolute_error: 10.2441 - acc: 0.0014 - val_loss: 173.9424 - val_mean_absolute_error: 9.9067 - val_acc: 9.2105e-04\n",
      "Epoch 2/50\n",
      "30400/30400 [==============================] - 3s 92us/step - loss: 175.4728 - mean_absolute_error: 9.7684 - acc: 8.8816e-04 - val_loss: 173.1941 - val_mean_absolute_error: 10.0467 - val_acc: 7.8947e-04\n",
      "Epoch 3/50\n",
      "30400/30400 [==============================] - 3s 104us/step - loss: 174.7814 - mean_absolute_error: 9.7350 - acc: 9.8684e-04 - val_loss: 171.4427 - val_mean_absolute_error: 9.7063 - val_acc: 9.2105e-04\n",
      "Epoch 4/50\n",
      "30400/30400 [==============================] - 3s 94us/step - loss: 173.4918 - mean_absolute_error: 9.6883 - acc: 8.5526e-04 - val_loss: 169.6513 - val_mean_absolute_error: 9.5654 - val_acc: 0.0013\n",
      "Epoch 5/50\n",
      "30400/30400 [==============================] - 3s 98us/step - loss: 171.4315 - mean_absolute_error: 9.6041 - acc: 0.0010 - val_loss: 167.1918 - val_mean_absolute_error: 9.6151 - val_acc: 0.0012\n",
      "Epoch 6/50\n",
      "30400/30400 [==============================] - 3s 98us/step - loss: 169.2520 - mean_absolute_error: 9.5053 - acc: 0.0014 - val_loss: 164.0120 - val_mean_absolute_error: 9.3887 - val_acc: 0.0018\n",
      "Epoch 7/50\n",
      "30400/30400 [==============================] - 3s 90us/step - loss: 166.3859 - mean_absolute_error: 9.3928 - acc: 0.0013 - val_loss: 161.6182 - val_mean_absolute_error: 9.2417 - val_acc: 0.0014\n",
      "Epoch 8/50\n",
      "30400/30400 [==============================] - 3s 93us/step - loss: 163.5118 - mean_absolute_error: 9.2671 - acc: 9.2105e-04 - val_loss: 166.1289 - val_mean_absolute_error: 10.2146 - val_acc: 6.5789e-04\n",
      "Epoch 9/50\n",
      "30400/30400 [==============================] - 3s 88us/step - loss: 159.5141 - mean_absolute_error: 9.1293 - acc: 0.0012 - val_loss: 158.9160 - val_mean_absolute_error: 8.6576 - val_acc: 0.0021\n",
      "Epoch 10/50\n",
      "30400/30400 [==============================] - 3s 102us/step - loss: 155.2651 - mean_absolute_error: 8.9368 - acc: 0.0013 - val_loss: 148.5351 - val_mean_absolute_error: 8.6457 - val_acc: 0.0017\n",
      "Epoch 11/50\n",
      "30400/30400 [==============================] - 3s 103us/step - loss: 151.0026 - mean_absolute_error: 8.7446 - acc: 0.0018 - val_loss: 145.7689 - val_mean_absolute_error: 8.7437 - val_acc: 0.0017\n",
      "Epoch 12/50\n",
      "30400/30400 [==============================] - 3s 111us/step - loss: 146.0044 - mean_absolute_error: 8.5270 - acc: 0.0017 - val_loss: 143.8831 - val_mean_absolute_error: 8.1287 - val_acc: 0.0022\n",
      "Epoch 13/50\n",
      "30400/30400 [==============================] - 4s 123us/step - loss: 142.1977 - mean_absolute_error: 8.3478 - acc: 0.0020 - val_loss: 139.0021 - val_mean_absolute_error: 8.5482 - val_acc: 0.0011\n",
      "Epoch 14/50\n",
      "30400/30400 [==============================] - 3s 107us/step - loss: 138.5031 - mean_absolute_error: 8.1651 - acc: 0.0019 - val_loss: 130.7213 - val_mean_absolute_error: 8.0752 - val_acc: 0.0018\n",
      "Epoch 15/50\n",
      "30400/30400 [==============================] - 4s 123us/step - loss: 137.1356 - mean_absolute_error: 8.1141 - acc: 0.0022 - val_loss: 127.8200 - val_mean_absolute_error: 7.9184 - val_acc: 0.0021\n",
      "Epoch 16/50\n",
      "30400/30400 [==============================] - 6s 192us/step - loss: 133.3447 - mean_absolute_error: 7.9511 - acc: 0.0027 - val_loss: 125.7550 - val_mean_absolute_error: 7.8038 - val_acc: 0.0016\n",
      "Epoch 17/50\n",
      "30400/30400 [==============================] - 8s 248us/step - loss: 132.8300 - mean_absolute_error: 7.9051 - acc: 0.0024 - val_loss: 126.4847 - val_mean_absolute_error: 8.1008 - val_acc: 0.0021\n",
      "Epoch 18/50\n",
      "30400/30400 [==============================] - 4s 141us/step - loss: 129.9904 - mean_absolute_error: 7.7941 - acc: 0.0022 - val_loss: 124.4962 - val_mean_absolute_error: 8.0600 - val_acc: 0.0018\n",
      "Epoch 19/50\n",
      "30400/30400 [==============================] - 4s 127us/step - loss: 128.1347 - mean_absolute_error: 7.7321 - acc: 0.0023 - val_loss: 118.6076 - val_mean_absolute_error: 7.6512 - val_acc: 0.0013\n",
      "Epoch 20/50\n",
      "30400/30400 [==============================] - 3s 90us/step - loss: 124.7783 - mean_absolute_error: 7.5773 - acc: 0.0021 - val_loss: 115.7450 - val_mean_absolute_error: 7.2871 - val_acc: 0.0017\n",
      "Epoch 21/50\n",
      "30400/30400 [==============================] - 3s 86us/step - loss: 122.2920 - mean_absolute_error: 7.4850 - acc: 0.0023 - val_loss: 116.1703 - val_mean_absolute_error: 7.6580 - val_acc: 0.0025\n",
      "Epoch 22/50\n",
      "30400/30400 [==============================] - 3s 90us/step - loss: 120.9635 - mean_absolute_error: 7.4053 - acc: 0.0029 - val_loss: 111.5925 - val_mean_absolute_error: 7.3405 - val_acc: 0.0034\n",
      "Epoch 23/50\n",
      "30400/30400 [==============================] - 4s 138us/step - loss: 117.3156 - mean_absolute_error: 7.2848 - acc: 0.0025 - val_loss: 110.2552 - val_mean_absolute_error: 6.9736 - val_acc: 0.0025\n",
      "Epoch 24/50\n",
      "30400/30400 [==============================] - 3s 109us/step - loss: 115.5818 - mean_absolute_error: 7.2081 - acc: 0.0030 - val_loss: 114.0264 - val_mean_absolute_error: 7.6794 - val_acc: 0.0026\n",
      "Epoch 25/50\n",
      "30400/30400 [==============================] - 3s 91us/step - loss: 114.4741 - mean_absolute_error: 7.1614 - acc: 0.0033 - val_loss: 105.1176 - val_mean_absolute_error: 6.8469 - val_acc: 0.0026\n",
      "Epoch 26/50\n",
      "30400/30400 [==============================] - 4s 120us/step - loss: 111.1920 - mean_absolute_error: 7.0245 - acc: 0.0031 - val_loss: 101.9373 - val_mean_absolute_error: 6.8263 - val_acc: 0.0026\n",
      "Epoch 27/50\n",
      "30400/30400 [==============================] - 4s 120us/step - loss: 109.8604 - mean_absolute_error: 6.9639 - acc: 0.0028 - val_loss: 104.4853 - val_mean_absolute_error: 6.7089 - val_acc: 0.0026\n",
      "Epoch 28/50\n",
      "30400/30400 [==============================] - 2s 77us/step - loss: 106.7265 - mean_absolute_error: 6.8479 - acc: 0.0028 - val_loss: 98.3225 - val_mean_absolute_error: 6.5951 - val_acc: 0.0022\n",
      "Epoch 29/50\n",
      "30400/30400 [==============================] - 2s 79us/step - loss: 105.9943 - mean_absolute_error: 6.7953 - acc: 0.0026 - val_loss: 97.3297 - val_mean_absolute_error: 6.6615 - val_acc: 0.0032\n",
      "Epoch 30/50\n",
      "30400/30400 [==============================] - 2s 80us/step - loss: 105.0127 - mean_absolute_error: 6.7826 - acc: 0.0034 - val_loss: 96.0738 - val_mean_absolute_error: 6.5126 - val_acc: 0.0026\n",
      "Epoch 31/50\n",
      "30400/30400 [==============================] - 2s 76us/step - loss: 102.8495 - mean_absolute_error: 6.6641 - acc: 0.0033 - val_loss: 92.4608 - val_mean_absolute_error: 6.5250 - val_acc: 0.0028\n",
      "Epoch 32/50\n",
      "30400/30400 [==============================] - 4s 126us/step - loss: 101.8456 - mean_absolute_error: 6.6527 - acc: 0.0031 - val_loss: 92.6480 - val_mean_absolute_error: 6.3151 - val_acc: 0.0028\n",
      "Epoch 33/50\n",
      "30400/30400 [==============================] - 2s 82us/step - loss: 100.5026 - mean_absolute_error: 6.5647 - acc: 0.0032 - val_loss: 93.5131 - val_mean_absolute_error: 6.1225 - val_acc: 0.0029\n",
      "Epoch 34/50\n",
      "30400/30400 [==============================] - 3s 84us/step - loss: 96.3850 - mean_absolute_error: 6.3972 - acc: 0.0036 - val_loss: 95.9705 - val_mean_absolute_error: 6.4563 - val_acc: 0.0029\n",
      "Epoch 35/50\n",
      "30400/30400 [==============================] - 3s 83us/step - loss: 95.6469 - mean_absolute_error: 6.3593 - acc: 0.0036 - val_loss: 91.5064 - val_mean_absolute_error: 6.6120 - val_acc: 0.0022\n",
      "Epoch 36/50\n",
      "30400/30400 [==============================] - 3s 102us/step - loss: 94.8388 - mean_absolute_error: 6.3487 - acc: 0.0033 - val_loss: 85.2201 - val_mean_absolute_error: 6.1736 - val_acc: 0.0026\n",
      "Epoch 37/50\n",
      "30400/30400 [==============================] - 3s 108us/step - loss: 94.7963 - mean_absolute_error: 6.3348 - acc: 0.0035 - val_loss: 88.7165 - val_mean_absolute_error: 6.3998 - val_acc: 0.0020\n",
      "Epoch 38/50\n",
      "30400/30400 [==============================] - 2s 79us/step - loss: 92.7560 - mean_absolute_error: 6.2288 - acc: 0.0039 - val_loss: 84.8677 - val_mean_absolute_error: 5.9342 - val_acc: 0.0034\n",
      "Epoch 39/50\n",
      "30400/30400 [==============================] - 4s 127us/step - loss: 91.4064 - mean_absolute_error: 6.1698 - acc: 0.0036 - val_loss: 84.9973 - val_mean_absolute_error: 6.2084 - val_acc: 0.0034\n",
      "Epoch 40/50\n",
      "30400/30400 [==============================] - 4s 137us/step - loss: 90.1096 - mean_absolute_error: 6.1144 - acc: 0.0043 - val_loss: 84.1545 - val_mean_absolute_error: 6.2736 - val_acc: 0.0034\n",
      "Epoch 41/50\n",
      "30400/30400 [==============================] - 3s 98us/step - loss: 88.9822 - mean_absolute_error: 6.0638 - acc: 0.0041 - val_loss: 78.6235 - val_mean_absolute_error: 5.7604 - val_acc: 0.0033\n",
      "Epoch 42/50\n",
      "30400/30400 [==============================] - 3s 99us/step - loss: 87.6182 - mean_absolute_error: 5.9742 - acc: 0.0036 - val_loss: 85.2205 - val_mean_absolute_error: 6.1512 - val_acc: 0.0033\n",
      "Epoch 43/50\n",
      "30400/30400 [==============================] - 3s 103us/step - loss: 87.1283 - mean_absolute_error: 5.9373 - acc: 0.0042 - val_loss: 85.3721 - val_mean_absolute_error: 5.7740 - val_acc: 0.0034\n",
      "Epoch 44/50\n",
      "30400/30400 [==============================] - 3s 92us/step - loss: 85.0891 - mean_absolute_error: 5.8762 - acc: 0.0043 - val_loss: 84.2410 - val_mean_absolute_error: 5.8609 - val_acc: 0.0043\n",
      "Epoch 45/50\n",
      "30400/30400 [==============================] - 3s 87us/step - loss: 84.8421 - mean_absolute_error: 5.8850 - acc: 0.0040 - val_loss: 75.3753 - val_mean_absolute_error: 5.6002 - val_acc: 0.0036\n",
      "Epoch 46/50\n",
      "30400/30400 [==============================] - 3s 103us/step - loss: 83.2296 - mean_absolute_error: 5.7829 - acc: 0.0040 - val_loss: 90.2293 - val_mean_absolute_error: 6.0024 - val_acc: 0.0032\n",
      "Epoch 47/50\n",
      "30400/30400 [==============================] - 3s 91us/step - loss: 82.9966 - mean_absolute_error: 5.7839 - acc: 0.0039 - val_loss: 76.2512 - val_mean_absolute_error: 5.5790 - val_acc: 0.0041\n",
      "Epoch 48/50\n",
      "30400/30400 [==============================] - 3s 103us/step - loss: 81.4382 - mean_absolute_error: 5.7114 - acc: 0.0041 - val_loss: 76.8560 - val_mean_absolute_error: 5.3910 - val_acc: 0.0037\n",
      "Epoch 49/50\n",
      "30400/30400 [==============================] - 3s 84us/step - loss: 81.2426 - mean_absolute_error: 5.6756 - acc: 0.0042 - val_loss: 73.2686 - val_mean_absolute_error: 5.5980 - val_acc: 0.0030\n",
      "Epoch 50/50\n",
      "30400/30400 [==============================] - 3s 99us/step - loss: 80.5620 - mean_absolute_error: 5.6561 - acc: 0.0041 - val_loss: 79.4500 - val_mean_absolute_error: 5.6985 - val_acc: 0.0030\n"
     ]
    },
    {
     "data": {
      "image/png": "[encoded data removed]",
      "text/plain": [
       "<Figure size 432x288 with 1 Axes>"
      ]
     },
     "metadata": {
      "needs_background": "light"
     },
     "output_type": "display_data"
    }
   ],
   "source": [
    "# train model\n",
    "log = regressor.fit(X_train,y_train)\n",
    "\n",
    "# loss plot\n",
    "plt.plot(log.history['loss'])\n",
    "plt.plot(log.history['val_loss'])\n",
    "plt.title('Model Loss')\n",
    "plt.ylabel('loss')\n",
    "plt.xlabel('epoch')\n",
    "plt.legend(['train', 'validation'], loc='upper right')\n",
    "plt.show()"
   ]
  },
  {
   "cell_type": "code",
   "execution_count": 13,
   "metadata": {},
   "outputs": [],
   "source": [
    "# make predictions\n",
    "y_pred = regressor.predict(X_test)"
   ]
  },
  {
   "cell_type": "code",
   "execution_count": 19,
   "metadata": {},
   "outputs": [
    {
     "ename": "ValueError",
     "evalue": "Image size of 294132x61559 pixels is too large. It must be less than 2^16 in each direction.",
     "output_type": "error",
     "traceback": [
      "\u001b[1;31m---------------------------------------------------------------------------\u001b[0m",
      "\u001b[1;31mValueError\u001b[0m                                Traceback (most recent call last)",
      "\u001b[1;32m~\\Anaconda3\\lib\\site-packages\\IPython\\core\\formatters.py\u001b[0m in \u001b[0;36m__call__\u001b[1;34m(self, obj)\u001b[0m\n\u001b[0;32m    339\u001b[0m                 \u001b[1;32mpass\u001b[0m\u001b[1;33m\u001b[0m\u001b[1;33m\u001b[0m\u001b[0m\n\u001b[0;32m    340\u001b[0m             \u001b[1;32melse\u001b[0m\u001b[1;33m:\u001b[0m\u001b[1;33m\u001b[0m\u001b[1;33m\u001b[0m\u001b[0m\n\u001b[1;32m--> 341\u001b[1;33m                 \u001b[1;32mreturn\u001b[0m \u001b[0mprinter\u001b[0m\u001b[1;33m(\u001b[0m\u001b[0mobj\u001b[0m\u001b[1;33m)\u001b[0m\u001b[1;33m\u001b[0m\u001b[1;33m\u001b[0m\u001b[0m\n\u001b[0m\u001b[0;32m    342\u001b[0m             \u001b[1;31m# Finally look for special method names\u001b[0m\u001b[1;33m\u001b[0m\u001b[1;33m\u001b[0m\u001b[1;33m\u001b[0m\u001b[0m\n\u001b[0;32m    343\u001b[0m             \u001b[0mmethod\u001b[0m \u001b[1;33m=\u001b[0m \u001b[0mget_real_method\u001b[0m\u001b[1;33m(\u001b[0m\u001b[0mobj\u001b[0m\u001b[1;33m,\u001b[0m \u001b[0mself\u001b[0m\u001b[1;33m.\u001b[0m\u001b[0mprint_method\u001b[0m\u001b[1;33m)\u001b[0m\u001b[1;33m\u001b[0m\u001b[1;33m\u001b[0m\u001b[0m\n",
      "\u001b[1;32m~\\Anaconda3\\lib\\site-packages\\IPython\\core\\pylabtools.py\u001b[0m in \u001b[0;36m<lambda>\u001b[1;34m(fig)\u001b[0m\n\u001b[0;32m    242\u001b[0m \u001b[1;33m\u001b[0m\u001b[0m\n\u001b[0;32m    243\u001b[0m     \u001b[1;32mif\u001b[0m \u001b[1;34m'png'\u001b[0m \u001b[1;32min\u001b[0m \u001b[0mformats\u001b[0m\u001b[1;33m:\u001b[0m\u001b[1;33m\u001b[0m\u001b[1;33m\u001b[0m\u001b[0m\n\u001b[1;32m--> 244\u001b[1;33m         \u001b[0mpng_formatter\u001b[0m\u001b[1;33m.\u001b[0m\u001b[0mfor_type\u001b[0m\u001b[1;33m(\u001b[0m\u001b[0mFigure\u001b[0m\u001b[1;33m,\u001b[0m \u001b[1;32mlambda\u001b[0m \u001b[0mfig\u001b[0m\u001b[1;33m:\u001b[0m \u001b[0mprint_figure\u001b[0m\u001b[1;33m(\u001b[0m\u001b[0mfig\u001b[0m\u001b[1;33m,\u001b[0m \u001b[1;34m'png'\u001b[0m\u001b[1;33m,\u001b[0m \u001b[1;33m**\u001b[0m\u001b[0mkwargs\u001b[0m\u001b[1;33m)\u001b[0m\u001b[1;33m)\u001b[0m\u001b[1;33m\u001b[0m\u001b[1;33m\u001b[0m\u001b[0m\n\u001b[0m\u001b[0;32m    245\u001b[0m     \u001b[1;32mif\u001b[0m \u001b[1;34m'retina'\u001b[0m \u001b[1;32min\u001b[0m \u001b[0mformats\u001b[0m \u001b[1;32mor\u001b[0m \u001b[1;34m'png2x'\u001b[0m \u001b[1;32min\u001b[0m \u001b[0mformats\u001b[0m\u001b[1;33m:\u001b[0m\u001b[1;33m\u001b[0m\u001b[1;33m\u001b[0m\u001b[0m\n\u001b[0;32m    246\u001b[0m         \u001b[0mpng_formatter\u001b[0m\u001b[1;33m.\u001b[0m\u001b[0mfor_type\u001b[0m\u001b[1;33m(\u001b[0m\u001b[0mFigure\u001b[0m\u001b[1;33m,\u001b[0m \u001b[1;32mlambda\u001b[0m \u001b[0mfig\u001b[0m\u001b[1;33m:\u001b[0m \u001b[0mretina_figure\u001b[0m\u001b[1;33m(\u001b[0m\u001b[0mfig\u001b[0m\u001b[1;33m,\u001b[0m \u001b[1;33m**\u001b[0m\u001b[0mkwargs\u001b[0m\u001b[1;33m)\u001b[0m\u001b[1;33m)\u001b[0m\u001b[1;33m\u001b[0m\u001b[1;33m\u001b[0m\u001b[0m\n",
      "\u001b[1;32m~\\Anaconda3\\lib\\site-packages\\IPython\\core\\pylabtools.py\u001b[0m in \u001b[0;36mprint_figure\u001b[1;34m(fig, fmt, bbox_inches, **kwargs)\u001b[0m\n\u001b[0;32m    126\u001b[0m \u001b[1;33m\u001b[0m\u001b[0m\n\u001b[0;32m    127\u001b[0m     \u001b[0mbytes_io\u001b[0m \u001b[1;33m=\u001b[0m \u001b[0mBytesIO\u001b[0m\u001b[1;33m(\u001b[0m\u001b[1;33m)\u001b[0m\u001b[1;33m\u001b[0m\u001b[1;33m\u001b[0m\u001b[0m\n\u001b[1;32m--> 128\u001b[1;33m     \u001b[0mfig\u001b[0m\u001b[1;33m.\u001b[0m\u001b[0mcanvas\u001b[0m\u001b[1;33m.\u001b[0m\u001b[0mprint_figure\u001b[0m\u001b[1;33m(\u001b[0m\u001b[0mbytes_io\u001b[0m\u001b[1;33m,\u001b[0m \u001b[1;33m**\u001b[0m\u001b[0mkw\u001b[0m\u001b[1;33m)\u001b[0m\u001b[1;33m\u001b[0m\u001b[1;33m\u001b[0m\u001b[0m\n\u001b[0m\u001b[0;32m    129\u001b[0m     \u001b[0mdata\u001b[0m \u001b[1;33m=\u001b[0m \u001b[0mbytes_io\u001b[0m\u001b[1;33m.\u001b[0m\u001b[0mgetvalue\u001b[0m\u001b[1;33m(\u001b[0m\u001b[1;33m)\u001b[0m\u001b[1;33m\u001b[0m\u001b[1;33m\u001b[0m\u001b[0m\n\u001b[0;32m    130\u001b[0m     \u001b[1;32mif\u001b[0m \u001b[0mfmt\u001b[0m \u001b[1;33m==\u001b[0m \u001b[1;34m'svg'\u001b[0m\u001b[1;33m:\u001b[0m\u001b[1;33m\u001b[0m\u001b[1;33m\u001b[0m\u001b[0m\n",
      "\u001b[1;32m~\\Anaconda3\\lib\\site-packages\\matplotlib\\backend_bases.py\u001b[0m in \u001b[0;36mprint_figure\u001b[1;34m(self, filename, dpi, facecolor, edgecolor, orientation, format, **kwargs)\u001b[0m\n\u001b[0;32m   2261\u001b[0m                 \u001b[0morientation\u001b[0m\u001b[1;33m=\u001b[0m\u001b[0morientation\u001b[0m\u001b[1;33m,\u001b[0m\u001b[1;33m\u001b[0m\u001b[1;33m\u001b[0m\u001b[0m\n\u001b[0;32m   2262\u001b[0m                 \u001b[0mbbox_inches_restore\u001b[0m\u001b[1;33m=\u001b[0m\u001b[0m_bbox_inches_restore\u001b[0m\u001b[1;33m,\u001b[0m\u001b[1;33m\u001b[0m\u001b[1;33m\u001b[0m\u001b[0m\n\u001b[1;32m-> 2263\u001b[1;33m                 **kwargs)\n\u001b[0m\u001b[0;32m   2264\u001b[0m         \u001b[1;32mfinally\u001b[0m\u001b[1;33m:\u001b[0m\u001b[1;33m\u001b[0m\u001b[1;33m\u001b[0m\u001b[0m\n\u001b[0;32m   2265\u001b[0m             \u001b[1;32mif\u001b[0m \u001b[0mbbox_inches\u001b[0m \u001b[1;32mand\u001b[0m \u001b[0mrestore_bbox\u001b[0m\u001b[1;33m:\u001b[0m\u001b[1;33m\u001b[0m\u001b[1;33m\u001b[0m\u001b[0m\n",
      "\u001b[1;32m~\\Anaconda3\\lib\\site-packages\\matplotlib\\backends\\backend_agg.py\u001b[0m in \u001b[0;36mprint_png\u001b[1;34m(self, filename_or_obj, *args, **kwargs)\u001b[0m\n\u001b[0;32m    515\u001b[0m \u001b[1;33m\u001b[0m\u001b[0m\n\u001b[0;32m    516\u001b[0m     \u001b[1;32mdef\u001b[0m \u001b[0mprint_png\u001b[0m\u001b[1;33m(\u001b[0m\u001b[0mself\u001b[0m\u001b[1;33m,\u001b[0m \u001b[0mfilename_or_obj\u001b[0m\u001b[1;33m,\u001b[0m \u001b[1;33m*\u001b[0m\u001b[0margs\u001b[0m\u001b[1;33m,\u001b[0m \u001b[1;33m**\u001b[0m\u001b[0mkwargs\u001b[0m\u001b[1;33m)\u001b[0m\u001b[1;33m:\u001b[0m\u001b[1;33m\u001b[0m\u001b[1;33m\u001b[0m\u001b[0m\n\u001b[1;32m--> 517\u001b[1;33m         \u001b[0mFigureCanvasAgg\u001b[0m\u001b[1;33m.\u001b[0m\u001b[0mdraw\u001b[0m\u001b[1;33m(\u001b[0m\u001b[0mself\u001b[0m\u001b[1;33m)\u001b[0m\u001b[1;33m\u001b[0m\u001b[1;33m\u001b[0m\u001b[0m\n\u001b[0m\u001b[0;32m    518\u001b[0m         \u001b[0mrenderer\u001b[0m \u001b[1;33m=\u001b[0m \u001b[0mself\u001b[0m\u001b[1;33m.\u001b[0m\u001b[0mget_renderer\u001b[0m\u001b[1;33m(\u001b[0m\u001b[1;33m)\u001b[0m\u001b[1;33m\u001b[0m\u001b[1;33m\u001b[0m\u001b[0m\n\u001b[0;32m    519\u001b[0m         \u001b[0moriginal_dpi\u001b[0m \u001b[1;33m=\u001b[0m \u001b[0mrenderer\u001b[0m\u001b[1;33m.\u001b[0m\u001b[0mdpi\u001b[0m\u001b[1;33m\u001b[0m\u001b[1;33m\u001b[0m\u001b[0m\n",
      "\u001b[1;32m~\\Anaconda3\\lib\\site-packages\\matplotlib\\backends\\backend_agg.py\u001b[0m in \u001b[0;36mdraw\u001b[1;34m(self)\u001b[0m\n\u001b[0;32m    427\u001b[0m         \u001b[0mDraw\u001b[0m \u001b[0mthe\u001b[0m \u001b[0mfigure\u001b[0m \u001b[0musing\u001b[0m \u001b[0mthe\u001b[0m \u001b[0mrenderer\u001b[0m\u001b[1;33m\u001b[0m\u001b[1;33m\u001b[0m\u001b[0m\n\u001b[0;32m    428\u001b[0m         \"\"\"\n\u001b[1;32m--> 429\u001b[1;33m         \u001b[0mself\u001b[0m\u001b[1;33m.\u001b[0m\u001b[0mrenderer\u001b[0m \u001b[1;33m=\u001b[0m \u001b[0mself\u001b[0m\u001b[1;33m.\u001b[0m\u001b[0mget_renderer\u001b[0m\u001b[1;33m(\u001b[0m\u001b[0mcleared\u001b[0m\u001b[1;33m=\u001b[0m\u001b[1;32mTrue\u001b[0m\u001b[1;33m)\u001b[0m\u001b[1;33m\u001b[0m\u001b[1;33m\u001b[0m\u001b[0m\n\u001b[0m\u001b[0;32m    430\u001b[0m         \u001b[1;31m# acquire a lock on the shared font cache\u001b[0m\u001b[1;33m\u001b[0m\u001b[1;33m\u001b[0m\u001b[1;33m\u001b[0m\u001b[0m\n\u001b[0;32m    431\u001b[0m         \u001b[0mRendererAgg\u001b[0m\u001b[1;33m.\u001b[0m\u001b[0mlock\u001b[0m\u001b[1;33m.\u001b[0m\u001b[0macquire\u001b[0m\u001b[1;33m(\u001b[0m\u001b[1;33m)\u001b[0m\u001b[1;33m\u001b[0m\u001b[1;33m\u001b[0m\u001b[0m\n",
      "\u001b[1;32m~\\Anaconda3\\lib\\site-packages\\matplotlib\\backends\\backend_agg.py\u001b[0m in \u001b[0;36mget_renderer\u001b[1;34m(self, cleared)\u001b[0m\n\u001b[0;32m    452\u001b[0m \u001b[1;33m\u001b[0m\u001b[0m\n\u001b[0;32m    453\u001b[0m         \u001b[1;32mif\u001b[0m \u001b[0mneed_new_renderer\u001b[0m\u001b[1;33m:\u001b[0m\u001b[1;33m\u001b[0m\u001b[1;33m\u001b[0m\u001b[0m\n\u001b[1;32m--> 454\u001b[1;33m             \u001b[0mself\u001b[0m\u001b[1;33m.\u001b[0m\u001b[0mrenderer\u001b[0m \u001b[1;33m=\u001b[0m \u001b[0mRendererAgg\u001b[0m\u001b[1;33m(\u001b[0m\u001b[0mw\u001b[0m\u001b[1;33m,\u001b[0m \u001b[0mh\u001b[0m\u001b[1;33m,\u001b[0m \u001b[0mself\u001b[0m\u001b[1;33m.\u001b[0m\u001b[0mfigure\u001b[0m\u001b[1;33m.\u001b[0m\u001b[0mdpi\u001b[0m\u001b[1;33m)\u001b[0m\u001b[1;33m\u001b[0m\u001b[1;33m\u001b[0m\u001b[0m\n\u001b[0m\u001b[0;32m    455\u001b[0m             \u001b[0mself\u001b[0m\u001b[1;33m.\u001b[0m\u001b[0m_lastKey\u001b[0m \u001b[1;33m=\u001b[0m \u001b[0mkey\u001b[0m\u001b[1;33m\u001b[0m\u001b[1;33m\u001b[0m\u001b[0m\n\u001b[0;32m    456\u001b[0m         \u001b[1;32melif\u001b[0m \u001b[0mcleared\u001b[0m\u001b[1;33m:\u001b[0m\u001b[1;33m\u001b[0m\u001b[1;33m\u001b[0m\u001b[0m\n",
      "\u001b[1;32m~\\Anaconda3\\lib\\site-packages\\matplotlib\\backends\\backend_agg.py\u001b[0m in \u001b[0;36m__init__\u001b[1;34m(self, width, height, dpi)\u001b[0m\n\u001b[0;32m     99\u001b[0m         \u001b[0mself\u001b[0m\u001b[1;33m.\u001b[0m\u001b[0mwidth\u001b[0m \u001b[1;33m=\u001b[0m \u001b[0mwidth\u001b[0m\u001b[1;33m\u001b[0m\u001b[1;33m\u001b[0m\u001b[0m\n\u001b[0;32m    100\u001b[0m         \u001b[0mself\u001b[0m\u001b[1;33m.\u001b[0m\u001b[0mheight\u001b[0m \u001b[1;33m=\u001b[0m \u001b[0mheight\u001b[0m\u001b[1;33m\u001b[0m\u001b[1;33m\u001b[0m\u001b[0m\n\u001b[1;32m--> 101\u001b[1;33m         \u001b[0mself\u001b[0m\u001b[1;33m.\u001b[0m\u001b[0m_renderer\u001b[0m \u001b[1;33m=\u001b[0m \u001b[0m_RendererAgg\u001b[0m\u001b[1;33m(\u001b[0m\u001b[0mint\u001b[0m\u001b[1;33m(\u001b[0m\u001b[0mwidth\u001b[0m\u001b[1;33m)\u001b[0m\u001b[1;33m,\u001b[0m \u001b[0mint\u001b[0m\u001b[1;33m(\u001b[0m\u001b[0mheight\u001b[0m\u001b[1;33m)\u001b[0m\u001b[1;33m,\u001b[0m \u001b[0mdpi\u001b[0m\u001b[1;33m)\u001b[0m\u001b[1;33m\u001b[0m\u001b[1;33m\u001b[0m\u001b[0m\n\u001b[0m\u001b[0;32m    102\u001b[0m         \u001b[0mself\u001b[0m\u001b[1;33m.\u001b[0m\u001b[0m_filter_renderers\u001b[0m \u001b[1;33m=\u001b[0m \u001b[1;33m[\u001b[0m\u001b[1;33m]\u001b[0m\u001b[1;33m\u001b[0m\u001b[1;33m\u001b[0m\u001b[0m\n\u001b[0;32m    103\u001b[0m \u001b[1;33m\u001b[0m\u001b[0m\n",
      "\u001b[1;31mValueError\u001b[0m: Image size of 294132x61559 pixels is too large. It must be less than 2^16 in each direction."
     ]
    },
    {
     "data": {
      "text/plain": [
       "<Figure size 864x396 with 3 Axes>"
      ]
     },
     "metadata": {
      "needs_background": "light"
     },
     "output_type": "display_data"
    }
   ],
   "source": [
    "# plot predicitons\n",
    "# configure scatterplot\n",
    "fig, (ax1, ax2) = plt.subplots(1, 2, figsize=(12,5.5))\n",
    "fig.subplots_adjust(wspace=0.25)\n",
    "ax1.scatter(y_test, y_pred,5)\n",
    "ax1.plot([y_test.min(), y_test.max()], [y_test.min(), y_test.max()], 'k--', lw=4)\n",
    "ax1.set_xlabel('Measured')\n",
    "ax1.set_ylabel('Predicted')\n",
    "ax1.set_ylim([0,0.3])\n",
    "ax1.set_xlim([0,0.31])\n",
    "ax1.set_title('Measured vs Prediction Scatterplot')\n",
    "\n",
    "# configure 2d histogram\n",
    "# cmap initialization\n",
    "#heatMap = cm.get_cmap('hot_r',9500)\n",
    "#newColors = heatMap(np.linspace(0, 1,9500))\n",
    "#grey = np.array([0.941, 0.941, 0.941,1])\n",
    "#newColors[1:19,:] = grey\n",
    "#newHeatMap = ListedColormap(newColors)\n",
    "# histogram initialization\n",
    "hist = ax2.hist2d(y_test,y_pred,bins=[10,10],cmap='hot_r')\n",
    "ax2.set_ylim([0,0.3])\n",
    "ax2.set_xlim([0,0.27])\n",
    "fig.colorbar(hist[3], ax = ax2)\n",
    "ax2.set_xlabel('Measured')\n",
    "ax2.set_ylabel('Predicted')\n",
    "ax2.set_title('Measured vs Prediction Histogram')\n",
    "\n",
    "plt.show()"
   ]
  },
  {
   "cell_type": "code",
   "execution_count": null,
   "metadata": {
    "collapsed": true
   },
   "outputs": [],
   "source": []
  }
 ],
 "metadata": {
  "kernelspec": {
   "display_name": "Python 3",
   "language": "python",
   "name": "python3"
  },
  "language_info": {
   "codemirror_mode": {
    "name": "ipython",
    "version": 3
   },
   "file_extension": ".py",
   "mimetype": "text/x-python",
   "name": "python",
   "nbconvert_exporter": "python",
   "pygments_lexer": "ipython3",
   "version": "3.7.3"
  }
 },
 "nbformat": 4,
 "nbformat_minor": 2
}
